{
  "nbformat": 4,
  "nbformat_minor": 0,
  "metadata": {
    "kernelspec": {
      "display_name": "Python 3",
      "language": "python",
      "name": "python3"
    },
    "language_info": {
      "codemirror_mode": {
        "name": "ipython",
        "version": 3
      },
      "file_extension": ".py",
      "mimetype": "text/x-python",
      "name": "python",
      "nbconvert_exporter": "python",
      "pygments_lexer": "ipython3",
      "version": "3.6.6"
    },
    "colab": {
      "name": "211012_3.5-classifying-newswires.ipynb의 사본",
      "provenance": [],
      "include_colab_link": true
    }
  },
  "cells": [
    {
      "cell_type": "markdown",
      "metadata": {
        "id": "view-in-github",
        "colab_type": "text"
      },
      "source": [
        "<a href=\"https://colab.research.google.com/github/gani0325/2021/blob/main/Deeplearning/211012_3_5_classifying_newswires_ipynb%EC%9D%98_%EC%82%AC%EB%B3%B8.ipynb\" target=\"_parent\"><img src=\"https://colab.research.google.com/assets/colab-badge.svg\" alt=\"Open In Colab\"/></a>"
      ]
    },
    {
      "cell_type": "markdown",
      "metadata": {
        "id": "641Orjek6qmo"
      },
      "source": [
        "이 노트북은 케라스 창시자에게 배우는 딥러닝 책을 참고하였습니다"
      ]
    },
    {
      "cell_type": "code",
      "metadata": {
        "id": "808VW5hg6kkP",
        "colab": {
          "base_uri": "https://localhost:8080/",
          "height": 35
        },
        "outputId": "d40ab7dc-1887-44de-ef0f-f81f0068ef67"
      },
      "source": [
        "import keras\n",
        "keras.__version__"
      ],
      "execution_count": 1,
      "outputs": [
        {
          "output_type": "execute_result",
          "data": {
            "application/vnd.google.colaboratory.intrinsic+json": {
              "type": "string"
            },
            "text/plain": [
              "'2.6.0'"
            ]
          },
          "metadata": {},
          "execution_count": 1
        }
      ]
    },
    {
      "cell_type": "markdown",
      "metadata": {
        "id": "Il2hT6Gx6kkT"
      },
      "source": [
        "# 뉴스 기사 분류: 다중 분류 문제\n",
        "\n",
        "이 노트북은 [케라스 창시자에게 배우는 딥러닝](https://tensorflow.blog/%EC%BC%80%EB%9D%BC%EC%8A%A4-%EB%94%A5%EB%9F%AC%EB%8B%9D/) 책의 3장 5절의 코드 예제입니다. 책에는 더 많은 내용과 그림이 있습니다. 이 노트북에는 소스 코드에 관련된 설명만 포함합니다.\n",
        "\n",
        "----\n",
        "\n",
        "이전 섹션에서 완전 연결된 신경망을 사용해 벡터 입력을 어떻게 두 개의 클래스로 분류하는지 보았습니다. 두 개 이상의 클래스가 있을 때는 어떻게 해야 할까요?\n",
        "\n",
        "이 절에서 로이터 뉴스를 46개의 상호 배타적인 토픽으로 분류하는 신경망을 만들어 보겠습니다. 클래스가 많기 때문에 이 문제는 다중 분류의 예입니다. 각 데이터 포인트가 정확히 하나의 범주로 분류되기 때문에 좀 더 정확히 말하면 단일 레이블 다중 분류 문제입니다. 각 데이터 포인트가 여러 개의 범주(가령, 토픽)에 속할 수 있다면 이런 문제는 다중 레이블 다중 분류의 문제가 됩니다."
      ]
    },
    {
      "cell_type": "markdown",
      "metadata": {
        "id": "7sN1Sh5E6kkV"
      },
      "source": [
        "## 로이터 데이터셋\n",
        "\n",
        "1986년에 로이터에서 공개한 짧은 뉴스 기사와 토픽의 집합인 로이터 데이터셋을 사용하겠습니다. 이 데이터셋은 텍스트 분류를 위해 널리 사용되는 간단한 데이터셋입니다. 46개의 토픽이 있으며 어떤 토픽은 다른 것에 비해 데이터가 많습니다. 각 토픽은 훈련 세트에 최소한 10개의 샘플을 가지고 있습니다.\n",
        "\n",
        "IMDB와 MNIST와 마찬가지로 로이터 데이터셋은 케라스에 포함되어 있습니다. 한 번 살펴보죠:"
      ]
    },
    {
      "cell_type": "code",
      "metadata": {
        "id": "ryM6tBwo6kkW",
        "colab": {
          "base_uri": "https://localhost:8080/"
        },
        "outputId": "e95ce0b9-4247-4b63-d31c-846e8f2cdfef"
      },
      "source": [
        "from keras.datasets import reuters\n",
        "\n",
        "(train_data, train_labels), (test_data, test_labels) = reuters.load_data(num_words=10000)"
      ],
      "execution_count": 2,
      "outputs": [
        {
          "output_type": "stream",
          "name": "stdout",
          "text": [
            "Downloading data from https://storage.googleapis.com/tensorflow/tf-keras-datasets/reuters.npz\n",
            "2113536/2110848 [==============================] - 0s 0us/step\n",
            "2121728/2110848 [==============================] - 0s 0us/step\n"
          ]
        }
      ]
    },
    {
      "cell_type": "markdown",
      "metadata": {
        "id": "E2Tw4z9d6kkW"
      },
      "source": [
        "IMDB 데이터셋에서처럼 num_words=10000 매개변수는 데이터에서 가장 자주 등장하는 단어 10,000개로 제한합니다.\n",
        "\n",
        "여기에는 8,982개의 훈련 샘플과 2,246개의 테스트 샘플이 있습니다:"
      ]
    },
    {
      "cell_type": "code",
      "metadata": {
        "id": "wG7uLkiI6kkX",
        "colab": {
          "base_uri": "https://localhost:8080/"
        },
        "outputId": "72104ff0-6497-477f-cdfe-13091918a897"
      },
      "source": [
        "len(train_data)"
      ],
      "execution_count": 3,
      "outputs": [
        {
          "output_type": "execute_result",
          "data": {
            "text/plain": [
              "8982"
            ]
          },
          "metadata": {},
          "execution_count": 3
        }
      ]
    },
    {
      "cell_type": "code",
      "metadata": {
        "id": "143digLJ6kkX",
        "colab": {
          "base_uri": "https://localhost:8080/"
        },
        "outputId": "19f0bc74-113b-4ca9-83f1-e06d75c08a4f"
      },
      "source": [
        "len(test_data)"
      ],
      "execution_count": 4,
      "outputs": [
        {
          "output_type": "execute_result",
          "data": {
            "text/plain": [
              "2246"
            ]
          },
          "metadata": {},
          "execution_count": 4
        }
      ]
    },
    {
      "cell_type": "markdown",
      "metadata": {
        "id": "nHr1EZBw6kkY"
      },
      "source": [
        "IMDB 리뷰처럼 각 샘플은 정수 리스트입니다(단어 인덱스):"
      ]
    },
    {
      "cell_type": "code",
      "metadata": {
        "id": "0l6VLo8o6kkY",
        "colab": {
          "base_uri": "https://localhost:8080/"
        },
        "outputId": "20370b69-6f2d-4915-b890-b011b5a99eb8"
      },
      "source": [
        "train_data[10]"
      ],
      "execution_count": 5,
      "outputs": [
        {
          "output_type": "execute_result",
          "data": {
            "text/plain": [
              "[1,\n",
              " 245,\n",
              " 273,\n",
              " 207,\n",
              " 156,\n",
              " 53,\n",
              " 74,\n",
              " 160,\n",
              " 26,\n",
              " 14,\n",
              " 46,\n",
              " 296,\n",
              " 26,\n",
              " 39,\n",
              " 74,\n",
              " 2979,\n",
              " 3554,\n",
              " 14,\n",
              " 46,\n",
              " 4689,\n",
              " 4329,\n",
              " 86,\n",
              " 61,\n",
              " 3499,\n",
              " 4795,\n",
              " 14,\n",
              " 61,\n",
              " 451,\n",
              " 4329,\n",
              " 17,\n",
              " 12]"
            ]
          },
          "metadata": {},
          "execution_count": 5
        }
      ]
    },
    {
      "cell_type": "markdown",
      "metadata": {
        "id": "D-tFN0fx6kkZ"
      },
      "source": [
        "궁금한 경우를 위해 어떻게 단어로 디코딩하는지 알아보겠습니다:"
      ]
    },
    {
      "cell_type": "code",
      "metadata": {
        "id": "N8Z-pvla6kka",
        "colab": {
          "base_uri": "https://localhost:8080/"
        },
        "outputId": "4ea86f6d-ce1d-4825-e94c-023a14edb107"
      },
      "source": [
        "word_index = reuters.get_word_index()\n",
        "reverse_word_index = dict([(value, key) for (key, value) in word_index.items()])\n",
        "# 0, 1, 2는 '패딩', '문서 시작', '사전에 없음'을 위한 인덱스이므로 3을 뺍니다\n",
        "decoded_newswire = ' '.join([reverse_word_index.get(i - 3, '?') for i in train_data[0]])"
      ],
      "execution_count": 6,
      "outputs": [
        {
          "output_type": "stream",
          "name": "stdout",
          "text": [
            "Downloading data from https://storage.googleapis.com/tensorflow/tf-keras-datasets/reuters_word_index.json\n",
            "557056/550378 [==============================] - 0s 0us/step\n",
            "565248/550378 [==============================] - 0s 0us/step\n"
          ]
        }
      ]
    },
    {
      "cell_type": "code",
      "metadata": {
        "id": "a0t_ZdAR6kka",
        "outputId": "142fc0a9-4de5-444e-9f51-c27bd0af24ed"
      },
      "source": [
        "decoded_newswire"
      ],
      "execution_count": null,
      "outputs": [
        {
          "data": {
            "text/plain": [
              "'? ? ? said as a result of its december acquisition of space co it expects earnings per share in 1987 of 1 15 to 1 30 dlrs per share up from 70 cts in 1986 the company said pretax net should rise to nine to 10 mln dlrs from six mln dlrs in 1986 and rental operation revenues to 19 to 22 mln dlrs from 12 5 mln dlrs it said cash flow per share this year should be 2 50 to three dlrs reuter 3'"
            ]
          },
          "execution_count": 7,
          "metadata": {},
          "output_type": "execute_result"
        }
      ]
    },
    {
      "cell_type": "markdown",
      "metadata": {
        "id": "Uvm5ih7p6kka"
      },
      "source": [
        "샘플에 연결된 레이블은 토픽의 인덱스로 0과 45 사이의 정수입니다."
      ]
    },
    {
      "cell_type": "code",
      "metadata": {
        "id": "Tj3DG_Q_6kkb",
        "colab": {
          "base_uri": "https://localhost:8080/"
        },
        "outputId": "68f0854f-489a-412f-cca9-5fff7725f75a"
      },
      "source": [
        "train_labels[10]"
      ],
      "execution_count": 7,
      "outputs": [
        {
          "output_type": "execute_result",
          "data": {
            "text/plain": [
              "3"
            ]
          },
          "metadata": {},
          "execution_count": 7
        }
      ]
    },
    {
      "cell_type": "markdown",
      "metadata": {
        "id": "fyS4YPKb6kkb"
      },
      "source": [
        "## 데이터 준비\n",
        "\n",
        "이전의 예제와 동일한 코드를 사용해서 데이터를 벡터로 변환합니다:"
      ]
    },
    {
      "cell_type": "code",
      "metadata": {
        "id": "9luh77BS6kkb"
      },
      "source": [
        "import numpy as np\n",
        "\n",
        "def vectorize_sequences(sequences, dimension=10000):\n",
        "    results = np.zeros((len(sequences), dimension))\n",
        "    for i, sequence in enumerate(sequences):\n",
        "        results[i, sequence] = 1.\n",
        "    return results\n",
        "\n",
        "# 훈련 데이터 벡터 변환\n",
        "x_train = vectorize_sequences(train_data)\n",
        "# 테스트 데이터 벡터 변환\n",
        "x_test = vectorize_sequences(test_data)"
      ],
      "execution_count": 8,
      "outputs": []
    },
    {
      "cell_type": "markdown",
      "metadata": {
        "id": "7c2EDpac6kkc"
      },
      "source": [
        "레이블을 벡터로 바꾸는 방법은 두 가지입니다. 레이블의 리스트를 정수 텐서로 변환하는 것과 원-핫 인코딩을 사용하는 것입니다. 원-핫 인코딩이 범주형 데이터에 널리 사용되기 때문에 범주형 인코딩이라고도 부릅니다. 원-핫 인코딩에 대한 자세한 설명은 6.1절을 참고하세요. 이 경우 레이블의 원-핫 인코딩은 각 레이블의 인덱스 자리는 1이고 나머지는 모두 0인 벡터입니다:"
      ]
    },
    {
      "cell_type": "code",
      "metadata": {
        "id": "4yE8UFDJ6kkc"
      },
      "source": [
        "def to_one_hot(labels, dimension=46):\n",
        "    results = np.zeros((len(labels), dimension))\n",
        "    for i, label in enumerate(labels):\n",
        "        results[i, label] = 1.\n",
        "    return results\n",
        "\n",
        "# 훈련 레이블 벡터 변환\n",
        "one_hot_train_labels = to_one_hot(train_labels)\n",
        "# 테스트 레이블 벡터 변환\n",
        "one_hot_test_labels = to_one_hot(test_labels)"
      ],
      "execution_count": 9,
      "outputs": []
    },
    {
      "cell_type": "markdown",
      "metadata": {
        "id": "Je1A_aOp6kkc"
      },
      "source": [
        "MNIST 예제에서 이미 보았듯이 케라스에는 이를 위한 내장 함수가 있습니다:"
      ]
    },
    {
      "cell_type": "code",
      "metadata": {
        "id": "0_G7rgVc6kkc"
      },
      "source": [
        "from keras.utils.np_utils import to_categorical\n",
        "\n",
        "one_hot_train_labels = to_categorical(train_labels)\n",
        "one_hot_test_labels = to_categorical(test_labels)"
      ],
      "execution_count": 10,
      "outputs": []
    },
    {
      "cell_type": "markdown",
      "metadata": {
        "id": "bgCgmH7c6kkd"
      },
      "source": [
        "## 모델 구성\n",
        "\n",
        "이 토픽 분류 문제는 이전의 영화 리뷰 분류 문제와 비슷해 보입니다. 두 경우 모두 짧은 텍스트를 분류하는 것이죠. 여기에서는 새로운 제약 사항이 추가되었습니다. 출력 클래스의 개수가 2에서 46개로 늘어난 점입니다. 출력 공간의 차원이 훨씬 커졌습니다.\n",
        "\n",
        "이전에 사용했던 것처럼 `Dense` 층을 쌓으면 각 층은 이전 층의 출력에서 제공한 정보만 사용할 수 있습니다. 한 층이 분류 문제에 필요한 일부 정보를 누락하면 그 다음 층에서 이를 복원할 방법이 없습니다. 각 층은 잠재적으로 정보의 병목이 될 수 있습니다. 이전 예제에서 16차원을 가진 중간층을 사용했지만 16차원 공간은 46개의 클래스를 구분하기에 너무 제약이 많을 것 같습니다. 이렇게 규모가 작은 층은 유용한 정보를 완전히 잃게 되는 정보의 병목 지점처럼 동작할 수 있습니다.\n",
        "\n",
        "이런 이유로 좀 더 규모가 큰 층을 사용하겠습니다. 64개의 유닛을 사용해 보죠:"
      ]
    },
    {
      "cell_type": "code",
      "metadata": {
        "id": "TahofHT56kkd"
      },
      "source": [
        "from keras import models\n",
        "from keras import layers\n",
        "\n",
        "model = models.Sequential()\n",
        "model.add(layers.Dense(64, activation='relu', input_shape=(10000,)))\n",
        "model.add(layers.Dense(64, activation='relu'))\n",
        "model.add(layers.Dense(46, activation='softmax'))"
      ],
      "execution_count": 11,
      "outputs": []
    },
    {
      "cell_type": "markdown",
      "metadata": {
        "id": "ObrUWCS86kkf"
      },
      "source": [
        "이 구조에서 주목해야 할 점이 두 가지 있습니다:\n",
        "\n",
        "* 마지막 `Dense` 층의 크기가 46입니다. 각 입력 샘플에 대해서 46차원의 벡터를 출력한다는 뜻입니다. 이 벡터의 각 원소(각 차원)은 각기 다른 출력 클래스가 인코딩된 것입니다.\n",
        "* 마지막 층에 `softmax` 활성화 함수가 사용되었습니다. MNIST 예제에서 이런 방식을 보았습니다. 각 입력 샘플마다 46개의 출력 클래스에 대한 확률 분포를 출력합니다. 즉, 46차원의 출력 벡터를 만들며 `output[i]`는 어떤 샘플이 클래스 `i`에 속할 확률입니다. 46개의 값을 모두 더하면 1이 됩니다.\n",
        "\n",
        "이런 문제에 사용할 최선의 손실 함수는 `categorical_crossentropy`입니다. 이 함수는 두 확률 분포의 사이의 거리를 측정합니다. 여기에서는 네트워크가 출력한 확률 분포와 진짜 레이블의 분포 사이의 거리입니다. 두 분포 사이의 거리를 최소화하면 진짜 레이블에 가능한 가까운 출력을 내도록 모델을 훈련하게 됩니다."
      ]
    },
    {
      "cell_type": "code",
      "metadata": {
        "id": "ZSSglkiA6kkf"
      },
      "source": [
        "model.compile(optimizer='rmsprop',\n",
        "              loss='categorical_crossentropy',\n",
        "              metrics=['accuracy'])"
      ],
      "execution_count": 12,
      "outputs": []
    },
    {
      "cell_type": "markdown",
      "metadata": {
        "id": "ssrW5YYN6kkf"
      },
      "source": [
        "## 훈련 검증\n",
        "\n",
        "훈련 데이터에서 1,000개의 샘플을 따로 떼어서 검증 세트로 사용하겠습니다:"
      ]
    },
    {
      "cell_type": "code",
      "metadata": {
        "id": "IcJ8UT-Y6kkg"
      },
      "source": [
        "x_val = x_train[:1000]\n",
        "partial_x_train = x_train[1000:]\n",
        "\n",
        "y_val = one_hot_train_labels[:1000]\n",
        "partial_y_train = one_hot_train_labels[1000:]"
      ],
      "execution_count": 13,
      "outputs": []
    },
    {
      "cell_type": "markdown",
      "metadata": {
        "id": "UB5SeYB16kkg"
      },
      "source": [
        "이제 20번의 에포크로 모델을 훈련시킵니다:"
      ]
    },
    {
      "cell_type": "code",
      "metadata": {
        "scrolled": false,
        "id": "RhOdCeOu6kkg",
        "colab": {
          "base_uri": "https://localhost:8080/"
        },
        "outputId": "9382320c-0254-4f0f-9d99-fa5d6abd4894"
      },
      "source": [
        "history = model.fit(partial_x_train,\n",
        "                    partial_y_train,\n",
        "                    epochs=20,\n",
        "                    batch_size=512,\n",
        "                    validation_data=(x_val, y_val))"
      ],
      "execution_count": 14,
      "outputs": [
        {
          "output_type": "stream",
          "name": "stdout",
          "text": [
            "Epoch 1/20\n",
            "16/16 [==============================] - 2s 65ms/step - loss: 2.5849 - accuracy: 0.5346 - val_loss: 1.7073 - val_accuracy: 0.6320\n",
            "Epoch 2/20\n",
            "16/16 [==============================] - 1s 51ms/step - loss: 1.3989 - accuracy: 0.7047 - val_loss: 1.2845 - val_accuracy: 0.7220\n",
            "Epoch 3/20\n",
            "16/16 [==============================] - 1s 51ms/step - loss: 1.0319 - accuracy: 0.7791 - val_loss: 1.0987 - val_accuracy: 0.7640\n",
            "Epoch 4/20\n",
            "16/16 [==============================] - 1s 56ms/step - loss: 0.8130 - accuracy: 0.8289 - val_loss: 1.0142 - val_accuracy: 0.7800\n",
            "Epoch 5/20\n",
            "16/16 [==============================] - 1s 59ms/step - loss: 0.6482 - accuracy: 0.8658 - val_loss: 0.9809 - val_accuracy: 0.7900\n",
            "Epoch 6/20\n",
            "16/16 [==============================] - 1s 61ms/step - loss: 0.5225 - accuracy: 0.8924 - val_loss: 0.9101 - val_accuracy: 0.8020\n",
            "Epoch 7/20\n",
            "16/16 [==============================] - 1s 63ms/step - loss: 0.4233 - accuracy: 0.9122 - val_loss: 0.9016 - val_accuracy: 0.8040\n",
            "Epoch 8/20\n",
            "16/16 [==============================] - 1s 60ms/step - loss: 0.3428 - accuracy: 0.9301 - val_loss: 0.8754 - val_accuracy: 0.8060\n",
            "Epoch 9/20\n",
            "16/16 [==============================] - 1s 61ms/step - loss: 0.2824 - accuracy: 0.9386 - val_loss: 0.8832 - val_accuracy: 0.8200\n",
            "Epoch 10/20\n",
            "16/16 [==============================] - 1s 61ms/step - loss: 0.2416 - accuracy: 0.9441 - val_loss: 0.9004 - val_accuracy: 0.8210\n",
            "Epoch 11/20\n",
            "16/16 [==============================] - 1s 61ms/step - loss: 0.2091 - accuracy: 0.9469 - val_loss: 0.9125 - val_accuracy: 0.8130\n",
            "Epoch 12/20\n",
            "16/16 [==============================] - 1s 60ms/step - loss: 0.1857 - accuracy: 0.9534 - val_loss: 0.9398 - val_accuracy: 0.8050\n",
            "Epoch 13/20\n",
            "16/16 [==============================] - 1s 61ms/step - loss: 0.1655 - accuracy: 0.9530 - val_loss: 0.9502 - val_accuracy: 0.8020\n",
            "Epoch 14/20\n",
            "16/16 [==============================] - 1s 61ms/step - loss: 0.1511 - accuracy: 0.9548 - val_loss: 0.9335 - val_accuracy: 0.8170\n",
            "Epoch 15/20\n",
            "16/16 [==============================] - 1s 61ms/step - loss: 0.1407 - accuracy: 0.9572 - val_loss: 1.0103 - val_accuracy: 0.7960\n",
            "Epoch 16/20\n",
            "16/16 [==============================] - 1s 59ms/step - loss: 0.1343 - accuracy: 0.9550 - val_loss: 0.9667 - val_accuracy: 0.8120\n",
            "Epoch 17/20\n",
            "16/16 [==============================] - 1s 61ms/step - loss: 0.1241 - accuracy: 0.9577 - val_loss: 1.0262 - val_accuracy: 0.7930\n",
            "Epoch 18/20\n",
            "16/16 [==============================] - 1s 59ms/step - loss: 0.1199 - accuracy: 0.9575 - val_loss: 1.0546 - val_accuracy: 0.7980\n",
            "Epoch 19/20\n",
            "16/16 [==============================] - 1s 56ms/step - loss: 0.1174 - accuracy: 0.9577 - val_loss: 1.0530 - val_accuracy: 0.8060\n",
            "Epoch 20/20\n",
            "16/16 [==============================] - 1s 59ms/step - loss: 0.1144 - accuracy: 0.9577 - val_loss: 1.0463 - val_accuracy: 0.8070\n"
          ]
        }
      ]
    },
    {
      "cell_type": "markdown",
      "metadata": {
        "id": "YrmNjOSD6kkg"
      },
      "source": [
        "손실과 정확도 곡선을 그려 보죠:"
      ]
    },
    {
      "cell_type": "code",
      "metadata": {
        "id": "9qGqOnOr6kkg"
      },
      "source": [
        "import matplotlib.pyplot as plt"
      ],
      "execution_count": 15,
      "outputs": []
    },
    {
      "cell_type": "code",
      "metadata": {
        "id": "G7i456Mb6kkg",
        "colab": {
          "base_uri": "https://localhost:8080/",
          "height": 295
        },
        "outputId": "709a3331-849d-430e-f36e-90447cd500c3"
      },
      "source": [
        "loss = history.history['loss']\n",
        "val_loss = history.history['val_loss']\n",
        "\n",
        "epochs = range(1, len(loss) + 1)\n",
        "\n",
        "plt.plot(epochs, loss, 'bo', label='Training loss')\n",
        "plt.plot(epochs, val_loss, 'b', label='Validation loss')\n",
        "plt.title('Training and validation loss')\n",
        "plt.xlabel('Epochs')\n",
        "plt.ylabel('Loss')\n",
        "plt.legend()\n",
        "\n",
        "plt.show()"
      ],
      "execution_count": 16,
      "outputs": [
        {
          "output_type": "display_data",
          "data": {
            "image/png": "[encoded data removed]",
            "text/plain": [
              "<Figure size 432x288 with 1 Axes>"
            ]
          },
          "metadata": {
            "needs_background": "light"
          }
        }
      ]
    },
    {
      "cell_type": "code",
      "metadata": {
        "id": "0grXiY0n6kkh",
        "colab": {
          "base_uri": "https://localhost:8080/",
          "height": 295
        },
        "outputId": "ad8a7dad-5ee8-4406-e734-8ec711bf1726"
      },
      "source": [
        "plt.clf()   # 그래프를 초기화합니다\n",
        "\n",
        "acc = history.history['accuracy']\n",
        "val_acc = history.history['val_accuracy']\n",
        "\n",
        "plt.plot(epochs, acc, 'bo', label='Training acc')\n",
        "plt.plot(epochs, val_acc, 'b', label='Validation acc')\n",
        "plt.title('Training and validation accuracy')\n",
        "plt.xlabel('Epochs')\n",
        "plt.ylabel('Accuracy')\n",
        "plt.legend()\n",
        "\n",
        "plt.show()"
      ],
      "execution_count": 19,
      "outputs": [
        {
          "output_type": "display_data",
          "data": {
            "image/png": "[encoded data removed]",
            "text/plain": [
              "<Figure size 432x288 with 1 Axes>"
            ]
          },
          "metadata": {
            "needs_background": "light"
          }
        }
      ]
    },
    {
      "cell_type": "markdown",
      "metadata": {
        "id": "jbyghvMT6kkh"
      },
      "source": [
        "이 모델은 9번째 에포크 이후에 과대적합이 시작됩니다. 9번의 에포크로 새로운 모델을 훈련하고 테스트 세트에서 평가하겠습니다:"
      ]
    },
    {
      "cell_type": "code",
      "metadata": {
        "id": "vo-t-T1_6kkh",
        "colab": {
          "base_uri": "https://localhost:8080/"
        },
        "outputId": "986e2e81-e3b3-4ba3-d9ce-160b1603a73c"
      },
      "source": [
        "model = models.Sequential()\n",
        "model.add(layers.Dense(64, activation='relu', input_shape=(10000,)))\n",
        "model.add(layers.Dense(64, activation='relu'))\n",
        "model.add(layers.Dense(46, activation='softmax'))\n",
        "\n",
        "model.compile(optimizer='rmsprop',\n",
        "              loss='categorical_crossentropy',\n",
        "              metrics=['accuracy'])\n",
        "model.fit(partial_x_train,\n",
        "          partial_y_train,\n",
        "          epochs=9,\n",
        "          batch_size=512,\n",
        "          validation_data=(x_val, y_val))\n",
        "results = model.evaluate(x_test, one_hot_test_labels)"
      ],
      "execution_count": 20,
      "outputs": [
        {
          "output_type": "stream",
          "name": "stdout",
          "text": [
            "Epoch 1/9\n",
            "16/16 [==============================] - 2s 67ms/step - loss: 2.5654 - accuracy: 0.5286 - val_loss: 1.6926 - val_accuracy: 0.6480\n",
            "Epoch 2/9\n",
            "16/16 [==============================] - 1s 59ms/step - loss: 1.4218 - accuracy: 0.6972 - val_loss: 1.3501 - val_accuracy: 0.6950\n",
            "Epoch 3/9\n",
            "16/16 [==============================] - 1s 59ms/step - loss: 1.0961 - accuracy: 0.7580 - val_loss: 1.1742 - val_accuracy: 0.7410\n",
            "Epoch 4/9\n",
            "16/16 [==============================] - 1s 60ms/step - loss: 0.8821 - accuracy: 0.8096 - val_loss: 1.0739 - val_accuracy: 0.7510\n",
            "Epoch 5/9\n",
            "16/16 [==============================] - 1s 59ms/step - loss: 0.7132 - accuracy: 0.8469 - val_loss: 0.9853 - val_accuracy: 0.7940\n",
            "Epoch 6/9\n",
            "16/16 [==============================] - 1s 62ms/step - loss: 0.5724 - accuracy: 0.8771 - val_loss: 0.9363 - val_accuracy: 0.8110\n",
            "Epoch 7/9\n",
            "16/16 [==============================] - 1s 60ms/step - loss: 0.4653 - accuracy: 0.9009 - val_loss: 0.9021 - val_accuracy: 0.8090\n",
            "Epoch 8/9\n",
            "16/16 [==============================] - 1s 60ms/step - loss: 0.3765 - accuracy: 0.9207 - val_loss: 0.8872 - val_accuracy: 0.8160\n",
            "Epoch 9/9\n",
            "16/16 [==============================] - 1s 59ms/step - loss: 0.3112 - accuracy: 0.9337 - val_loss: 0.9001 - val_accuracy: 0.8120\n",
            "71/71 [==============================] - 0s 4ms/step - loss: 0.9907 - accuracy: 0.7867\n"
          ]
        }
      ]
    },
    {
      "cell_type": "code",
      "metadata": {
        "id": "7bL4VpaG6kkh",
        "colab": {
          "base_uri": "https://localhost:8080/"
        },
        "outputId": "750cd096-b474-453b-d6f8-937456801942"
      },
      "source": [
        "results"
      ],
      "execution_count": 21,
      "outputs": [
        {
          "output_type": "execute_result",
          "data": {
            "text/plain": [
              "[0.9907399415969849, 0.7867319583892822]"
            ]
          },
          "metadata": {},
          "execution_count": 21
        }
      ]
    },
    {
      "cell_type": "markdown",
      "metadata": {
        "id": "tbNpl6Xu6kki"
      },
      "source": [
        "대략 78%의 정확도를 달성했습니다. 균형 잡힌 이진 분류 문제에서 완전히 무작위로 분류하면 50%의 정확도를 달성합니다. 이 문제는 불균형한 데이터셋을 사용하므로 무작위로 분류하면 19% 정도를 달성합니다. 여기에 비하면 이 결과는 꽤 좋은 편입니다:"
      ]
    },
    {
      "cell_type": "code",
      "metadata": {
        "id": "H_XJgAOL6kki",
        "colab": {
          "base_uri": "https://localhost:8080/"
        },
        "outputId": "c512d56c-d758-45e0-8e8b-204b2b609df1"
      },
      "source": [
        "import copy\n",
        "\n",
        "test_labels_copy = copy.copy(test_labels)\n",
        "np.random.shuffle(test_labels_copy)\n",
        "float(np.sum(np.array(test_labels) == np.array(test_labels_copy))) / len(test_labels)"
      ],
      "execution_count": 22,
      "outputs": [
        {
          "output_type": "execute_result",
          "data": {
            "text/plain": [
              "0.17275155832591274"
            ]
          },
          "metadata": {},
          "execution_count": 22
        }
      ]
    },
    {
      "cell_type": "markdown",
      "metadata": {
        "id": "mcMfCMNV6kki"
      },
      "source": [
        "## 새로운 데이터에 대해 예측하기\n",
        "\n",
        "모델 인스턴스의 `predict` 메서드는 46개 토픽에 대한 확률 분포를 반환합니다. 테스트 데이터 전체에 대한 토픽을 예측해 보겠습니다:"
      ]
    },
    {
      "cell_type": "code",
      "metadata": {
        "id": "XgSVOkZ16kki"
      },
      "source": [
        "predictions = model.predict(x_test)"
      ],
      "execution_count": 23,
      "outputs": []
    },
    {
      "cell_type": "markdown",
      "metadata": {
        "id": "A2Czt0O86kki"
      },
      "source": [
        "`predictions`의 각 항목은 길이가 46인 벡터입니다:"
      ]
    },
    {
      "cell_type": "code",
      "metadata": {
        "id": "FvfGdmnf6kkj",
        "colab": {
          "base_uri": "https://localhost:8080/"
        },
        "outputId": "a38b594d-0895-46c1-d1cf-debf857c6382"
      },
      "source": [
        "predictions[0].shape"
      ],
      "execution_count": 24,
      "outputs": [
        {
          "output_type": "execute_result",
          "data": {
            "text/plain": [
              "(46,)"
            ]
          },
          "metadata": {},
          "execution_count": 24
        }
      ]
    },
    {
      "cell_type": "markdown",
      "metadata": {
        "id": "TabmZFVg6kkj"
      },
      "source": [
        "이 벡터의 원소 합은 1입니다:"
      ]
    },
    {
      "cell_type": "code",
      "metadata": {
        "id": "YvR4G4Cl6kkj",
        "colab": {
          "base_uri": "https://localhost:8080/"
        },
        "outputId": "3b56ba92-497e-4fc1-e5bb-b0fee937de49"
      },
      "source": [
        "np.sum(predictions[0])"
      ],
      "execution_count": 25,
      "outputs": [
        {
          "output_type": "execute_result",
          "data": {
            "text/plain": [
              "1.0000001"
            ]
          },
          "metadata": {},
          "execution_count": 25
        }
      ]
    },
    {
      "cell_type": "markdown",
      "metadata": {
        "id": "JF2Kd8G36kkj"
      },
      "source": [
        "가장 큰 값이 예측 클래스가 됩니다. 즉, 가장 확률이 높은 클래스입니다:"
      ]
    },
    {
      "cell_type": "code",
      "metadata": {
        "id": "AV3JWlZy6kkj",
        "colab": {
          "base_uri": "https://localhost:8080/"
        },
        "outputId": "0259f517-c2b6-4f33-c402-7479e6c9276a"
      },
      "source": [
        "np.argmax(predictions[0])"
      ],
      "execution_count": 26,
      "outputs": [
        {
          "output_type": "execute_result",
          "data": {
            "text/plain": [
              "3"
            ]
          },
          "metadata": {},
          "execution_count": 26
        }
      ]
    },
    {
      "cell_type": "markdown",
      "metadata": {
        "id": "2a8mTWuo6kkj"
      },
      "source": [
        "## 레이블과 손실을 다루는 다른 방법\n",
        "\n",
        "앞서 언급한 것처럼 레이블을 인코딩하는 다른 방법은 다음과 같이 정수 텐서로 변환하는 것입니다:"
      ]
    },
    {
      "cell_type": "code",
      "metadata": {
        "id": "8OXolfjb6kkj"
      },
      "source": [
        "y_train = np.array(train_labels)\n",
        "y_test = np.array(test_labels)"
      ],
      "execution_count": 27,
      "outputs": []
    },
    {
      "cell_type": "markdown",
      "metadata": {
        "id": "PwhCnWDW6kkk"
      },
      "source": [
        "이 방식을 사용하려면 손실 함수 하나만 바꾸면 됩니다. 코드 3-21에 사용된 손실 함수 `categorical_crossentropy`는 레이블이 범주형 인코딩되어 있을 것이라고 기대합니다. 정수 레이블을 사용할 때는 `sparse_categorical_crossentropy`를 사용해야 합니다:"
      ]
    },
    {
      "cell_type": "code",
      "metadata": {
        "id": "2qcAgz476kkk"
      },
      "source": [
        "model.compile(optimizer='rmsprop', loss='sparse_categorical_crossentropy', metrics=['acc'])"
      ],
      "execution_count": 28,
      "outputs": []
    },
    {
      "cell_type": "markdown",
      "metadata": {
        "id": "UbMRzXDc6kkk"
      },
      "source": [
        "이 손실 함수는 인터페이스만 다를 뿐이고 수학적으로는 `categorical_crossentropy`와 동일합니다."
      ]
    },
    {
      "cell_type": "markdown",
      "metadata": {
        "id": "5BmShDPx6kkk"
      },
      "source": [
        "## 충분히 큰 중간층을 두어야 하는 이유\n",
        "\n",
        "앞서 언급한 것처럼 마지막 출력이 46차원이기 때문에 중간층의 히든 유닛이 46개보다 많이 적어서는 안 됩니다. 46차원보다 훨씬 작은 중간층(예를 들면 4차원)을 두면 정보의 병목이 어떻게 나타나는지 확인해 보겠습니다."
      ]
    },
    {
      "cell_type": "code",
      "metadata": {
        "id": "HRzZuzGn6kkk",
        "colab": {
          "base_uri": "https://localhost:8080/"
        },
        "outputId": "cbe86ceb-6250-48c9-e776-c745f2014bb7"
      },
      "source": [
        "model = models.Sequential()\n",
        "model.add(layers.Dense(64, activation='relu', input_shape=(10000,)))\n",
        "model.add(layers.Dense(4, activation='relu'))\n",
        "model.add(layers.Dense(46, activation='softmax'))\n",
        "\n",
        "model.compile(optimizer='rmsprop',\n",
        "              loss='categorical_crossentropy',\n",
        "              metrics=['accuracy'])\n",
        "model.fit(partial_x_train,\n",
        "          partial_y_train,\n",
        "          epochs=20,\n",
        "          batch_size=128,\n",
        "          validation_data=(x_val, y_val))"
      ],
      "execution_count": 29,
      "outputs": [
        {
          "output_type": "stream",
          "name": "stdout",
          "text": [
            "Epoch 1/20\n",
            "63/63 [==============================] - 2s 22ms/step - loss: 3.1735 - accuracy: 0.1888 - val_loss: 2.5141 - val_accuracy: 0.3970\n",
            "Epoch 2/20\n",
            "63/63 [==============================] - 1s 22ms/step - loss: 2.0435 - accuracy: 0.4440 - val_loss: 1.7538 - val_accuracy: 0.5870\n",
            "Epoch 3/20\n",
            "63/63 [==============================] - 1s 20ms/step - loss: 1.4220 - accuracy: 0.6239 - val_loss: 1.4410 - val_accuracy: 0.6220\n",
            "Epoch 4/20\n",
            "63/63 [==============================] - 1s 22ms/step - loss: 1.1876 - accuracy: 0.6754 - val_loss: 1.3951 - val_accuracy: 0.6540\n",
            "Epoch 5/20\n",
            "63/63 [==============================] - 1s 23ms/step - loss: 1.0517 - accuracy: 0.7338 - val_loss: 1.3450 - val_accuracy: 0.6810\n",
            "Epoch 6/20\n",
            "63/63 [==============================] - 1s 23ms/step - loss: 0.9410 - accuracy: 0.7650 - val_loss: 1.3622 - val_accuracy: 0.6980\n",
            "Epoch 7/20\n",
            "63/63 [==============================] - 1s 21ms/step - loss: 0.8508 - accuracy: 0.7876 - val_loss: 1.3634 - val_accuracy: 0.6920\n",
            "Epoch 8/20\n",
            "63/63 [==============================] - 1s 22ms/step - loss: 0.7764 - accuracy: 0.8022 - val_loss: 1.3653 - val_accuracy: 0.7090\n",
            "Epoch 9/20\n",
            "63/63 [==============================] - 1s 23ms/step - loss: 0.7159 - accuracy: 0.8122 - val_loss: 1.3908 - val_accuracy: 0.7070\n",
            "Epoch 10/20\n",
            "63/63 [==============================] - 1s 22ms/step - loss: 0.6662 - accuracy: 0.8232 - val_loss: 1.4256 - val_accuracy: 0.7080\n",
            "Epoch 11/20\n",
            "63/63 [==============================] - 1s 22ms/step - loss: 0.6215 - accuracy: 0.8344 - val_loss: 1.4723 - val_accuracy: 0.7030\n",
            "Epoch 12/20\n",
            "63/63 [==============================] - 1s 21ms/step - loss: 0.5844 - accuracy: 0.8401 - val_loss: 1.5271 - val_accuracy: 0.7060\n",
            "Epoch 13/20\n",
            "63/63 [==============================] - 1s 22ms/step - loss: 0.5556 - accuracy: 0.8420 - val_loss: 1.5789 - val_accuracy: 0.7030\n",
            "Epoch 14/20\n",
            "63/63 [==============================] - 1s 22ms/step - loss: 0.5261 - accuracy: 0.8499 - val_loss: 1.6233 - val_accuracy: 0.6960\n",
            "Epoch 15/20\n",
            "63/63 [==============================] - 1s 21ms/step - loss: 0.5026 - accuracy: 0.8552 - val_loss: 1.6850 - val_accuracy: 0.6860\n",
            "Epoch 16/20\n",
            "63/63 [==============================] - 1s 20ms/step - loss: 0.4775 - accuracy: 0.8646 - val_loss: 1.7793 - val_accuracy: 0.6970\n",
            "Epoch 17/20\n",
            "63/63 [==============================] - 1s 23ms/step - loss: 0.4586 - accuracy: 0.8707 - val_loss: 1.8048 - val_accuracy: 0.7060\n",
            "Epoch 18/20\n",
            "63/63 [==============================] - 1s 23ms/step - loss: 0.4405 - accuracy: 0.8751 - val_loss: 1.8732 - val_accuracy: 0.7050\n",
            "Epoch 19/20\n",
            "63/63 [==============================] - 1s 22ms/step - loss: 0.4271 - accuracy: 0.8802 - val_loss: 1.9194 - val_accuracy: 0.7020\n",
            "Epoch 20/20\n",
            "63/63 [==============================] - 1s 22ms/step - loss: 0.4114 - accuracy: 0.8860 - val_loss: 2.0220 - val_accuracy: 0.6880\n"
          ]
        },
        {
          "output_type": "execute_result",
          "data": {
            "text/plain": [
              "<keras.callbacks.History at 0x7ff183bf6590>"
            ]
          },
          "metadata": {},
          "execution_count": 29
        }
      ]
    },
    {
      "cell_type": "markdown",
      "metadata": {
        "id": "33BxNZRc6kkk"
      },
      "source": [
        "검증 정확도의 최고 값은 약 71%로 8% 정도 감소되었습니다. 이런 손실의 대부분 원인은 많은 정보(46개 클래스의 분할 초평면을 복원하기에 충분한 정보)를 중간층의 저차원 표현 공간으로 압축하려고 했기 때문입니다. 이 네트워크는 필요한 정보 대부분을 4차원 표현 안에 구겨 넣었지만 전부는 넣지 못했습니다."
      ]
    },
    {
      "cell_type": "markdown",
      "metadata": {
        "id": "HHi1312Q6kkk"
      },
      "source": [
        "## 추가 실험\n",
        "\n",
        "* 더 크거나 작은 층을 사용해 보세요: 32개 유닛, 128개 유닛 등\n",
        "* 여기에서 두 개의 은닉층을 사용했습니다. 한 개의 은닉층이나 세 개의 은닉층을 사용해 보세요."
      ]
    },
    {
      "cell_type": "code",
      "metadata": {
        "colab": {
          "base_uri": "https://localhost:8080/"
        },
        "id": "FbR7jEWC8jtV",
        "outputId": "fe4d5e74-bfd9-4df4-f13e-1ee5db7019a4"
      },
      "source": [
        "model = models.Sequential()\n",
        "model.add(layers.Dense(64, activation='relu', input_shape=(10000,)))\n",
        "model.add(layers.Dense(32, activation='relu'))\n",
        "model.add(layers.Dense(46, activation='softmax'))\n",
        "\n",
        "model.compile(optimizer='rmsprop',\n",
        "              loss='categorical_crossentropy',\n",
        "              metrics=['accuracy'])\n",
        "model.fit(partial_x_train,\n",
        "          partial_y_train,\n",
        "          epochs=20,\n",
        "          batch_size=128,\n",
        "          validation_data=(x_val, y_val))"
      ],
      "execution_count": 30,
      "outputs": [
        {
          "output_type": "stream",
          "name": "stdout",
          "text": [
            "Epoch 1/20\n",
            "63/63 [==============================] - 2s 26ms/step - loss: 2.1606 - accuracy: 0.5685 - val_loss: 1.3283 - val_accuracy: 0.7070\n",
            "Epoch 2/20\n",
            "63/63 [==============================] - 1s 22ms/step - loss: 1.0787 - accuracy: 0.7672 - val_loss: 1.0594 - val_accuracy: 0.7740\n",
            "Epoch 3/20\n",
            "63/63 [==============================] - 1s 23ms/step - loss: 0.7611 - accuracy: 0.8348 - val_loss: 0.9497 - val_accuracy: 0.8060\n",
            "Epoch 4/20\n",
            "63/63 [==============================] - 1s 23ms/step - loss: 0.5503 - accuracy: 0.8841 - val_loss: 0.9047 - val_accuracy: 0.8070\n",
            "Epoch 5/20\n",
            "63/63 [==============================] - 1s 23ms/step - loss: 0.4092 - accuracy: 0.9136 - val_loss: 0.9102 - val_accuracy: 0.8040\n",
            "Epoch 6/20\n",
            "63/63 [==============================] - 1s 21ms/step - loss: 0.3150 - accuracy: 0.9300 - val_loss: 0.9121 - val_accuracy: 0.8140\n",
            "Epoch 7/20\n",
            "63/63 [==============================] - 1s 21ms/step - loss: 0.2479 - accuracy: 0.9437 - val_loss: 0.9060 - val_accuracy: 0.8220\n",
            "Epoch 8/20\n",
            "63/63 [==============================] - 1s 20ms/step - loss: 0.2126 - accuracy: 0.9485 - val_loss: 0.9587 - val_accuracy: 0.8130\n",
            "Epoch 9/20\n",
            "63/63 [==============================] - 1s 22ms/step - loss: 0.1840 - accuracy: 0.9499 - val_loss: 0.9663 - val_accuracy: 0.8160\n",
            "Epoch 10/20\n",
            "63/63 [==============================] - 1s 22ms/step - loss: 0.1647 - accuracy: 0.9529 - val_loss: 0.9711 - val_accuracy: 0.8250\n",
            "Epoch 11/20\n",
            "63/63 [==============================] - 1s 22ms/step - loss: 0.1534 - accuracy: 0.9563 - val_loss: 1.0609 - val_accuracy: 0.8030\n",
            "Epoch 12/20\n",
            "63/63 [==============================] - 1s 22ms/step - loss: 0.1423 - accuracy: 0.9573 - val_loss: 1.1281 - val_accuracy: 0.8010\n",
            "Epoch 13/20\n",
            "63/63 [==============================] - 2s 25ms/step - loss: 0.1368 - accuracy: 0.9555 - val_loss: 1.1116 - val_accuracy: 0.8010\n",
            "Epoch 14/20\n",
            "63/63 [==============================] - 2s 26ms/step - loss: 0.1329 - accuracy: 0.9579 - val_loss: 1.1200 - val_accuracy: 0.8030\n",
            "Epoch 15/20\n",
            "63/63 [==============================] - 2s 26ms/step - loss: 0.1249 - accuracy: 0.9560 - val_loss: 1.1525 - val_accuracy: 0.7990\n",
            "Epoch 16/20\n",
            "63/63 [==============================] - 2s 26ms/step - loss: 0.1226 - accuracy: 0.9578 - val_loss: 1.1956 - val_accuracy: 0.7990\n",
            "Epoch 17/20\n",
            "63/63 [==============================] - 2s 28ms/step - loss: 0.1186 - accuracy: 0.9575 - val_loss: 1.2537 - val_accuracy: 0.7950\n",
            "Epoch 18/20\n",
            "63/63 [==============================] - 2s 39ms/step - loss: 0.1169 - accuracy: 0.9570 - val_loss: 1.2817 - val_accuracy: 0.7890\n",
            "Epoch 19/20\n",
            "63/63 [==============================] - 2s 24ms/step - loss: 0.1174 - accuracy: 0.9569 - val_loss: 1.3200 - val_accuracy: 0.7910\n",
            "Epoch 20/20\n",
            "63/63 [==============================] - 2s 24ms/step - loss: 0.1101 - accuracy: 0.9589 - val_loss: 1.2304 - val_accuracy: 0.8060\n"
          ]
        },
        {
          "output_type": "execute_result",
          "data": {
            "text/plain": [
              "<keras.callbacks.History at 0x7ff1830e1b10>"
            ]
          },
          "metadata": {},
          "execution_count": 30
        }
      ]
    },
    {
      "cell_type": "code",
      "metadata": {
        "colab": {
          "base_uri": "https://localhost:8080/"
        },
        "id": "zo6DiJIM9Lnh",
        "outputId": "822d2332-127d-4dfe-93fb-02c2e2e645b2"
      },
      "source": [
        "model = models.Sequential()\n",
        "model.add(layers.Dense(64, activation='relu', input_shape=(10000,)))\n",
        "model.add(layers.Dense(128, activation='relu'))\n",
        "model.add(layers.Dense(32, activation='relu'))\n",
        "model.add(layers.Dense(46, activation='softmax'))\n",
        "\n",
        "model.compile(optimizer='rmsprop',\n",
        "              loss='categorical_crossentropy',\n",
        "              metrics=['accuracy'])\n",
        "model.fit(partial_x_train,\n",
        "          partial_y_train,\n",
        "          epochs=20,\n",
        "          batch_size=128,\n",
        "          validation_data=(x_val, y_val))"
      ],
      "execution_count": 31,
      "outputs": [
        {
          "output_type": "stream",
          "name": "stdout",
          "text": [
            "Epoch 1/20\n",
            "63/63 [==============================] - 4s 42ms/step - loss: 2.0001 - accuracy: 0.5788 - val_loss: 1.3453 - val_accuracy: 0.6890\n",
            "Epoch 2/20\n",
            "63/63 [==============================] - 2s 28ms/step - loss: 1.0875 - accuracy: 0.7562 - val_loss: 1.0947 - val_accuracy: 0.7530\n",
            "Epoch 3/20\n",
            "63/63 [==============================] - 2s 35ms/step - loss: 0.7622 - accuracy: 0.8235 - val_loss: 1.0860 - val_accuracy: 0.7420\n",
            "Epoch 4/20\n",
            "63/63 [==============================] - 2s 35ms/step - loss: 0.5532 - accuracy: 0.8657 - val_loss: 1.0163 - val_accuracy: 0.7840\n",
            "Epoch 5/20\n",
            "63/63 [==============================] - 2s 35ms/step - loss: 0.4060 - accuracy: 0.9068 - val_loss: 1.0475 - val_accuracy: 0.7820\n",
            "Epoch 6/20\n",
            "63/63 [==============================] - 2s 31ms/step - loss: 0.3069 - accuracy: 0.9302 - val_loss: 1.0358 - val_accuracy: 0.7860\n",
            "Epoch 7/20\n",
            "63/63 [==============================] - 2s 30ms/step - loss: 0.2462 - accuracy: 0.9446 - val_loss: 1.0106 - val_accuracy: 0.8080\n",
            "Epoch 8/20\n",
            "63/63 [==============================] - 2s 31ms/step - loss: 0.2070 - accuracy: 0.9499 - val_loss: 1.2168 - val_accuracy: 0.7680\n",
            "Epoch 9/20\n",
            "63/63 [==============================] - 2s 31ms/step - loss: 0.1841 - accuracy: 0.9530 - val_loss: 1.2870 - val_accuracy: 0.7690\n",
            "Epoch 10/20\n",
            "63/63 [==============================] - 2s 32ms/step - loss: 0.1681 - accuracy: 0.9525 - val_loss: 1.1341 - val_accuracy: 0.7870\n",
            "Epoch 11/20\n",
            "63/63 [==============================] - 2s 32ms/step - loss: 0.1563 - accuracy: 0.9567 - val_loss: 1.2500 - val_accuracy: 0.7790\n",
            "Epoch 12/20\n",
            "63/63 [==============================] - 2s 31ms/step - loss: 0.1457 - accuracy: 0.9570 - val_loss: 1.3056 - val_accuracy: 0.7690\n",
            "Epoch 13/20\n",
            "63/63 [==============================] - 2s 31ms/step - loss: 0.1425 - accuracy: 0.9558 - val_loss: 1.2275 - val_accuracy: 0.7860\n",
            "Epoch 14/20\n",
            "63/63 [==============================] - 2s 36ms/step - loss: 0.1351 - accuracy: 0.9562 - val_loss: 1.3196 - val_accuracy: 0.7880\n",
            "Epoch 15/20\n",
            "63/63 [==============================] - 2s 38ms/step - loss: 0.1292 - accuracy: 0.9564 - val_loss: 1.4311 - val_accuracy: 0.7730\n",
            "Epoch 16/20\n",
            "63/63 [==============================] - 2s 31ms/step - loss: 0.1234 - accuracy: 0.9553 - val_loss: 1.4267 - val_accuracy: 0.7850\n",
            "Epoch 17/20\n",
            "63/63 [==============================] - 2s 31ms/step - loss: 0.1186 - accuracy: 0.9582 - val_loss: 1.3839 - val_accuracy: 0.7820\n",
            "Epoch 18/20\n",
            "63/63 [==============================] - 2s 34ms/step - loss: 0.1167 - accuracy: 0.9565 - val_loss: 1.3023 - val_accuracy: 0.7850\n",
            "Epoch 19/20\n",
            "63/63 [==============================] - 2s 34ms/step - loss: 0.1116 - accuracy: 0.9551 - val_loss: 1.4152 - val_accuracy: 0.7770\n",
            "Epoch 20/20\n",
            "63/63 [==============================] - 2s 33ms/step - loss: 0.1059 - accuracy: 0.9570 - val_loss: 1.5338 - val_accuracy: 0.7760\n"
          ]
        },
        {
          "output_type": "execute_result",
          "data": {
            "text/plain": [
              "<keras.callbacks.History at 0x7ff183fa0610>"
            ]
          },
          "metadata": {},
          "execution_count": 31
        }
      ]
    },
    {
      "cell_type": "markdown",
      "metadata": {
        "id": "tPRc44o_6kkl"
      },
      "source": [
        "## 정리\n",
        "\n",
        "다음은 이 예제에서 배운 것들입니다.\n",
        "\n",
        "* N개의 클래스로 데이터 포인트를 분류하려면 네트워크의 마지막 `Dense` 층의 크기는 N이어야 합니다.\n",
        "* 단일 레이블, 다중 분류 문제에서는 N개의 클래스에 대한 확률 분포를 출력하기 위해 `softmax` 활성화 함수를 사용해야 합니다.\n",
        "* 이런 문제에는 항상 범주형 크로스엔트로피를 사용해야 합니다. 이 함수는 모델이 출력한 확률 분포와 타깃 분포 사이의 거리를 최소화합니다.\n",
        "* 다중 분류에서 레이블을 다루는 두 가지 방법이 있습니다.\n",
        "    * 레이블을 범주형 인코딩(또는 원-핫 인코딩)으로 인코딩하고 `categorical_crossentropy` 손실 함수를 사용합니다.\n",
        "    * 레이블을 정수로 인코딩하고 `sparse_categorical_crossentropy` 손실 함수를 사용합니다.\n",
        "* 많은 수의 범주를 분류할 때 중간층의 크기가 너무 작아 네트워크에 정보의 병목이 생기지 않도록 해야 합니다."
      ]
    }
  ]
}