{
  "nbformat": 4,
  "nbformat_minor": 0,
  "metadata": {
    "colab": {
      "name": "[v0.7]영상처리_OpenCV_창 관리 및 이벤트 처리",
      "provenance": [],
      "mount_file_id": "1DwD9vkApdL0peDuWkYEpg7k55c9RUBQt",
      "authorship_tag": "ABX9TyMQ8TFrwE2lNBHvlgTm0NQ6",
      "include_colab_link": true
    },
    "kernelspec": {
      "name": "python3",
      "display_name": "Python 3"
    },
    "language_info": {
      "name": "python"
    }
  },
  "cells": [
    {
      "cell_type": "markdown",
      "metadata": {
        "id": "view-in-github",
        "colab_type": "text"
      },
      "source": [
        "<a href=\"https://colab.research.google.com/github/gani0325/2021/blob/main/Image%20processing/%EC%98%81%EC%83%81%EC%B2%98%EB%A6%AC%EA%B3%B5%EB%B6%80/%5Bv0_7%5D%EC%98%81%EC%83%81%EC%B2%98%EB%A6%AC_OpenCV_%EC%B0%BD_%EA%B4%80%EB%A6%AC_%EB%B0%8F_%EC%9D%B4%EB%B2%A4%ED%8A%B8_%EC%B2%98%EB%A6%AC.ipynb\" target=\"_parent\"><img src=\"https://colab.research.google.com/assets/colab-badge.svg\" alt=\"Open In Colab\"/></a>"
      ]
    },
    {
      "cell_type": "markdown",
      "source": [
        "## [v0.7]영상처리_OpenCV_창 관리 및 이벤트 처리\n",
        "\n",
        "https://alpaca-gt.tistory.com/79"
      ],
      "metadata": {
        "id": "UVtOUHOxv9D8"
      }
    },
    {
      "cell_type": "markdown",
      "source": [
        "## 1. 창 관리"
      ],
      "metadata": {
        "id": "3zGqiqnV7w9r"
      }
    },
    {
      "cell_type": "code",
      "source": [
        "# 창 관리\n",
        "\n",
        "import cv2\n",
        "\n",
        "file_path = 'img/sample.jpeg'\n",
        "img = cv2.imread(file_path)                            # 이미지를 기본 값으로 읽기\n",
        "img_gray = cv2.imread(file_path, cv2.IMREAD_GRAYSCALE) # 이미지를 그레이 스케일로 읽기\n",
        "\n",
        "cv2.namedWindow('origin')                               # origin 이름으로 창 생성\n",
        "cv2.namedWindow('gray', cv2.WINDOW_NORMAL)              # gray 이름으로 창 생성\n",
        "cv2.imshow('origin', img)                               # origin 창에 이미지 표시\n",
        "cv2.imshow('gray', img_gray)                            # gray 창에 이미지 표시\n",
        "\n",
        "cv2.moveWindow('origin', 0, 0)                          # 창 위치 변경\n",
        "cv2.moveWindow('gray', 100, 100)                        # 창 위치 변경\n",
        "\n",
        "cv2.waitKey(0)                                          # 아무키나 누르면\n",
        "cv2.resizeWindow('origin', 200, 200)                    # 창 크기 변경 (변경 안됨)\n",
        "cv2.resizeWindow('gray', 100, 100)                      # 창 크기 변경 (변경 됨))\n",
        "\n",
        "cv2.waitKey(0)                                          # 아무키나 누르면\n",
        "cv2.destroyWindow(\"gray\")                               # gray 창 닫기\n",
        "\n",
        "cv2.waitKey(0)                                          # 아무키나 누르면\n",
        "cv2.destroyAllWindows()                                 # 모든 창 닫기"
      ],
      "metadata": {
        "id": "ml9ztvpY76gC"
      },
      "execution_count": null,
      "outputs": []
    },
    {
      "cell_type": "markdown",
      "source": [
        "## 2. 키보드 이벤트 처리"
      ],
      "metadata": {
        "id": "lgf8GHqW75QB"
      }
    },
    {
      "cell_type": "code",
      "source": [
        "# 키 이벤트 처리\n",
        "\n",
        "import cv2\n",
        "\n",
        "img_file = \"img/sample.jpeg\" \n",
        "img = cv2.imread(img_file) \n",
        "title = 'keyboard event processing'       # 창 이름 \n",
        "x, y = 100, 100                 # 최초 좌표\n",
        "\n",
        "while True:\n",
        "    cv2.imshow(title, img)\n",
        "    cv2.moveWindow(title, x, y)\n",
        "    key = cv2.waitKey(0) & 0xFF # 키보드 입력을 무한 대기, 8비트 마스크처리\n",
        "    print(key, chr(key))        # 키보드 입력 값,  문자 값 출력\n",
        "    if key == ord('a'):         # 'h' 키 이면 좌로 이동\n",
        "        x -= 10\n",
        "    elif key == ord('s'):       # 'j' 키 이면 아래로 이동\n",
        "        y += 10\n",
        "    elif key == ord('w'):       # 'k' 키 이면 위로 이동\n",
        "        y -= 10\n",
        "    elif key == ord('d'):       # 'l' 키 이면 오른쪽으로 이동\n",
        "        x += 10\n",
        "    elif key == ord('q') or key == 27: # 'q' 이거나 'esc' 이면 종료\n",
        "        break\n",
        "        cv2.destroyAllWindows()\n",
        "    cv2.moveWindow(title, x, y )   # 새로운 좌표로 창 이동"
      ],
      "metadata": {
        "id": "Ih-KJYmj8fyf"
      },
      "execution_count": null,
      "outputs": []
    },
    {
      "cell_type": "markdown",
      "source": [
        "## 3. 마우스 이벤트 처리"
      ],
      "metadata": {
        "id": "Cvg2pGLf7wv0"
      }
    },
    {
      "cell_type": "code",
      "source": [
        "# 마우스 이벤트로 원 그리기\n",
        "import cv2\n",
        "\n",
        "title = 'mouse event'                   # 창 제목\n",
        "img = cv2.imread('img/sample.jpeg') # 백색 이미지 읽기\n",
        "cv2.imshow(title, img)              # 백색 이미지 표시\n",
        "cv2.moveWindow(title, 100, 100)     # 최초 좌표\n",
        "\n",
        "def onMouse(event, x, y, flags, param): # 아무스 콜백 함수 구현 ---①\n",
        "    print(event, x, y, )                # 파라미터 출력\n",
        "    if event == cv2.EVENT_LBUTTONDOWN:  # 왼쪽 버튼 누름인 경우 ---②\n",
        "        cv2.circle(img, (x,y), 30, (34,12,255), -1) # 지름 30 크기의 RGB색 원을 해당 좌표에 그림\n",
        "        cv2.imshow(title, img)          # 그려진 이미지를 다시 표시 ---③\n",
        "\n",
        "cv2.setMouseCallback(title, onMouse)    # 마우스 콜백 함수를 GUI 윈도우에 등록 ---④\n",
        "\n",
        "while True:\n",
        "    if cv2.waitKey(0) & 0xFF == 27:     # esc로 종료\n",
        "        break\n",
        "cv2.destroyAllWindows()"
      ],
      "metadata": {
        "id": "oxsZKtKE8jd8"
      },
      "execution_count": null,
      "outputs": []
    },
    {
      "cell_type": "markdown",
      "source": [
        "## +) flags를 활용"
      ],
      "metadata": {
        "id": "ccG99MzF8k_h"
      }
    },
    {
      "cell_type": "code",
      "execution_count": null,
      "metadata": {
        "id": "37Dk7Qqfvrpc"
      },
      "outputs": [],
      "source": [
        "# flags를 활용하여 원 그리기\n",
        "\n",
        "import cv2\n",
        "\n",
        "title = 'mouse event'                   # 창 제목\n",
        "img = cv2.imread('img/sample.jpeg')     # 백색 이미지 읽기\n",
        "cv2.imshow(title, img)                  # 백색 이미지 표시\n",
        "cv2.moveWindow(title, 100, 100)         # 최초 좌표\n",
        "\n",
        "colors = {'black':(0,0,0),\n",
        "         'red' : (0,0,255),\n",
        "         'blue':(255,0,0),\n",
        "         'green': (0,255,0) } # 색상 미리 정의\n",
        "\n",
        "def onMouse(event, x, y, flags, param): # 아무스 콜백 함수 구현 ---①\n",
        "    print(event, x, y, flags)                # 파라미터 출력\n",
        "    color = colors['black']\n",
        "    if event == cv2.EVENT_LBUTTONDOWN:  # 왼쪽 버튼 누름인 경우 ---②\n",
        "        # 컨트롤키와 쉬프트 키를 모두 누른 경우\n",
        "        if flags & cv2.EVENT_FLAG_CTRLKEY and flags & cv2.EVENT_FLAG_SHIFTKEY : \n",
        "            color = colors['green']\n",
        "        # 쉬프트 키를 누른 경우\n",
        "        elif flags & cv2.EVENT_FLAG_SHIFTKEY : \n",
        "            color = colors['blue']\n",
        "        # 컨트롤 키를 누른 경우\n",
        "        elif flags & cv2.EVENT_FLAG_CTRLKEY : \n",
        "            color = colors['red']\n",
        "\n",
        "        # 지름 30 크기의 검은색 원을 해당 좌표에 그림\n",
        "        cv2.circle(img, (x,y), 30, color, -1) \n",
        "        cv2.imshow(title, img)          # 그려진 이미지를 다시 표시 ---③\n",
        "\n",
        "cv2.setMouseCallback(title, onMouse)    # 마우스 콜백 함수를 GUI 윈도우에 등록 ---④\n",
        "\n",
        "while True:\n",
        "    if cv2.waitKey(0) & 0xFF == 27:     # esc로 종료\n",
        "        break\n",
        "cv2.destroyAllWindows()"
      ]
    }
  ]
}