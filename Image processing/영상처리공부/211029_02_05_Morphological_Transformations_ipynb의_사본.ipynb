{
  "nbformat": 4,
  "nbformat_minor": 0,
  "metadata": {
    "kernelspec": {
      "display_name": "Python 3",
      "language": "python",
      "name": "python3"
    },
    "language_info": {
      "codemirror_mode": {
        "name": "ipython",
        "version": 3
      },
      "file_extension": ".py",
      "mimetype": "text/x-python",
      "name": "python",
      "nbconvert_exporter": "python",
      "pygments_lexer": "ipython3",
      "version": "3.7.4"
    },
    "colab": {
      "name": "211029_02-05_Morphological Transformations.ipynb의 사본",
      "provenance": [],
      "include_colab_link": true
    }
  },
  "cells": [
    {
      "cell_type": "markdown",
      "metadata": {
        "id": "view-in-github",
        "colab_type": "text"
      },
      "source": [
        "<a href=\"https://colab.research.google.com/github/gani0325/2021/blob/main/Image%20processing/%EC%98%81%EC%83%81%EC%B2%98%EB%A6%AC%EA%B3%B5%EB%B6%80/211029_02_05_Morphological_Transformations_ipynb%EC%9D%98_%EC%82%AC%EB%B3%B8.ipynb\" target=\"_parent\"><img src=\"https://colab.research.google.com/assets/colab-badge.svg\" alt=\"Open In Colab\"/></a>"
      ]
    },
    {
      "cell_type": "markdown",
      "metadata": {
        "id": "pr1jF-ku7Jyi"
      },
      "source": [
        "# Morphological Transformations\n",
        "\n",
        "## Goal\n",
        "In this chapter,\n",
        "* We will learn different morphological operations like Erosion, Dilation, Opening, Closing etc.\n",
        "* We will see different functions like : `cv2.erode()`, `cv2.dilate()`, `cv2.morphologyEx()` etc."
      ]
    },
    {
      "cell_type": "markdown",
      "metadata": {
        "id": "BwaZYA_v7Jym"
      },
      "source": [
        "## Theory\n",
        "\n",
        "**Morphological transformations** are some simple operations based on **the image shape**. \n",
        "It is normally performed on binary images. \n",
        "\n",
        "* It needs two inputs, \n",
        "  * one is our **original image**, \n",
        "  * second one is called **structuring element(SE)** or **kernel** \n",
        "    * which decides the nature of operation. \n",
        "\n",
        "Two basic morphological operators are \n",
        "* **Erosion** and \n",
        "* **Dilation**. \n",
        "\n",
        "Then its variant forms like \n",
        "* **Opening**, \n",
        "* **Closing**, \n",
        "* **Gradient** etc also comes into play. \n",
        "\n",
        "We will see them one-by-one with help of following image:"
      ]
    },
    {
      "cell_type": "markdown",
      "metadata": {
        "id": "jX_vENZe7Jyo"
      },
      "source": [
        "![j.png](https://github.com/dsaint31x/OpenCV_Python_Tutorial/blob/master/images/j.png?raw=1)"
      ]
    },
    {
      "cell_type": "markdown",
      "metadata": {
        "id": "UYZetqvE7Jyp"
      },
      "source": [
        "## 1. Erosion\n",
        "\n",
        "The basic idea of erosion is just like soil erosion only, it erodes away the boundaries of foreground object (Always try to keep foreground in white). So what does it do? The kernel slides through the image (as in 2D convolution). A pixel in the original image (either 1 or 0) will be considered 1 only if all the pixels under the kernel is 1, otherwise it is eroded (made to zero).\n",
        "\n",
        "So what happends is that, all the pixels near boundary will be discarded depending upon the size of kernel. So the thickness or size of the foreground object decreases or simply white region decreases in the image. It is useful for removing small white noises (as we have seen in colorspace chapter), detach two connected objects etc.\n",
        "\n",
        "Here, as an example, I would use a 5x5 kernel with full of ones. Let’s see it how it works:"
      ]
    },
    {
      "cell_type": "code",
      "metadata": {
        "id": "7Ci7Mous7Jyr",
        "outputId": "38e0df49-564f-4c8a-d2d3-5703302294c3"
      },
      "source": [
        "import cv2\n",
        "import numpy as np\n",
        "import matplotlib.pyplot as plt\n",
        "\n",
        "img = cv2.imread('./images/j.png',0)\n",
        "\n",
        "kernel = np.ones((5,5),np.uint8)\n",
        "print(kernel)\n",
        "\n",
        "erosion = cv2.erode(img,kernel,iterations = 1)\n",
        "plt.figure(figsize=(10,5))\n",
        "plt.subplot('121')\n",
        "plt.imshow(img,cmap='gray'), plt.axis('off')\n",
        "plt.subplot('122')\n",
        "plt.imshow(erosion,cmap='gray'), plt.axis('off')"
      ],
      "execution_count": null,
      "outputs": [
        {
          "name": "stdout",
          "output_type": "stream",
          "text": [
            "[[1 1 1 1 1]\n",
            " [1 1 1 1 1]\n",
            " [1 1 1 1 1]\n",
            " [1 1 1 1 1]\n",
            " [1 1 1 1 1]]\n"
          ]
        },
        {
          "data": {
            "text/plain": [
              "(<matplotlib.image.AxesImage at 0x7f986e9c2d50>, (-0.5, 111.5, 149.5, -0.5))"
            ]
          },
          "execution_count": 46,
          "metadata": {},
          "output_type": "execute_result"
        },
        {
          "data": {
            "image/png": "[encoded data removed]",
            "text/plain": [
              "<Figure size 720x360 with 2 Axes>"
            ]
          },
          "metadata": {
            "needs_background": "light"
          },
          "output_type": "display_data"
        }
      ]
    },
    {
      "cell_type": "markdown",
      "metadata": {
        "id": "fYrttMar7Jyu"
      },
      "source": [
        "## 2. Dilation\n",
        "\n",
        "It is just opposite of erosion. Here, a pixel element is ‘1’ if atleast one pixel under the kernel is ‘1’. So it increases the white region in the image or size of foreground object increases. Normally, in cases like noise removal, erosion is followed by dilation. Because, erosion removes white noises, but it also shrinks our object. So we dilate it. Since noise is gone, they won’t come back, but our object area increases. It is also useful in joining broken parts of an object."
      ]
    },
    {
      "cell_type": "code",
      "metadata": {
        "id": "w3jgwhhG7Jyw",
        "outputId": "e5bf3ad7-5691-4b3f-afd4-b8ceb7317c76"
      },
      "source": [
        "dilation = cv2.dilate(img,kernel,iterations = 1)\n",
        "plt.figure(figsize=(10,5))\n",
        "plt.subplot('121')\n",
        "plt.imshow(img,cmap='gray'), plt.axis('off')\n",
        "plt.subplot('122')\n",
        "plt.imshow(dilation,cmap='gray'), plt.axis('off')"
      ],
      "execution_count": null,
      "outputs": [
        {
          "data": {
            "text/plain": [
              "(<matplotlib.image.AxesImage at 0x7f986e949690>, (-0.5, 111.5, 149.5, -0.5))"
            ]
          },
          "execution_count": 47,
          "metadata": {},
          "output_type": "execute_result"
        },
        {
          "data": {
            "image/png": "[encoded data removed]",
            "text/plain": [
              "<Figure size 720x360 with 2 Axes>"
            ]
          },
          "metadata": {
            "needs_background": "light"
          },
          "output_type": "display_data"
        }
      ]
    },
    {
      "cell_type": "markdown",
      "metadata": {
        "id": "kqw9T32A7Jyy"
      },
      "source": [
        "## Opening\n",
        "\n",
        "Opening is just another name of **erosion followed by dilation**. \n",
        "\n",
        "It is useful in removing noise, as we explained above. Here we use the function, `cv2.morphologyEx()`"
      ]
    },
    {
      "cell_type": "code",
      "metadata": {
        "id": "tQ08ygqo7Jyz",
        "outputId": "9f2600ee-44b7-4d7e-aedd-9c01e6d55c9b"
      },
      "source": [
        "row,col = img.shape\n",
        "s_vs_p = 1 #0.5\n",
        "amount = 0.01\n",
        "out = np.copy(img)\n",
        "# Salt mode\n",
        "num_salt = np.ceil(amount * img.size * s_vs_p)\n",
        "coords = [np.random.randint(0, i, int(num_salt))\n",
        "          for i in img.shape]\n",
        "out[tuple(coords)] = np.max(img)\n",
        "        \n",
        "# Pepper mode\n",
        "num_pepper = np.ceil(amount* img.size * (1. - s_vs_p))\n",
        "coords = [np.random.randint(0, i, int(num_pepper))\n",
        "          for i in img.shape]\n",
        "out[tuple(coords)] = np.min(img)\n",
        "\n",
        "print(img.dtype)\n",
        "# kernel = np.ones((3,3),np.uint8)        \n",
        "opening = cv2.morphologyEx(out, cv2.MORPH_OPEN, kernel)\n",
        "\n",
        "plt.figure(figsize=(10,5))\n",
        "plt.subplot('121')\n",
        "plt.imshow(out,cmap='gray'), plt.axis('off')\n",
        "plt.subplot('122')\n",
        "plt.imshow(opening,cmap='gray'), plt.axis('off')"
      ],
      "execution_count": null,
      "outputs": [
        {
          "name": "stdout",
          "output_type": "stream",
          "text": [
            "uint8\n"
          ]
        },
        {
          "data": {
            "text/plain": [
              "(<matplotlib.image.AxesImage at 0x7f986e8b1890>, (-0.5, 111.5, 149.5, -0.5))"
            ]
          },
          "execution_count": 48,
          "metadata": {},
          "output_type": "execute_result"
        },
        {
          "data": {
            "image/png": "[encoded data removed]",
            "text/plain": [
              "<Figure size 720x360 with 2 Axes>"
            ]
          },
          "metadata": {
            "needs_background": "light"
          },
          "output_type": "display_data"
        }
      ]
    },
    {
      "cell_type": "markdown",
      "metadata": {
        "id": "GiOJnRk67Jy2"
      },
      "source": [
        "## 4. Closing\n",
        "Closing is reverse of Opening, Dilation followed by Erosion. It is useful in closing small holes inside the foreground objects, or small black points on the object"
      ]
    },
    {
      "cell_type": "code",
      "metadata": {
        "id": "1FuU1Smu7Jy3",
        "outputId": "87a2fcaf-e5ae-46f1-d30d-0637dc52d34e"
      },
      "source": [
        "row,col = img.shape\n",
        "s_vs_p = 0.0 #1.0\n",
        "amount = 0.01\n",
        "out = np.copy(img)\n",
        "# Salt mode\n",
        "num_salt = np.ceil(amount * img.size * s_vs_p)\n",
        "coords = [np.random.randint(0, i, int(num_salt))\n",
        "          for i in img.shape]\n",
        "out[tuple(coords)] = np.max(img)\n",
        "        \n",
        "# Pepper mode\n",
        "num_pepper = np.ceil(amount* img.size * (1. - s_vs_p))\n",
        "coords = [np.random.randint(0, i, int(num_pepper))\n",
        "          for i in img.shape]\n",
        "out[tuple(coords)] = np.min(img)\n",
        "\n",
        "print(img.dtype)\n",
        "#kernel = np.ones((3,3),np.uint8)        \n",
        "closing = cv2.morphologyEx(img, cv2.MORPH_CLOSE, kernel)\n",
        "\n",
        "plt.figure(figsize=(10,5))\n",
        "plt.subplot('121')\n",
        "plt.imshow(out,cmap='gray'), plt.axis('off')\n",
        "plt.subplot('122')\n",
        "plt.imshow(closing,cmap='gray'), plt.axis('off')"
      ],
      "execution_count": null,
      "outputs": [
        {
          "name": "stdout",
          "output_type": "stream",
          "text": [
            "uint8\n"
          ]
        },
        {
          "data": {
            "text/plain": [
              "(<matplotlib.image.AxesImage at 0x7f986e7e7e50>, (-0.5, 111.5, 149.5, -0.5))"
            ]
          },
          "execution_count": 49,
          "metadata": {},
          "output_type": "execute_result"
        },
        {
          "data": {
            "image/png": "[encoded data removed]",
            "text/plain": [
              "<Figure size 720x360 with 2 Axes>"
            ]
          },
          "metadata": {
            "needs_background": "light"
          },
          "output_type": "display_data"
        }
      ]
    },
    {
      "cell_type": "markdown",
      "metadata": {
        "id": "ZBzdXhFn7Jy5"
      },
      "source": [
        "## 5. Morphological Gradient\n",
        "\n",
        "It is the difference between dilation and erosion of an image.\n",
        "\n",
        "The result will look like the outline of the object."
      ]
    },
    {
      "cell_type": "code",
      "metadata": {
        "id": "FFMVq_Y37Jy6",
        "outputId": "816f2742-f670-4bf6-9f83-1778a5ce06fe"
      },
      "source": [
        "gradient = cv2.morphologyEx(img, cv2.MORPH_GRADIENT, kernel)\n",
        "\n",
        "plt.figure(figsize=(10,5))\n",
        "plt.subplot('121')\n",
        "plt.imshow(img,cmap='gray'), plt.axis('off')\n",
        "plt.subplot('122')\n",
        "plt.imshow(gradient,cmap='gray'), plt.axis('off')"
      ],
      "execution_count": null,
      "outputs": [
        {
          "data": {
            "text/plain": [
              "(<matplotlib.image.AxesImage at 0x7f986e705f90>, (-0.5, 111.5, 149.5, -0.5))"
            ]
          },
          "execution_count": 50,
          "metadata": {},
          "output_type": "execute_result"
        },
        {
          "data": {
            "image/png": "[encoded data removed]",
            "text/plain": [
              "<Figure size 720x360 with 2 Axes>"
            ]
          },
          "metadata": {
            "needs_background": "light"
          },
          "output_type": "display_data"
        }
      ]
    },
    {
      "cell_type": "markdown",
      "metadata": {
        "id": "0dLYulUP7Jy6"
      },
      "source": [
        "## 6. Top Hat\n",
        "\n",
        "It is the difference between input image and Opening of the image. \n",
        "\n",
        "Below example is done for a **9x9 kernel**."
      ]
    },
    {
      "cell_type": "code",
      "metadata": {
        "id": "d7v1xHQ97Jy7",
        "outputId": "ae610db8-cf82-4c20-a2d3-bb71803fdaba"
      },
      "source": [
        "kernel = np.ones((9,9),np.uint8)\n",
        "\n",
        "opening = cv2.morphologyEx(out, cv2.MORPH_OPEN, kernel)\n",
        "tophat = cv2.morphologyEx(img, cv2.MORPH_TOPHAT, kernel)\n",
        "\n",
        "plt.figure(figsize=(10,5))\n",
        "plt.subplot('131')\n",
        "plt.imshow(img,cmap='gray'), plt.axis('off')\n",
        "plt.subplot('132')\n",
        "plt.imshow(opening,cmap='gray'), plt.axis('off')\n",
        "plt.subplot('133')\n",
        "plt.imshow(tophat,cmap='gray'), plt.axis('off')"
      ],
      "execution_count": null,
      "outputs": [
        {
          "data": {
            "text/plain": [
              "(<matplotlib.image.AxesImage at 0x7f986e46dcd0>, (-0.5, 111.5, 149.5, -0.5))"
            ]
          },
          "execution_count": 53,
          "metadata": {},
          "output_type": "execute_result"
        },
        {
          "data": {
            "image/png": "[encoded data removed]",
            "text/plain": [
              "<Figure size 720x360 with 3 Axes>"
            ]
          },
          "metadata": {
            "needs_background": "light"
          },
          "output_type": "display_data"
        }
      ]
    },
    {
      "cell_type": "markdown",
      "metadata": {
        "id": "i-alga7X7Jy8"
      },
      "source": [
        "## 7. Black Hat\n",
        "\n",
        "It is the difference between the closing of the input image and input image.\n",
        "\n",
        "Below example is done for a **9x9 kernel**."
      ]
    },
    {
      "cell_type": "code",
      "metadata": {
        "id": "X_6fdv8o7Jy9",
        "outputId": "1a1485eb-7d5c-4fca-9222-0205d706a43d"
      },
      "source": [
        "kernel = np.ones((9,9),np.uint8)\n",
        "\n",
        "closing = cv2.morphologyEx(out, cv2.MORPH_CLOSE, kernel)\n",
        "blackhat = cv2.morphologyEx(img, cv2.MORPH_BLACKHAT, kernel)\n",
        "\n",
        "plt.figure(figsize=(10,5))\n",
        "plt.subplot('131')\n",
        "plt.imshow(img,cmap='gray'), plt.axis('off')\n",
        "plt.subplot('132')\n",
        "plt.imshow(closing,cmap='gray'), plt.axis('off')\n",
        "plt.subplot('133')\n",
        "plt.imshow(blackhat,cmap='gray'), plt.axis('off')"
      ],
      "execution_count": null,
      "outputs": [
        {
          "data": {
            "text/plain": [
              "(<matplotlib.image.AxesImage at 0x7f986e149d50>, (-0.5, 111.5, 149.5, -0.5))"
            ]
          },
          "execution_count": 55,
          "metadata": {},
          "output_type": "execute_result"
        },
        {
          "data": {
            "image/png": "[encoded data removed]",
            "text/plain": [
              "<Figure size 720x360 with 3 Axes>"
            ]
          },
          "metadata": {
            "needs_background": "light"
          },
          "output_type": "display_data"
        }
      ]
    },
    {
      "cell_type": "markdown",
      "metadata": {
        "id": "414zAKX37Jy9"
      },
      "source": [
        "## Structuring Element\n",
        "\n",
        "We manually created a structuring elements in the previous examples with help of Numpy. It is rectangular shape. But in some cases, you may need elliptical/circular shaped kernels. So for this purpose, OpenCV has a function, cv2.getStructuringElement(). You just pass the shape and size of the kernel, you get the desired kernel."
      ]
    },
    {
      "cell_type": "code",
      "metadata": {
        "id": "WEDYVMXM7Jy-",
        "outputId": "4a318b57-8332-4870-bb05-4d7fc3f79f24"
      },
      "source": [
        "# Rectangular Kernel\n",
        "kernel = cv2.getStructuringElement(cv2.MORPH_RECT,(5,5))\n",
        "print(kernel)"
      ],
      "execution_count": null,
      "outputs": [
        {
          "name": "stdout",
          "output_type": "stream",
          "text": [
            "[[1 1 1 1 1]\n",
            " [1 1 1 1 1]\n",
            " [1 1 1 1 1]\n",
            " [1 1 1 1 1]\n",
            " [1 1 1 1 1]]\n"
          ]
        }
      ]
    },
    {
      "cell_type": "code",
      "metadata": {
        "id": "r8EX1xfm7Jy_",
        "outputId": "7fd64056-005c-4722-bce4-016e1f5b67cd"
      },
      "source": [
        "# Elliptical Kernel\n",
        "kernel = cv2.getStructuringElement(cv2.MORPH_ELLIPSE,(15,10))\n",
        "print(kernel)\n",
        "plt.imshow(kernel, cmap='gray')"
      ],
      "execution_count": null,
      "outputs": [
        {
          "name": "stdout",
          "output_type": "stream",
          "text": [
            "[[0 0 0 0 0 0 0 1 0 0 0 0 0 0 0]\n",
            " [0 0 0 1 1 1 1 1 1 1 1 1 0 0 0]\n",
            " [0 1 1 1 1 1 1 1 1 1 1 1 1 1 0]\n",
            " [0 1 1 1 1 1 1 1 1 1 1 1 1 1 0]\n",
            " [1 1 1 1 1 1 1 1 1 1 1 1 1 1 1]\n",
            " [1 1 1 1 1 1 1 1 1 1 1 1 1 1 1]\n",
            " [1 1 1 1 1 1 1 1 1 1 1 1 1 1 1]\n",
            " [0 1 1 1 1 1 1 1 1 1 1 1 1 1 0]\n",
            " [0 1 1 1 1 1 1 1 1 1 1 1 1 1 0]\n",
            " [0 0 0 1 1 1 1 1 1 1 1 1 0 0 0]]\n"
          ]
        },
        {
          "data": {
            "text/plain": [
              "<matplotlib.image.AxesImage at 0x7f986dfbd8d0>"
            ]
          },
          "execution_count": 66,
          "metadata": {},
          "output_type": "execute_result"
        },
        {
          "data": {
            "image/png": "[encoded data removed]",
            "text/plain": [
              "<Figure size 432x288 with 1 Axes>"
            ]
          },
          "metadata": {
            "needs_background": "light"
          },
          "output_type": "display_data"
        }
      ]
    },
    {
      "cell_type": "code",
      "metadata": {
        "id": "eezCUCMp7JzA",
        "outputId": "c7782052-c68c-442f-bcd3-1d666bd7c583"
      },
      "source": [
        "# Cross-shaped Kernel\n",
        "kernel = cv2.getStructuringElement(cv2.MORPH_CROSS,(5,5))\n",
        "print(kernel)\n",
        "plt.imshow(kernel)"
      ],
      "execution_count": null,
      "outputs": [
        {
          "name": "stdout",
          "output_type": "stream",
          "text": [
            "[[0 0 1 0 0]\n",
            " [0 0 1 0 0]\n",
            " [1 1 1 1 1]\n",
            " [0 0 1 0 0]\n",
            " [0 0 1 0 0]]\n"
          ]
        },
        {
          "data": {
            "text/plain": [
              "<matplotlib.image.AxesImage at 0x7f986df9fb10>"
            ]
          },
          "execution_count": 67,
          "metadata": {},
          "output_type": "execute_result"
        },
        {
          "data": {
            "image/png": "[encoded data removed]",
            "text/plain": [
              "<Figure size 432x288 with 1 Axes>"
            ]
          },
          "metadata": {
            "needs_background": "light"
          },
          "output_type": "display_data"
        }
      ]
    },
    {
      "cell_type": "markdown",
      "metadata": {
        "id": "5rY2i0Bp7JzA"
      },
      "source": [
        "## Additional Resources\n",
        "\n",
        "1. [Morphological Operations](http://homepages.inf.ed.ac.uk/rbf/HIPR2/morops.htm) at HIPR2\n",
        "2. [Morphological Transformations](https://opencv-python-tutroals.readthedocs.io/en/latest/py_tutorials/py_imgproc/py_morphological_ops/py_morphological_ops.html#dilation) at OpenCV-Python Tutorials"
      ]
    },
    {
      "cell_type": "code",
      "metadata": {
        "id": "BEm8cOLE7JzB"
      },
      "source": [
        ""
      ],
      "execution_count": null,
      "outputs": []
    }
  ]
}