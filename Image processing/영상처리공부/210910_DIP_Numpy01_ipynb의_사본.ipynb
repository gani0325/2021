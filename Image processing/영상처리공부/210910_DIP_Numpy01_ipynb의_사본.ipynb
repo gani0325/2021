{
  "nbformat": 4,
  "nbformat_minor": 0,
  "metadata": {
    "colab": {
      "name": "210910_DIP_Numpy01.ipynb의 사본",
      "provenance": [],
      "collapsed_sections": [
        "i5LVKihH-Any",
        "VW2kRHBk-qbO",
        "nE3FMUMF_CcD"
      ],
      "include_colab_link": true
    },
    "kernelspec": {
      "name": "python3",
      "display_name": "Python 3"
    }
  },
  "cells": [
    {
      "cell_type": "markdown",
      "metadata": {
        "id": "view-in-github",
        "colab_type": "text"
      },
      "source": [
        "<a href=\"https://colab.research.google.com/github/gani0325/2021/blob/main/Image%20processing/%EC%98%81%EC%83%81%EC%B2%98%EB%A6%AC%EA%B3%B5%EB%B6%80/210910_DIP_Numpy01_ipynb%EC%9D%98_%EC%82%AC%EB%B3%B8.ipynb\" target=\"_parent\"><img src=\"https://colab.research.google.com/assets/colab-badge.svg\" alt=\"Open In Colab\"/></a>"
      ]
    },
    {
      "cell_type": "code",
      "metadata": {
        "id": "JQvWdgTqWn_Y",
        "colab": {
          "base_uri": "https://localhost:8080/",
          "height": 35
        },
        "outputId": "97a6f3a0-3e42-450b-f760-fcb1bf9faae6"
      },
      "source": [
        "import tensorflow as tf\n",
        "import numpy as np\n",
        "np.__version__"
      ],
      "execution_count": null,
      "outputs": [
        {
          "output_type": "execute_result",
          "data": {
            "application/vnd.google.colaboratory.intrinsic+json": {
              "type": "string"
            },
            "text/plain": [
              "'1.19.5'"
            ]
          },
          "metadata": {},
          "execution_count": 1
        }
      ]
    },
    {
      "cell_type": "code",
      "metadata": {
        "id": "66gKJBS4n6Yo",
        "colab": {
          "base_uri": "https://localhost:8080/",
          "height": 35
        },
        "outputId": "88149f3c-1c2c-443f-fced-9d7cf952cbe6"
      },
      "source": [
        "tf.__version__"
      ],
      "execution_count": null,
      "outputs": [
        {
          "output_type": "execute_result",
          "data": {
            "application/vnd.google.colaboratory.intrinsic+json": {
              "type": "string"
            },
            "text/plain": [
              "'2.6.0'"
            ]
          },
          "metadata": {},
          "execution_count": 2
        }
      ]
    },
    {
      "cell_type": "markdown",
      "metadata": {
        "id": "9qKKSyet4KwN"
      },
      "source": [
        "`np.array ( list [,dtype])`\n",
        "\n",
        "* list등으로 `ndarray` 생성.\n",
        "* `dtype` : data type of element.\n",
        "   * `float64` : default type in the numpy.\n",
        "   * `uint8` : unsigned int (8bit), the most commonly used for image processing\n",
        "   * `int8` : signed int (8bit)\n",
        "   * `floast32` : float (32bit)"
      ]
    },
    {
      "cell_type": "code",
      "metadata": {
        "id": "iHJMa0O24JgA",
        "colab": {
          "base_uri": "https://localhost:8080/"
        },
        "outputId": "bee8c682-7266-40b1-e2f5-ed058d9ce2c6"
      },
      "source": [
        "t = (1,2,3,4,5,6)\n",
        "a = np.array(t)\n",
        "print(type(t))\n",
        "print(type(a))"
      ],
      "execution_count": null,
      "outputs": [
        {
          "output_type": "stream",
          "name": "stdout",
          "text": [
            "<class 'tuple'>\n",
            "<class 'numpy.ndarray'>\n"
          ]
        }
      ]
    },
    {
      "cell_type": "code",
      "metadata": {
        "id": "qMsjg-b0ZLcJ",
        "colab": {
          "base_uri": "https://localhost:8080/"
        },
        "outputId": "c744a6dd-e1fb-4908-bb40-f1189a2dc9e0"
      },
      "source": [
        "print(a)\n",
        "print(a.ndim)\n",
        "print(a.shape)\n",
        "print(a.itemsize) #bytes\n",
        "print(a.size)\n",
        "print(a.dtype)"
      ],
      "execution_count": null,
      "outputs": [
        {
          "output_type": "stream",
          "name": "stdout",
          "text": [
            "[1 2 3 4 5 6]\n",
            "1\n",
            "(6,)\n",
            "8\n",
            "6\n",
            "int64\n"
          ]
        }
      ]
    },
    {
      "cell_type": "code",
      "metadata": {
        "id": "vkb26J3zZgJT",
        "colab": {
          "base_uri": "https://localhost:8080/"
        },
        "outputId": "a89a724c-a59f-473c-d48e-2e778baa29c0"
      },
      "source": [
        "tensor = tf.constant(a)\n",
        "print(tf.rank(tensor))\n",
        "print(tensor.ndim)\n",
        "print(tensor.shape)\n",
        "print(tensor.dtype)\n",
        "tensor"
      ],
      "execution_count": null,
      "outputs": [
        {
          "output_type": "stream",
          "name": "stdout",
          "text": [
            "tf.Tensor(1, shape=(), dtype=int32)\n",
            "1\n",
            "(6,)\n",
            "<dtype: 'int64'>\n"
          ]
        },
        {
          "output_type": "execute_result",
          "data": {
            "text/plain": [
              "<tf.Tensor: shape=(6,), dtype=int64, numpy=array([1, 2, 3, 4, 5, 6])>"
            ]
          },
          "metadata": {},
          "execution_count": 6
        }
      ]
    },
    {
      "cell_type": "markdown",
      "metadata": {
        "id": "T90fDRMl5jB3"
      },
      "source": [
        "# 특정 값으로 초기화한 `ndarray` 생성\n",
        "\n",
        "`zeros`,`ones`, and `full`"
      ]
    },
    {
      "cell_type": "code",
      "metadata": {
        "id": "Ziw_tUUW5ue_",
        "colab": {
          "base_uri": "https://localhost:8080/"
        },
        "outputId": "a5668f39-3a51-4f01-b720-2db9ffdebcd4"
      },
      "source": [
        "a = np.zeros((3,2))\n",
        "a = np.zeros(shape=(4,4),dtype=np.uint8)\n",
        "a"
      ],
      "execution_count": null,
      "outputs": [
        {
          "output_type": "execute_result",
          "data": {
            "text/plain": [
              "array([[0, 0, 0, 0],\n",
              "       [0, 0, 0, 0],\n",
              "       [0, 0, 0, 0],\n",
              "       [0, 0, 0, 0]], dtype=uint8)"
            ]
          },
          "metadata": {},
          "execution_count": 7
        }
      ]
    },
    {
      "cell_type": "code",
      "metadata": {
        "id": "AbrU16r0rqK3",
        "colab": {
          "base_uri": "https://localhost:8080/"
        },
        "outputId": "c6289161-81f4-44be-e0cf-40745db0ed92"
      },
      "source": [
        "len(a.shape)"
      ],
      "execution_count": null,
      "outputs": [
        {
          "output_type": "execute_result",
          "data": {
            "text/plain": [
              "2"
            ]
          },
          "metadata": {},
          "execution_count": 8
        }
      ]
    },
    {
      "cell_type": "code",
      "metadata": {
        "id": "Ap3hCnBtaMWd",
        "colab": {
          "base_uri": "https://localhost:8080/"
        },
        "outputId": "1d7d3aa6-5c16-4ed8-985e-df98e6087689"
      },
      "source": [
        "# a_tf = tf.constant(a)\n",
        "a_tf = tf.zeros(shape=(3,2))\n",
        "a_tf\n",
        "# a_tf.numpy()"
      ],
      "execution_count": null,
      "outputs": [
        {
          "output_type": "execute_result",
          "data": {
            "text/plain": [
              "<tf.Tensor: shape=(3, 2), dtype=float32, numpy=\n",
              "array([[0., 0.],\n",
              "       [0., 0.],\n",
              "       [0., 0.]], dtype=float32)>"
            ]
          },
          "metadata": {},
          "execution_count": 9
        }
      ]
    },
    {
      "cell_type": "code",
      "metadata": {
        "id": "WkHyv-r651mK",
        "colab": {
          "base_uri": "https://localhost:8080/"
        },
        "outputId": "d998efe1-b39d-415f-e63e-26b99687e90c"
      },
      "source": [
        "a = np.ones((4,2,3))\n",
        "a"
      ],
      "execution_count": null,
      "outputs": [
        {
          "output_type": "execute_result",
          "data": {
            "text/plain": [
              "array([[[1., 1., 1.],\n",
              "        [1., 1., 1.]],\n",
              "\n",
              "       [[1., 1., 1.],\n",
              "        [1., 1., 1.]],\n",
              "\n",
              "       [[1., 1., 1.],\n",
              "        [1., 1., 1.]],\n",
              "\n",
              "       [[1., 1., 1.],\n",
              "        [1., 1., 1.]]])"
            ]
          },
          "metadata": {},
          "execution_count": 10
        }
      ]
    },
    {
      "cell_type": "code",
      "metadata": {
        "id": "37CAi5vUamY9",
        "colab": {
          "base_uri": "https://localhost:8080/"
        },
        "outputId": "dfd47ecf-54fe-417b-c3a5-5eb5a29d0cd0"
      },
      "source": [
        "a_tf = tf.ones((4,2), dtype=tf.int64)\n",
        "a_tf"
      ],
      "execution_count": null,
      "outputs": [
        {
          "output_type": "execute_result",
          "data": {
            "text/plain": [
              "<tf.Tensor: shape=(4, 2), dtype=int64, numpy=\n",
              "array([[1, 1],\n",
              "       [1, 1],\n",
              "       [1, 1],\n",
              "       [1, 1]])>"
            ]
          },
          "metadata": {},
          "execution_count": 11
        }
      ]
    },
    {
      "cell_type": "code",
      "metadata": {
        "id": "prC3HMm355l9",
        "colab": {
          "base_uri": "https://localhost:8080/"
        },
        "outputId": "e86ec1fd-55c4-499b-ade1-f0aff51f88d7"
      },
      "source": [
        "a = np.full((1,3),255)\n",
        "a"
      ],
      "execution_count": null,
      "outputs": [
        {
          "output_type": "execute_result",
          "data": {
            "text/plain": [
              "array([[255, 255, 255]])"
            ]
          },
          "metadata": {},
          "execution_count": 12
        }
      ]
    },
    {
      "cell_type": "code",
      "metadata": {
        "id": "nJhwZ89uayMB",
        "colab": {
          "base_uri": "https://localhost:8080/"
        },
        "outputId": "220cf3ac-94ab-4de7-9911-8839369634df"
      },
      "source": [
        "a_tf = tf.constant(a)\n",
        "a_tf"
      ],
      "execution_count": null,
      "outputs": [
        {
          "output_type": "execute_result",
          "data": {
            "text/plain": [
              "<tf.Tensor: shape=(1, 3), dtype=int64, numpy=array([[255, 255, 255]])>"
            ]
          },
          "metadata": {},
          "execution_count": 13
        }
      ]
    },
    {
      "cell_type": "markdown",
      "metadata": {
        "id": "rg1LU7jH5IGB"
      },
      "source": [
        "# 기존의 `ndarray` 와 같은 shape를 가지는 `ndarray`생성\n",
        "\n",
        "`zeros_like`, `ones_like`, and `full_like` "
      ]
    },
    {
      "cell_type": "code",
      "metadata": {
        "id": "L4ag0LTM5_sJ",
        "colab": {
          "base_uri": "https://localhost:8080/"
        },
        "outputId": "600f8cf0-c257-4717-fcfe-82ba0f30d027"
      },
      "source": [
        "s = np.array([[1,2,3],[4,5,6]])\n",
        "print(s.shape)\n",
        "\n",
        "a = np.zeros_like(s)\n",
        "print(a.shape)\n",
        "a"
      ],
      "execution_count": null,
      "outputs": [
        {
          "output_type": "stream",
          "name": "stdout",
          "text": [
            "(2, 3)\n",
            "(2, 3)\n"
          ]
        },
        {
          "output_type": "execute_result",
          "data": {
            "text/plain": [
              "array([[0, 0, 0],\n",
              "       [0, 0, 0]])"
            ]
          },
          "metadata": {},
          "execution_count": 14
        }
      ]
    },
    {
      "cell_type": "code",
      "metadata": {
        "id": "Evk1B89u6QgA",
        "colab": {
          "base_uri": "https://localhost:8080/"
        },
        "outputId": "e38e826b-09fa-43d0-b7e9-fe52f303ff24"
      },
      "source": [
        "a = np.ones_like(s)\n",
        "print(a.shape)\n",
        "a"
      ],
      "execution_count": null,
      "outputs": [
        {
          "output_type": "stream",
          "name": "stdout",
          "text": [
            "(2, 3)\n"
          ]
        },
        {
          "output_type": "execute_result",
          "data": {
            "text/plain": [
              "array([[1, 1, 1],\n",
              "       [1, 1, 1]])"
            ]
          },
          "metadata": {},
          "execution_count": 15
        }
      ]
    },
    {
      "cell_type": "code",
      "metadata": {
        "id": "3KbDRVns6WwS",
        "colab": {
          "base_uri": "https://localhost:8080/"
        },
        "outputId": "a298428b-03ae-457d-dded-40d532f46fa2"
      },
      "source": [
        "a = np.full_like(s,3.0)\n",
        "a"
      ],
      "execution_count": null,
      "outputs": [
        {
          "output_type": "execute_result",
          "data": {
            "text/plain": [
              "array([[3, 3, 3],\n",
              "       [3, 3, 3]])"
            ]
          },
          "metadata": {},
          "execution_count": 16
        }
      ]
    },
    {
      "cell_type": "markdown",
      "metadata": {
        "id": "G74cZ8N0GZRs"
      },
      "source": [
        "# indexing & slicing\n",
        "\n",
        "`ndarray`의 element에 접근하는 것은 indexing을 통해 하나하나에 접근하고, slicing을 통해 특정 영역의 element에 접근 가능함.\n",
        "\n",
        "* list등의 python의 fundamental type들과의 차이는 slicing의 경우에 numpy는 원본을 가리키고 있어서 slicing으로 실제로 원본이 수정되게 됨. (주의 필요.)"
      ]
    },
    {
      "cell_type": "code",
      "metadata": {
        "id": "7L33cIoPHFzZ",
        "colab": {
          "base_uri": "https://localhost:8080/"
        },
        "outputId": "a6fe63bb-a3fa-45c2-87c3-3c5fc4628b0e"
      },
      "source": [
        "A = np.arange(0,12).reshape(3,4)\n",
        "A"
      ],
      "execution_count": null,
      "outputs": [
        {
          "output_type": "execute_result",
          "data": {
            "text/plain": [
              "array([[ 0,  1,  2,  3],\n",
              "       [ 4,  5,  6,  7],\n",
              "       [ 8,  9, 10, 11]])"
            ]
          },
          "metadata": {},
          "execution_count": 17
        }
      ]
    },
    {
      "cell_type": "code",
      "metadata": {
        "id": "RYJZ9uXfbkl-",
        "colab": {
          "base_uri": "https://localhost:8080/"
        },
        "outputId": "0c49d67a-ef5d-43ae-aa8d-3db5fdc53d1d"
      },
      "source": [
        "A_tf = tf.constant(tf.range(0,12),shape=(3,4))\n",
        "A_tf"
      ],
      "execution_count": null,
      "outputs": [
        {
          "output_type": "execute_result",
          "data": {
            "text/plain": [
              "<tf.Tensor: shape=(3, 4), dtype=int32, numpy=\n",
              "array([[ 0,  1,  2,  3],\n",
              "       [ 4,  5,  6,  7],\n",
              "       [ 8,  9, 10, 11]], dtype=int32)>"
            ]
          },
          "metadata": {},
          "execution_count": 18
        }
      ]
    },
    {
      "cell_type": "code",
      "metadata": {
        "id": "gQHQpAusHTz4",
        "colab": {
          "base_uri": "https://localhost:8080/"
        },
        "outputId": "05ee5aae-4173-4390-cb36-6bb390b4a3c5"
      },
      "source": [
        "print(A)\n",
        "print(f'A[0] is \"{A[0]}\"')\n",
        "print(f'A[0,2] is \"{A[0,2]}\"')\n",
        "print(f'A[0][2] is \"{A[0][2]}\"')"
      ],
      "execution_count": null,
      "outputs": [
        {
          "output_type": "stream",
          "name": "stdout",
          "text": [
            "[[ 0  1  2  3]\n",
            " [ 4  5  6  7]\n",
            " [ 8  9 10 11]]\n",
            "A[0] is \"[0 1 2 3]\"\n",
            "A[0,2] is \"2\"\n",
            "A[0][2] is \"2\"\n"
          ]
        }
      ]
    },
    {
      "cell_type": "code",
      "metadata": {
        "id": "6KrRSSU3ut2w",
        "colab": {
          "base_uri": "https://localhost:8080/"
        },
        "outputId": "ebd22a9c-dcec-4dcc-f16d-b09014ed0860"
      },
      "source": [
        "A[2,2]"
      ],
      "execution_count": null,
      "outputs": [
        {
          "output_type": "execute_result",
          "data": {
            "text/plain": [
              "10"
            ]
          },
          "metadata": {},
          "execution_count": 20
        }
      ]
    },
    {
      "cell_type": "code",
      "metadata": {
        "id": "eHl_Vun7wawq",
        "colab": {
          "base_uri": "https://localhost:8080/"
        },
        "outputId": "acf68d22-4f37-4c98-edc3-873a9dd73434"
      },
      "source": [
        "A[2,2] = 77\n",
        "A"
      ],
      "execution_count": null,
      "outputs": [
        {
          "output_type": "execute_result",
          "data": {
            "text/plain": [
              "array([[ 0,  1,  2,  3],\n",
              "       [ 4,  5,  6,  7],\n",
              "       [ 8,  9, 77, 11]])"
            ]
          },
          "metadata": {},
          "execution_count": 21
        }
      ]
    },
    {
      "cell_type": "code",
      "metadata": {
        "id": "duiFaLnYcFvY",
        "colab": {
          "base_uri": "https://localhost:8080/"
        },
        "outputId": "7752aeac-f27a-4161-c8a5-fd269d3a5902"
      },
      "source": [
        "A_tf[0,2] # scalar"
      ],
      "execution_count": null,
      "outputs": [
        {
          "output_type": "execute_result",
          "data": {
            "text/plain": [
              "<tf.Tensor: shape=(), dtype=int32, numpy=2>"
            ]
          },
          "metadata": {},
          "execution_count": 22
        }
      ]
    },
    {
      "cell_type": "code",
      "metadata": {
        "id": "tZeRYWUoH1wF",
        "colab": {
          "base_uri": "https://localhost:8080/"
        },
        "outputId": "ba10f600-9e35-4ca2-b060-779b9a751791"
      },
      "source": [
        "print(A)\n",
        "print(f'A[1,2:] is \"{A[1,2:]}\"')\n",
        "print(f'A[1,::2] is \"{A[1,::2]}\"')\n",
        "print(f'A[1,::-2] is \"{A[1,::-2]}\"')\n",
        "print(f'A[1,::-1] is \"{A[1,::-1]}\"')\n",
        "print(f'A[1,3:0:-1] is \"{A[1,3:0:-1]}\"')"
      ],
      "execution_count": null,
      "outputs": [
        {
          "output_type": "stream",
          "name": "stdout",
          "text": [
            "[[ 0  1  2  3]\n",
            " [ 4  5  6  7]\n",
            " [ 8  9 77 11]]\n",
            "A[1,2:] is \"[6 7]\"\n",
            "A[1,::2] is \"[4 6]\"\n",
            "A[1,::-2] is \"[7 5]\"\n",
            "A[1,::-1] is \"[7 6 5 4]\"\n",
            "A[1,3:0:-1] is \"[7 6 5]\"\n"
          ]
        }
      ]
    },
    {
      "cell_type": "code",
      "metadata": {
        "id": "7fAa6FFqIjiY",
        "colab": {
          "base_uri": "https://localhost:8080/"
        },
        "outputId": "92c8eeed-3257-4e81-d2a2-1409d3917fc4"
      },
      "source": [
        "print(A)\n",
        "A[1:3,1:3] = 3*A[1:3,1:3] "
      ],
      "execution_count": null,
      "outputs": [
        {
          "output_type": "stream",
          "name": "stdout",
          "text": [
            "[[ 0  1  2  3]\n",
            " [ 4  5  6  7]\n",
            " [ 8  9 77 11]]\n"
          ]
        }
      ]
    },
    {
      "cell_type": "code",
      "metadata": {
        "id": "ZsC__RZzItTM",
        "colab": {
          "base_uri": "https://localhost:8080/"
        },
        "outputId": "c99866eb-d560-4442-8732-26d4662a9931"
      },
      "source": [
        "A[1:3,1:3] = 777\n",
        "A"
      ],
      "execution_count": null,
      "outputs": [
        {
          "output_type": "execute_result",
          "data": {
            "text/plain": [
              "array([[  0,   1,   2,   3],\n",
              "       [  4, 777, 777,   7],\n",
              "       [  8, 777, 777,  11]])"
            ]
          },
          "metadata": {},
          "execution_count": 25
        }
      ]
    },
    {
      "cell_type": "markdown",
      "metadata": {
        "id": "OSd5xM3x6V_A"
      },
      "source": [
        "# 난수 생성.\n",
        "\n",
        "`np.random.rand([d0 [,d1 [ ..., dn])` : 0~1사이의 수들이 균일한 확률로 선택되어 반환됨.\n",
        "* d0 , ... , dn : 난수로 구성된 ndarray의 shape를 지정하는 데 사용됨.\n",
        "\n",
        "`np.random.randn([d0 [,d1 [ ..., dn])` : $\\mu=0, \\sigma=1$ 인 정규 분포를 따르는 난수 반환.\n"
      ]
    },
    {
      "cell_type": "code",
      "metadata": {
        "id": "d7oxzXhO7r8r",
        "colab": {
          "base_uri": "https://localhost:8080/"
        },
        "outputId": "cf4b9f39-b2b1-4ca9-c84d-e6a866cbd840"
      },
      "source": [
        "A = np.random.rand(3,4)\n",
        "print(A.dtype)\n",
        "A"
      ],
      "execution_count": null,
      "outputs": [
        {
          "output_type": "stream",
          "name": "stdout",
          "text": [
            "float64\n"
          ]
        },
        {
          "output_type": "execute_result",
          "data": {
            "text/plain": [
              "array([[0.98540596, 0.30058202, 0.95855178, 0.50703975],\n",
              "       [0.68445491, 0.24468816, 0.97530147, 0.34166945],\n",
              "       [0.34412055, 0.54916915, 0.83315199, 0.91146033]])"
            ]
          },
          "metadata": {},
          "execution_count": 26
        }
      ]
    },
    {
      "cell_type": "markdown",
      "metadata": {
        "id": "ukV5g5IssPYi"
      },
      "source": [
        "##### 텐서플로우에서 random 함수로 균일분포 난수를 발생"
      ]
    },
    {
      "cell_type": "code",
      "metadata": {
        "id": "aOqMiEsScnS9",
        "colab": {
          "base_uri": "https://localhost:8080/"
        },
        "outputId": "8788eef4-c638-4472-cd17-f5a0bea2ca59"
      },
      "source": [
        "A_tf = tf.random.uniform(shape=(3,4), minval=0., maxval=1. )\n",
        "A_tf"
      ],
      "execution_count": null,
      "outputs": [
        {
          "output_type": "execute_result",
          "data": {
            "text/plain": [
              "<tf.Tensor: shape=(3, 4), dtype=float32, numpy=\n",
              "array([[0.6522708 , 0.8900511 , 0.6225263 , 0.31574237],\n",
              "       [0.9775747 , 0.55534685, 0.8013394 , 0.2605517 ],\n",
              "       [0.30720043, 0.4664458 , 0.00624251, 0.5104612 ]], dtype=float32)>"
            ]
          },
          "metadata": {},
          "execution_count": 27
        }
      ]
    },
    {
      "cell_type": "code",
      "metadata": {
        "id": "fbjSFZVO7x56",
        "colab": {
          "base_uri": "https://localhost:8080/"
        },
        "outputId": "305e16a4-7055-4c56-8f54-487f35c6aed2"
      },
      "source": [
        "A = np.random.randn(3,4) #normal distribution of which parameters are mean and standard deviation.\n",
        "print(A)\n",
        "print(A.shape)\n",
        "print(np.mean(A),np.std(A))"
      ],
      "execution_count": null,
      "outputs": [
        {
          "output_type": "stream",
          "name": "stdout",
          "text": [
            "[[-1.45077865  0.17551097 -0.43582153 -1.42396905]\n",
            " [-2.35032222 -0.326537   -0.11404077  0.27540945]\n",
            " [-1.11400629 -1.52248791  0.79606071 -0.12059593]]\n",
            "(3, 4)\n",
            "-0.6342981864516305 0.887501779707354\n"
          ]
        }
      ]
    },
    {
      "cell_type": "markdown",
      "metadata": {
        "id": "kWjIwZDKsAmA"
      },
      "source": [
        "##### 텐서플로우 random.normal 랜덤 정규분포 난수 함수"
      ]
    },
    {
      "cell_type": "code",
      "metadata": {
        "id": "QJGIx8J0dfUW",
        "colab": {
          "base_uri": "https://localhost:8080/"
        },
        "outputId": "515698b8-3b5e-4cdd-853b-eaf70c58c151"
      },
      "source": [
        "A_tf = tf.random.normal(shape=(1,2),mean=0., stddev=1.0)\n",
        "# stddev : 표준 편차(standard deviation)는 분산을 제곱근\n",
        "A_tf"
      ],
      "execution_count": null,
      "outputs": [
        {
          "output_type": "execute_result",
          "data": {
            "text/plain": [
              "<tf.Tensor: shape=(1, 2), dtype=float32, numpy=array([[-2.3878808 ,  0.04392651]], dtype=float32)>"
            ]
          },
          "metadata": {},
          "execution_count": 31
        }
      ]
    },
    {
      "cell_type": "markdown",
      "metadata": {
        "id": "M28jZA4u77ly"
      },
      "source": [
        "# `ndarray`의 `dtype` 변경\n",
        "\n",
        "`ndarray.astype(dtype)` : method. argument로 넘겨진 `dtype`로 해당 `ndarray`의 타입 변경한 `ndarray`반환\n",
        "\n",
        "`np.uint8(ndarray)` : argument로 넘겨진 `ndarray`를 `uint8`로 변경한 새로운 `ndarray`반환\n",
        "\n",
        "..."
      ]
    },
    {
      "cell_type": "code",
      "metadata": {
        "id": "kk380h0j8f3k",
        "colab": {
          "base_uri": "https://localhost:8080/"
        },
        "outputId": "07ac8175-44bd-42b2-9ee5-6d2b132aa538"
      },
      "source": [
        "print(a)\n",
        "print(type(a))\n",
        "a.dtype"
      ],
      "execution_count": null,
      "outputs": [
        {
          "output_type": "stream",
          "name": "stdout",
          "text": [
            "[[3 3 3]\n",
            " [3 3 3]]\n",
            "<class 'numpy.ndarray'>\n"
          ]
        },
        {
          "output_type": "execute_result",
          "data": {
            "text/plain": [
              "dtype('int64')"
            ]
          },
          "metadata": {},
          "execution_count": 33
        }
      ]
    },
    {
      "cell_type": "code",
      "metadata": {
        "id": "UgSxTJS18kqy",
        "colab": {
          "base_uri": "https://localhost:8080/"
        },
        "outputId": "903af99c-7317-4858-fbd7-1fd1e664c451"
      },
      "source": [
        "c = a.astype('float32')\n",
        "print(a.dtype)\n",
        "print(c)\n",
        "print(id(a))\n",
        "print(id(c))"
      ],
      "execution_count": null,
      "outputs": [
        {
          "output_type": "stream",
          "name": "stdout",
          "text": [
            "int64\n",
            "[[3. 3. 3.]\n",
            " [3. 3. 3.]]\n",
            "139942595836224\n",
            "139942551164448\n"
          ]
        }
      ]
    },
    {
      "cell_type": "code",
      "metadata": {
        "id": "K7kTPOMe0P8F",
        "colab": {
          "base_uri": "https://localhost:8080/"
        },
        "outputId": "9c88b77e-0081-4f14-c949-c8fb0206cacd"
      },
      "source": [
        "a.astype(np.float128)"
      ],
      "execution_count": null,
      "outputs": [
        {
          "output_type": "execute_result",
          "data": {
            "text/plain": [
              "array([[3., 3., 3.],\n",
              "       [3., 3., 3.]], dtype=float128)"
            ]
          },
          "metadata": {},
          "execution_count": 35
        }
      ]
    },
    {
      "cell_type": "code",
      "metadata": {
        "id": "XE9F8gd2eFhj",
        "colab": {
          "base_uri": "https://localhost:8080/"
        },
        "outputId": "de6fd983-9cd2-475f-96e4-6d239874084a"
      },
      "source": [
        "c_tf = tf.dtypes.cast(c,tf.float32)\n",
        "c_tf"
      ],
      "execution_count": null,
      "outputs": [
        {
          "output_type": "execute_result",
          "data": {
            "text/plain": [
              "<tf.Tensor: shape=(2, 3), dtype=float32, numpy=\n",
              "array([[3., 3., 3.],\n",
              "       [3., 3., 3.]], dtype=float32)>"
            ]
          },
          "metadata": {},
          "execution_count": 36
        }
      ]
    },
    {
      "cell_type": "code",
      "metadata": {
        "id": "hMHn9U2u80Z3",
        "colab": {
          "base_uri": "https://localhost:8080/"
        },
        "outputId": "0392600f-6ffd-4b9d-dde3-e88664df83f4"
      },
      "source": [
        "c = np.uint8(a)\n",
        "print(c.dtype)\n",
        "print(c)\n",
        "print(id(a))\n",
        "print(id(c))"
      ],
      "execution_count": null,
      "outputs": [
        {
          "output_type": "stream",
          "name": "stdout",
          "text": [
            "uint8\n",
            "[[3 3 3]\n",
            " [3 3 3]]\n",
            "139942595836224\n",
            "139942551849920\n"
          ]
        }
      ]
    },
    {
      "cell_type": "code",
      "metadata": {
        "id": "ECJ8eGrAekrN",
        "colab": {
          "base_uri": "https://localhost:8080/"
        },
        "outputId": "7aaa98ab-9899-4cf6-ad3a-9710aab1ea20"
      },
      "source": [
        "c = np.uint64(a)\n",
        "print(a.dtype)\n",
        "print(c.dtype)\n",
        "print(c)\n",
        "print(id(a))\n",
        "print(id(c))"
      ],
      "execution_count": null,
      "outputs": [
        {
          "output_type": "stream",
          "name": "stdout",
          "text": [
            "int64\n",
            "uint64\n",
            "[[3 3 3]\n",
            " [3 3 3]]\n",
            "139942595836224\n",
            "139942551214800\n"
          ]
        }
      ]
    },
    {
      "cell_type": "markdown",
      "metadata": {
        "id": "-0sz_0EO9Jru"
      },
      "source": [
        "# `shape`변경\n",
        "\n",
        "`ndarray.reshape(new_shape)`"
      ]
    },
    {
      "cell_type": "code",
      "metadata": {
        "id": "ICg0CAS6W0qd",
        "colab": {
          "base_uri": "https://localhost:8080/"
        },
        "outputId": "95f38d19-27ee-4708-fa39-c4ae10139e23"
      },
      "source": [
        "v = np.arange(4)\n",
        "print(v,v.shape)\n",
        "a = v.reshape(2,2)\n",
        "a\n",
        "a[0]=777\n",
        "print(v)\n",
        "print(a)"
      ],
      "execution_count": null,
      "outputs": [
        {
          "output_type": "stream",
          "name": "stdout",
          "text": [
            "[0 1 2 3] (4,)\n",
            "[777 777   2   3]\n",
            "[[777 777]\n",
            " [  2   3]]\n"
          ]
        }
      ]
    },
    {
      "cell_type": "code",
      "metadata": {
        "id": "Vm0n4k_qW6Ej",
        "colab": {
          "base_uri": "https://localhost:8080/"
        },
        "outputId": "26eb5634-6b96-4bf5-9aac-e3977556b97c"
      },
      "source": [
        "b= np.arange(10,14).reshape(2,2)\n",
        "b"
      ],
      "execution_count": null,
      "outputs": [
        {
          "output_type": "execute_result",
          "data": {
            "text/plain": [
              "array([[10, 11],\n",
              "       [12, 13]])"
            ]
          },
          "metadata": {},
          "execution_count": 41
        }
      ]
    },
    {
      "cell_type": "code",
      "metadata": {
        "id": "ywRL9YZC9sk5",
        "colab": {
          "base_uri": "https://localhost:8080/"
        },
        "outputId": "5c001313-91c9-4487-fafb-9e7654a4381d"
      },
      "source": [
        "a = np.arange(0,10,2) # [ s:e :step_size]\n",
        "b = a.reshape((1,5))\n",
        "print(a.shape)\n",
        "print(b.shape)\n",
        "c = a.reshape((5,1))\n",
        "print(c.shape)\n",
        "print(\"a is \", a)\n",
        "print(\"b is \", b)\n",
        "print(\"c is \", c)"
      ],
      "execution_count": null,
      "outputs": [
        {
          "output_type": "stream",
          "name": "stdout",
          "text": [
            "(5,)\n",
            "(1, 5)\n",
            "(5, 1)\n",
            "a is  [0 2 4 6 8]\n",
            "b is  [[0 2 4 6 8]]\n",
            "c is  [[0]\n",
            " [2]\n",
            " [4]\n",
            " [6]\n",
            " [8]]\n"
          ]
        }
      ]
    },
    {
      "cell_type": "code",
      "metadata": {
        "id": "6HvEgicDfLtI",
        "colab": {
          "base_uri": "https://localhost:8080/"
        },
        "outputId": "602c16f6-180d-4d70-9c9e-8893661a0718"
      },
      "source": [
        "a_tf = tf.constant(a)\n",
        "print(a_tf.shape, tf.rank(a_tf))\n",
        "\n",
        "b_tf = tf.reshape(a_tf,(5,1))\n",
        "print(b_tf.shape, tf.rank(b_tf))\n",
        "\n",
        "c_tf = tf.reshape(a_tf,shape=(1,5))\n",
        "print(c_tf.shape, tf.rank(c_tf))"
      ],
      "execution_count": null,
      "outputs": [
        {
          "output_type": "stream",
          "name": "stdout",
          "text": [
            "(5,) tf.Tensor(1, shape=(), dtype=int32)\n",
            "(5, 1) tf.Tensor(2, shape=(), dtype=int32)\n",
            "(1, 5) tf.Tensor(2, shape=(), dtype=int32)\n"
          ]
        }
      ]
    },
    {
      "cell_type": "markdown",
      "metadata": {
        "id": "i5LVKihH-Any"
      },
      "source": [
        "# ndarray를 1차원으로 풀어내기\n",
        "\n",
        "`ndarray.ravel()`"
      ]
    },
    {
      "cell_type": "code",
      "metadata": {
        "id": "ahP9O_37-Kyl",
        "colab": {
          "base_uri": "https://localhost:8080/"
        },
        "outputId": "6bea9248-2736-4cf7-bfb9-435a30045a7b"
      },
      "source": [
        "a = np.arange(1,10).reshape((3,3))\n",
        "b = a.ravel()\n",
        "print(a.shape, id(a))\n",
        "\n",
        "print(b.shape, id(b))\n",
        "b"
      ],
      "execution_count": null,
      "outputs": [
        {
          "output_type": "stream",
          "name": "stdout",
          "text": [
            "(3, 3) 139942485830912\n",
            "(9,) 139942552226112\n"
          ]
        },
        {
          "output_type": "execute_result",
          "data": {
            "text/plain": [
              "array([1, 2, 3, 4, 5, 6, 7, 8, 9])"
            ]
          },
          "metadata": {},
          "execution_count": 59
        }
      ]
    },
    {
      "cell_type": "markdown",
      "metadata": {
        "id": "s7I0Ho5T2O61"
      },
      "source": [
        "# Test01\n",
        " * 8 by 4 로 된 matrix를 만들것.\n",
        " * 해당 matrix는 2부터 시작해서 짝수들로 64보다 작거나 같은 수로 채워짐. 행부터 채울것.\n",
        " * 해당 matrix를 출력하고 나서 vector로  만들것 (shape=(32,)인 np.array)\n",
        " * 해당 vector를 다시 출력.\n"
      ]
    },
    {
      "cell_type": "code",
      "metadata": {
        "id": "6pA7-A4uucEz",
        "colab": {
          "base_uri": "https://localhost:8080/"
        },
        "outputId": "57916b8d-ec79-4940-871d-e04549d890c4"
      },
      "source": [
        "matrix = np.arange(2,65,2).reshape(8,4)\n",
        "print(\"matrix's shape : \", matrix.shape)\n",
        "print(\"matrix is : \\n\", matrix)\n",
        "print(\"------------------------------\")\n",
        "vector = matrix.ravel()\n",
        "print(\"vector's shape : \", vector.shape)\n",
        "print(\"vector's type : \", type(vector))\n",
        "print(\"vector is : \", vector)"
      ],
      "execution_count": null,
      "outputs": [
        {
          "output_type": "stream",
          "name": "stdout",
          "text": [
            "matrix's shape :  (8, 4)\n",
            "matrix is : \n",
            " [[ 2  4  6  8]\n",
            " [10 12 14 16]\n",
            " [18 20 22 24]\n",
            " [26 28 30 32]\n",
            " [34 36 38 40]\n",
            " [42 44 46 48]\n",
            " [50 52 54 56]\n",
            " [58 60 62 64]]\n",
            "------------------------------\n",
            "vector's shape :  (32,)\n",
            "vector's type :  <class 'numpy.ndarray'>\n",
            "vector is :  [ 2  4  6  8 10 12 14 16 18 20 22 24 26 28 30 32 34 36 38 40 42 44 46 48\n",
            " 50 52 54 56 58 60 62 64]\n"
          ]
        }
      ]
    },
    {
      "cell_type": "markdown",
      "metadata": {
        "id": "VW2kRHBk-qbO"
      },
      "source": [
        "# Transpose\n",
        "\n",
        "`ndarray.T`"
      ]
    },
    {
      "cell_type": "code",
      "metadata": {
        "id": "9wFIAlaswAVT"
      },
      "source": [
        "a = np.ones(shape = (3,3))"
      ],
      "execution_count": null,
      "outputs": []
    },
    {
      "cell_type": "code",
      "metadata": {
        "id": "VwdMgAcq-ysf",
        "colab": {
          "base_uri": "https://localhost:8080/"
        },
        "outputId": "a0a44e7b-6869-451b-e5ad-10ec883828ab"
      },
      "source": [
        "c=a.T\n",
        "print(a)\n",
        "print(c)"
      ],
      "execution_count": null,
      "outputs": [
        {
          "output_type": "stream",
          "name": "stdout",
          "text": [
            "[[1. 1. 1.]\n",
            " [1. 1. 1.]\n",
            " [1. 1. 1.]]\n",
            "[[1. 1. 1.]\n",
            " [1. 1. 1.]\n",
            " [1. 1. 1.]]\n"
          ]
        }
      ]
    },
    {
      "cell_type": "markdown",
      "metadata": {
        "id": "nE3FMUMF_CcD"
      },
      "source": [
        "# Broadcasting\n",
        "\n",
        "ndarray와 scalar와 연산시킬때, 해당 ndarray와 같은 shape이면서 해당 scalar의 값을 가진 ndarray와 연산시키는 것처럼 자동으로 elementwise연산이 수행되는 기능.\n",
        "* numpy의 가장 강력한 기능 중 하나. "
      ]
    },
    {
      "cell_type": "code",
      "metadata": {
        "id": "hGr38-wF_fgw",
        "colab": {
          "base_uri": "https://localhost:8080/"
        },
        "outputId": "f202195b-f57f-40dc-ede8-a74f8af84396"
      },
      "source": [
        "print(a)\n",
        "c = a/2\n",
        "print(c)"
      ],
      "execution_count": null,
      "outputs": [
        {
          "output_type": "stream",
          "name": "stdout",
          "text": [
            "[[1. 1. 1.]\n",
            " [1. 1. 1.]\n",
            " [1. 1. 1.]]\n",
            "[[0.5 0.5 0.5]\n",
            " [0.5 0.5 0.5]\n",
            " [0.5 0.5 0.5]]\n"
          ]
        }
      ]
    },
    {
      "cell_type": "code",
      "metadata": {
        "id": "zVfumBf7_njB",
        "colab": {
          "base_uri": "https://localhost:8080/"
        },
        "outputId": "271ec3ea-a7b6-4eed-ec95-a44da72e47c2"
      },
      "source": [
        "a = np.ones( shape=(5,3) )\n",
        "c = a + np.array([3,4,5])\n",
        "print(c)\n",
        "\n",
        "print(np.array([3,4,5]).shape)"
      ],
      "execution_count": null,
      "outputs": [
        {
          "output_type": "stream",
          "name": "stdout",
          "text": [
            "[[4. 5. 6.]\n",
            " [4. 5. 6.]\n",
            " [4. 5. 6.]\n",
            " [4. 5. 6.]\n",
            " [4. 5. 6.]]\n",
            "(3,)\n"
          ]
        }
      ]
    },
    {
      "cell_type": "code",
      "metadata": {
        "id": "c9qN1ZHy4HKh",
        "colab": {
          "base_uri": "https://localhost:8080/",
          "height": 239
        },
        "outputId": "5ffaea75-eb8e-40ae-c313-8492d2f61695"
      },
      "source": [
        "b= np.array([3,4,5,6,7])\n",
        "print(b.shape)\n",
        "c = a+b\n",
        "print(c)"
      ],
      "execution_count": null,
      "outputs": [
        {
          "output_type": "stream",
          "name": "stdout",
          "text": [
            "(5,)\n"
          ]
        },
        {
          "output_type": "error",
          "ename": "ValueError",
          "evalue": "ignored",
          "traceback": [
            "\u001b[0;31m---------------------------------------------------------------------------\u001b[0m",
            "\u001b[0;31mValueError\u001b[0m                                Traceback (most recent call last)",
            "\u001b[0;32m<ipython-input-67-3f984dd1339e>\u001b[0m in \u001b[0;36m<module>\u001b[0;34m()\u001b[0m\n\u001b[1;32m      1\u001b[0m \u001b[0mb\u001b[0m\u001b[0;34m=\u001b[0m \u001b[0mnp\u001b[0m\u001b[0;34m.\u001b[0m\u001b[0marray\u001b[0m\u001b[0;34m(\u001b[0m\u001b[0;34m[\u001b[0m\u001b[0;36m3\u001b[0m\u001b[0;34m,\u001b[0m\u001b[0;36m4\u001b[0m\u001b[0;34m,\u001b[0m\u001b[0;36m5\u001b[0m\u001b[0;34m,\u001b[0m\u001b[0;36m6\u001b[0m\u001b[0;34m,\u001b[0m\u001b[0;36m7\u001b[0m\u001b[0;34m]\u001b[0m\u001b[0;34m)\u001b[0m\u001b[0;34m\u001b[0m\u001b[0;34m\u001b[0m\u001b[0m\n\u001b[1;32m      2\u001b[0m \u001b[0mprint\u001b[0m\u001b[0;34m(\u001b[0m\u001b[0mb\u001b[0m\u001b[0;34m.\u001b[0m\u001b[0mshape\u001b[0m\u001b[0;34m)\u001b[0m\u001b[0;34m\u001b[0m\u001b[0;34m\u001b[0m\u001b[0m\n\u001b[0;32m----> 3\u001b[0;31m \u001b[0mc\u001b[0m \u001b[0;34m=\u001b[0m \u001b[0ma\u001b[0m\u001b[0;34m+\u001b[0m\u001b[0mb\u001b[0m\u001b[0;34m\u001b[0m\u001b[0;34m\u001b[0m\u001b[0m\n\u001b[0m\u001b[1;32m      4\u001b[0m \u001b[0mprint\u001b[0m\u001b[0;34m(\u001b[0m\u001b[0mc\u001b[0m\u001b[0;34m)\u001b[0m\u001b[0;34m\u001b[0m\u001b[0;34m\u001b[0m\u001b[0m\n",
            "\u001b[0;31mValueError\u001b[0m: operands could not be broadcast together with shapes (5,3) (5,) "
          ]
        }
      ]
    },
    {
      "cell_type": "code",
      "metadata": {
        "id": "dFlu3cRR4EHI",
        "colab": {
          "base_uri": "https://localhost:8080/"
        },
        "outputId": "a896d201-4e21-4719-a688-2b30ceb24527"
      },
      "source": [
        "b = np.array([3,4,5,6,7])\n",
        "#b = b[:,np.newaxis]\n",
        "b = b.reshape(5,1)\n",
        "print(a)\n",
        "c = a+b\n",
        "print(a.shape)\n",
        "print(b.shape)\n",
        "print(c)"
      ],
      "execution_count": null,
      "outputs": [
        {
          "output_type": "stream",
          "name": "stdout",
          "text": [
            "[[1. 1. 1.]\n",
            " [1. 1. 1.]\n",
            " [1. 1. 1.]\n",
            " [1. 1. 1.]\n",
            " [1. 1. 1.]]\n",
            "(5, 3)\n",
            "(5, 1)\n",
            "[[4. 4. 4.]\n",
            " [5. 5. 5.]\n",
            " [6. 6. 6.]\n",
            " [7. 7. 7.]\n",
            " [8. 8. 8.]]\n"
          ]
        }
      ]
    },
    {
      "cell_type": "code",
      "metadata": {
        "id": "5jtz9Mtp4Fza",
        "colab": {
          "base_uri": "https://localhost:8080/"
        },
        "outputId": "9a3b44c1-120c-4b6a-9360-3b29089244e2"
      },
      "source": [
        "c = a+np.array([3,4,5,6,7]).reshape((5,1))\n",
        "print(c)"
      ],
      "execution_count": null,
      "outputs": [
        {
          "output_type": "stream",
          "name": "stdout",
          "text": [
            "[[4. 4. 4.]\n",
            " [5. 5. 5.]\n",
            " [6. 6. 6.]\n",
            " [7. 7. 7.]\n",
            " [8. 8. 8.]]\n"
          ]
        }
      ]
    },
    {
      "cell_type": "code",
      "metadata": {
        "id": "UidPatuz4pIK"
      },
      "source": [
        ""
      ],
      "execution_count": null,
      "outputs": []
    }
  ]
}