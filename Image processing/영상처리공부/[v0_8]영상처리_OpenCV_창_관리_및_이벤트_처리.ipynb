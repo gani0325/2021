{
  "nbformat": 4,
  "nbformat_minor": 0,
  "metadata": {
    "colab": {
      "name": "[v0.8]영상처리_OpenCV_창 관리 및 이벤트 처리",
      "provenance": [],
      "authorship_tag": "ABX9TyNNPMwBfKb3ehg1Jpdo9d+D",
      "include_colab_link": true
    },
    "kernelspec": {
      "name": "python3",
      "display_name": "Python 3"
    },
    "language_info": {
      "name": "python"
    }
  },
  "cells": [
    {
      "cell_type": "markdown",
      "metadata": {
        "id": "view-in-github",
        "colab_type": "text"
      },
      "source": [
        "<a href=\"https://colab.research.google.com/github/gani0325/2021/blob/main/Image%20processing/%EC%98%81%EC%83%81%EC%B2%98%EB%A6%AC%EA%B3%B5%EB%B6%80/%5Bv0_8%5D%EC%98%81%EC%83%81%EC%B2%98%EB%A6%AC_OpenCV_%EC%B0%BD_%EA%B4%80%EB%A6%AC_%EB%B0%8F_%EC%9D%B4%EB%B2%A4%ED%8A%B8_%EC%B2%98%EB%A6%AC.ipynb\" target=\"_parent\"><img src=\"https://colab.research.google.com/assets/colab-badge.svg\" alt=\"Open In Colab\"/></a>"
      ]
    },
    {
      "cell_type": "markdown",
      "source": [
        "## [v0.8]영상처리_OpenCV_창 관리 및 이벤트 처리\n",
        "\n",
        "https://alpaca-gt.tistory.com/80\n",
        "\n"
      ],
      "metadata": {
        "id": "N6bch_kn88VL"
      }
    },
    {
      "cell_type": "markdown",
      "source": [
        "## 1. 관심 영억 (ROI, Region Of Interest) 표시하기"
      ],
      "metadata": {
        "id": "6kUY7tQJByMV"
      }
    },
    {
      "cell_type": "code",
      "source": [
        "# 관심영역 표시\n",
        "\n",
        "import cv2\n",
        "import numpy as np\n",
        "\n",
        "img = cv2.imread('img/sun.jpg')\n",
        "\n",
        "x=320; y=150; w=50; h=50        # roi 좌표\n",
        "roi = img[y:y+h, x:x+w]         # roi 지정        ---①\n",
        "\n",
        "print(roi.shape)                # roi shape, (50,50,3)\n",
        "cv2.rectangle(roi, (0,0), (h-1, w-1), (0,255,0), 10) # roi 전체에 사각형 그리기 ---②\n",
        "cv2.imshow(\"img\", img)\n",
        "\n",
        "key = cv2.waitKey(0)\n",
        "print(key)\n",
        "cv2.destroyAllWindows()"
      ],
      "metadata": {
        "id": "JmG681AwB1MV"
      },
      "execution_count": null,
      "outputs": []
    },
    {
      "cell_type": "markdown",
      "source": [
        "## +) 특정 영역 확대 및 복제"
      ],
      "metadata": {
        "id": "5K9m5L8xB0NL"
      }
    },
    {
      "cell_type": "code",
      "execution_count": null,
      "metadata": {
        "id": "HE0F-7gj830G"
      },
      "outputs": [],
      "source": [
        "# 관심영역 복제 및 새 창에 띄우기\n",
        "\n",
        "import cv2\n",
        "import numpy as np\n",
        "\n",
        "img = cv2.imread('img/sun.jpg')\n",
        "\n",
        "x=320; y=150; w=50; h=50\n",
        "roi = img[y:y+h, x:x+w]     # roi 지정\n",
        "img2 = roi.copy()           # roi 배열 복제 ---①\n",
        "\n",
        "img[y:y+h, x+w:x+w+w] = roi # 새로운 좌표에 roi 추가, 태양 2개 만들기\n",
        "cv2.rectangle(img, (x,y), (x+w+w, y+h), (0,255,0), 10) # 2개의 태양 영역에 사각형 표시\n",
        "\n",
        "cv2.imshow(\"img\", img)      # 원본 이미지 출력\n",
        "cv2.imshow(\"roi\", img2)     # roi 만 따로 출력\n",
        "\n",
        "cv2.waitKey(0)\n",
        "cv2.destroyAllWindows()"
      ]
    },
    {
      "cell_type": "markdown",
      "source": [
        "## 2. 마우스 드래그로 관심 영역 표시"
      ],
      "metadata": {
        "id": "PYHxO5llB7Tr"
      }
    },
    {
      "cell_type": "code",
      "source": [
        "# 마우스로 관심영역 지정 및 표시, 저장 \n",
        "\n",
        "import cv2\n",
        "import numpy as np\n",
        "\n",
        "isDragging = False                      # 마우스 드래그 상태 저장 \n",
        "x0, y0, w, h = -1,-1,-1,-1              # 영역 선택 좌표 저장\n",
        "blue, red = (255,0,0),(0,0,255)         # 색상 값 \n",
        "\n",
        "def onMouse(event,x,y,flags,param):     # 마우스 이벤트 핸들 함수  ---①\n",
        "    global isDragging, x0, y0, img      # 전역변수 참조\n",
        "    if event == cv2.EVENT_LBUTTONDOWN:  # 왼쪽 마우스 버튼 다운, 드래그 시작 ---②\n",
        "        isDragging = True\n",
        "        x0 = x\n",
        "        y0 = y\n",
        "    elif event == cv2.EVENT_MOUSEMOVE:  # 마우스 움직임 ---③\n",
        "        if isDragging:                  # 드래그 진행 중\n",
        "            img_draw = img.copy()       # 사각형 그림 표현을 위한 이미지 복제\n",
        "            cv2.rectangle(img_draw, (x0, y0), (x, y), blue, 2) # 드래그 진행 영역 표시\n",
        "            cv2.imshow('img', img_draw) # 사각형 표시된 그림 화면 출력\n",
        "    elif event == cv2.EVENT_LBUTTONUP:  # 왼쪽 마우스 버튼 업 ---④\n",
        "        if isDragging:                  # 드래그 중지\n",
        "            isDragging = False          \n",
        "            w = x - x0                  # 드래그 영역 폭 계산\n",
        "            h = y - y0                  # 드래그 영역 높이 계산\n",
        "            print(\"x:%d, y:%d, w:%d, h:%d\" % (x0, y0, w, h))\n",
        "            if w > 0 and h > 0:         # 폭과 높이가 양수이면 드래그 방향이 옳음 ---⑤\n",
        "                img_draw = img.copy()   # 선택 영역에 사각형 그림을 표시할 이미지 복제\n",
        "                # 선택 영역에 빨간 사각형 표시\n",
        "                cv2.rectangle(img_draw, (x0, y0), (x, y), red, 2) \n",
        "                cv2.imshow('img', img_draw) # 빨간 사각형 그려진 이미지 화면 출력\n",
        "                roi = img[y0:y0+h, x0:x0+w] # 원본 이미지에서 선택 영영만 ROI로 지정 ---⑥\n",
        "                cv2.imshow('cropped', roi)  # ROI 지정 영역을 새창으로 표시\n",
        "                cv2.moveWindow('cropped', 0, 0) # 새창을 화면 좌측 상단에 이동\n",
        "                cv2.imwrite('img/cropped.jpg', roi)   # ROI 영역만 파일로 저장 ---⑦\n",
        "                print(\"croped.\")\n",
        "            else:\n",
        "                cv2.imshow('img', img)  # 드래그 방향이 잘못된 경우 사각형 그림ㅇㅣ 없는 원본 이미지 출력\n",
        "                print(\"좌측 상단에서 우측 하단으로 영역을 드래그 하세요.\")\n",
        "\n",
        "img = cv2.imread('img/sun.jpg')\n",
        "cv2.imshow('img', img)\n",
        "cv2.setMouseCallback('img', onMouse) # 마우스 이벤트 등록 ---⑧\n",
        "cv2.waitKey()\n",
        "cv2.destroyAllWindows()"
      ],
      "metadata": {
        "id": "87QUD6yBB76o"
      },
      "execution_count": null,
      "outputs": []
    },
    {
      "cell_type": "markdown",
      "source": [
        "## +) opencv의 함수 사용!"
      ],
      "metadata": {
        "id": "xnZov4m9CDAk"
      }
    },
    {
      "cell_type": "code",
      "source": [
        "# selectROI로 관심영역 지정 및 표시, 저장 (roi_select_img.py)\n",
        "\n",
        "import cv2, numpy as np\n",
        "\n",
        "img = cv2.imread('img/sun.jpg')\n",
        "\n",
        "x,y,w,h\t= cv2.selectROI('img', img, False)      # 원본 이미지 띄어줌\n",
        "if w and h:\n",
        "    roi = img[y:y+h, x:x+w]\n",
        "    cv2.imshow('cropped', roi)  # ROI 지정 영역을 새창으로 표시\n",
        "    cv2.moveWindow('cropped', 0, 0) # 새창을 화면 좌측 상단에 이동\n",
        "    cv2.imwrite('img/cropped2.jpg', roi)   # ROI 영역만 파일로 저장\n",
        "\n",
        "cv2.waitKey(0)\n",
        "cv2.destroyAllWindows()"
      ],
      "metadata": {
        "id": "Id_tT4_uCDbb"
      },
      "execution_count": null,
      "outputs": []
    }
  ]
}