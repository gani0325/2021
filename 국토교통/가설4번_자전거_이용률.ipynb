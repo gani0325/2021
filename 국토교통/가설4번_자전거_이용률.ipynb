{
  "nbformat": 4,
  "nbformat_minor": 0,
  "metadata": {
    "colab": {
      "name": "가설4번_자전거 이용률.ipynb",
      "provenance": [],
      "collapsed_sections": []
    },
    "kernelspec": {
      "display_name": "Python 3",
      "language": "python",
      "name": "python3"
    },
    "language_info": {
      "codemirror_mode": {
        "name": "ipython",
        "version": 3
      },
      "file_extension": ".py",
      "mimetype": "text/x-python",
      "name": "python",
      "nbconvert_exporter": "python",
      "pygments_lexer": "ipython3",
      "version": "3.7.10"
    }
  },
  "cells": [
    {
      "cell_type": "code",
      "metadata": {
        "colab": {
          "base_uri": "https://localhost:8080/"
        },
        "id": "Q6JcfwQX4pze",
        "outputId": "cd30126e-39ae-486c-ddd6-dec8f6253ee1"
      },
      "source": [
        "from google.colab import drive\n",
        "drive.mount('/content/drive')"
      ],
      "execution_count": 25,
      "outputs": [
        {
          "output_type": "stream",
          "text": [
            "Drive already mounted at /content/drive; to attempt to forcibly remount, call drive.mount(\"/content/drive\", force_remount=True).\n"
          ],
          "name": "stdout"
        }
      ]
    },
    {
      "cell_type": "code",
      "metadata": {
        "id": "axe_p0zT4sLj"
      },
      "source": [
        "# importing packages\n",
        "import numpy as np\n",
        "import pandas as pd\n",
        "import matplotlib.pyplot as plt\n",
        "import seaborn as sns\n",
        "plt.rc('font', family='NanumBarunGothic') "
      ],
      "execution_count": 26,
      "outputs": []
    },
    {
      "cell_type": "code",
      "metadata": {
        "colab": {
          "base_uri": "https://localhost:8080/"
        },
        "id": "8pSHOwfE4uUE",
        "outputId": "2ea59169-16cb-43b7-c95c-d0969b75f1f6"
      },
      "source": [
        "!sudo apt-get install -y fonts-nanum\n",
        "!sudo fc-cache -fv\n",
        "!rm ~/.cache/matplotlib -rf"
      ],
      "execution_count": 27,
      "outputs": [
        {
          "output_type": "stream",
          "text": [
            "Reading package lists... Done\n",
            "Building dependency tree       \n",
            "Reading state information... Done\n",
            "fonts-nanum is already the newest version (20170925-1).\n",
            "0 upgraded, 0 newly installed, 0 to remove and 31 not upgraded.\n",
            "/usr/share/fonts: caching, new cache contents: 0 fonts, 1 dirs\n",
            "/usr/share/fonts/truetype: caching, new cache contents: 0 fonts, 3 dirs\n",
            "/usr/share/fonts/truetype/humor-sans: caching, new cache contents: 1 fonts, 0 dirs\n",
            "/usr/share/fonts/truetype/liberation: caching, new cache contents: 16 fonts, 0 dirs\n",
            "/usr/share/fonts/truetype/nanum: caching, new cache contents: 10 fonts, 0 dirs\n",
            "/usr/local/share/fonts: caching, new cache contents: 0 fonts, 0 dirs\n",
            "/root/.local/share/fonts: skipping, no such directory\n",
            "/root/.fonts: skipping, no such directory\n",
            "/var/cache/fontconfig: cleaning cache directory\n",
            "/root/.cache/fontconfig: not cleaning non-existent cache directory\n",
            "/root/.fontconfig: not cleaning non-existent cache directory\n",
            "fc-cache: succeeded\n"
          ],
          "name": "stdout"
        }
      ]
    },
    {
      "cell_type": "code",
      "metadata": {
        "id": "5kcUrBqhxWsj"
      },
      "source": [
        "# data read\n",
        "data1 = pd.read_excel('/content/drive/MyDrive/kaggle/교통빅데이터/서울 자전거 개수.xlsx')\n",
        "data2 = pd.read_excel('/content/drive/MyDrive/kaggle/교통빅데이터/서울 자전거 개수2019.xlsx')\n",
        "data3 = pd.read_excel('/content/drive/MyDrive/kaggle/교통빅데이터/자전거 입대수.xlsx')"
      ],
      "execution_count": 28,
      "outputs": []
    },
    {
      "cell_type": "code",
      "metadata": {
        "colab": {
          "base_uri": "https://localhost:8080/",
          "height": 868
        },
        "id": "ML47l8NGz15k",
        "outputId": "52758896-acb7-4faa-d346-f127e562db7c"
      },
      "source": [
        "data1 = pd.DataFrame(data1)\n",
        "data2 = pd.DataFrame(data2)\n",
        "data3 = pd.DataFrame(data3)\n",
        "data1"
      ],
      "execution_count": 40,
      "outputs": [
        {
          "output_type": "execute_result",
          "data": {
            "text/html": [
              "<div>\n",
              "<style scoped>\n",
              "    .dataframe tbody tr th:only-of-type {\n",
              "        vertical-align: middle;\n",
              "    }\n",
              "\n",
              "    .dataframe tbody tr th {\n",
              "        vertical-align: top;\n",
              "    }\n",
              "\n",
              "    .dataframe thead th {\n",
              "        text-align: right;\n",
              "    }\n",
              "</style>\n",
              "<table border=\"1\" class=\"dataframe\">\n",
              "  <thead>\n",
              "    <tr style=\"text-align: right;\">\n",
              "      <th></th>\n",
              "      <th>구 분</th>\n",
              "      <th>대여소(개소)</th>\n",
              "      <th>거치대(개)</th>\n",
              "    </tr>\n",
              "  </thead>\n",
              "  <tbody>\n",
              "    <tr>\n",
              "      <th>0</th>\n",
              "      <td>소  계</td>\n",
              "      <td>1148</td>\n",
              "      <td>14125</td>\n",
              "    </tr>\n",
              "    <tr>\n",
              "      <th>1</th>\n",
              "      <td>종로구</td>\n",
              "      <td>105</td>\n",
              "      <td>1216</td>\n",
              "    </tr>\n",
              "    <tr>\n",
              "      <th>2</th>\n",
              "      <td>중  구</td>\n",
              "      <td>88</td>\n",
              "      <td>1090</td>\n",
              "    </tr>\n",
              "    <tr>\n",
              "      <th>3</th>\n",
              "      <td>용산구</td>\n",
              "      <td>83</td>\n",
              "      <td>1003</td>\n",
              "    </tr>\n",
              "    <tr>\n",
              "      <th>4</th>\n",
              "      <td>성동구</td>\n",
              "      <td>86</td>\n",
              "      <td>1026</td>\n",
              "    </tr>\n",
              "    <tr>\n",
              "      <th>5</th>\n",
              "      <td>광진구</td>\n",
              "      <td>87</td>\n",
              "      <td>1136</td>\n",
              "    </tr>\n",
              "    <tr>\n",
              "      <th>6</th>\n",
              "      <td>동대문구</td>\n",
              "      <td>83</td>\n",
              "      <td>1031</td>\n",
              "    </tr>\n",
              "    <tr>\n",
              "      <th>7</th>\n",
              "      <td>중랑구</td>\n",
              "      <td>70</td>\n",
              "      <td>830</td>\n",
              "    </tr>\n",
              "    <tr>\n",
              "      <th>8</th>\n",
              "      <td>성북구</td>\n",
              "      <td>75</td>\n",
              "      <td>931</td>\n",
              "    </tr>\n",
              "    <tr>\n",
              "      <th>9</th>\n",
              "      <td>강북구</td>\n",
              "      <td>59</td>\n",
              "      <td>676</td>\n",
              "    </tr>\n",
              "    <tr>\n",
              "      <th>10</th>\n",
              "      <td>도봉구</td>\n",
              "      <td>56</td>\n",
              "      <td>673</td>\n",
              "    </tr>\n",
              "    <tr>\n",
              "      <th>11</th>\n",
              "      <td>노원구</td>\n",
              "      <td>90</td>\n",
              "      <td>1171</td>\n",
              "    </tr>\n",
              "    <tr>\n",
              "      <th>12</th>\n",
              "      <td>은평구</td>\n",
              "      <td>80</td>\n",
              "      <td>918</td>\n",
              "    </tr>\n",
              "    <tr>\n",
              "      <th>13</th>\n",
              "      <td>서대문구</td>\n",
              "      <td>77</td>\n",
              "      <td>1045</td>\n",
              "    </tr>\n",
              "    <tr>\n",
              "      <th>14</th>\n",
              "      <td>마포구</td>\n",
              "      <td>109</td>\n",
              "      <td>1379</td>\n",
              "    </tr>\n",
              "    <tr>\n",
              "      <th>15</th>\n",
              "      <td>구 분</td>\n",
              "      <td>대여소(개소)</td>\n",
              "      <td>거치대(개)</td>\n",
              "    </tr>\n",
              "    <tr>\n",
              "      <th>16</th>\n",
              "      <td>소  계</td>\n",
              "      <td>1080</td>\n",
              "      <td>14240</td>\n",
              "    </tr>\n",
              "    <tr>\n",
              "      <th>17</th>\n",
              "      <td>양천구</td>\n",
              "      <td>81</td>\n",
              "      <td>1028</td>\n",
              "    </tr>\n",
              "    <tr>\n",
              "      <th>18</th>\n",
              "      <td>강서구</td>\n",
              "      <td>151</td>\n",
              "      <td>2020</td>\n",
              "    </tr>\n",
              "    <tr>\n",
              "      <th>19</th>\n",
              "      <td>구로구</td>\n",
              "      <td>91</td>\n",
              "      <td>1184</td>\n",
              "    </tr>\n",
              "    <tr>\n",
              "      <th>20</th>\n",
              "      <td>금천구</td>\n",
              "      <td>55</td>\n",
              "      <td>717</td>\n",
              "    </tr>\n",
              "    <tr>\n",
              "      <th>21</th>\n",
              "      <td>영등포구</td>\n",
              "      <td>107</td>\n",
              "      <td>1485</td>\n",
              "    </tr>\n",
              "    <tr>\n",
              "      <th>22</th>\n",
              "      <td>동작구</td>\n",
              "      <td>63</td>\n",
              "      <td>853</td>\n",
              "    </tr>\n",
              "    <tr>\n",
              "      <th>23</th>\n",
              "      <td>관악구</td>\n",
              "      <td>66</td>\n",
              "      <td>828</td>\n",
              "    </tr>\n",
              "    <tr>\n",
              "      <th>24</th>\n",
              "      <td>서초구</td>\n",
              "      <td>123</td>\n",
              "      <td>1641</td>\n",
              "    </tr>\n",
              "    <tr>\n",
              "      <th>25</th>\n",
              "      <td>강남구</td>\n",
              "      <td>119</td>\n",
              "      <td>1487</td>\n",
              "    </tr>\n",
              "    <tr>\n",
              "      <th>26</th>\n",
              "      <td>송파구</td>\n",
              "      <td>136</td>\n",
              "      <td>1800</td>\n",
              "    </tr>\n",
              "    <tr>\n",
              "      <th>27</th>\n",
              "      <td>강동구</td>\n",
              "      <td>88</td>\n",
              "      <td>1197</td>\n",
              "    </tr>\n",
              "  </tbody>\n",
              "</table>\n",
              "</div>"
            ],
            "text/plain": [
              "     구 분  대여소(개소)  거치대(개)\n",
              "0   소  계     1148   14125\n",
              "1    종로구      105    1216\n",
              "2   중  구       88    1090\n",
              "3    용산구       83    1003\n",
              "4    성동구       86    1026\n",
              "5    광진구       87    1136\n",
              "6   동대문구       83    1031\n",
              "7    중랑구       70     830\n",
              "8    성북구       75     931\n",
              "9    강북구       59     676\n",
              "10   도봉구       56     673\n",
              "11   노원구       90    1171\n",
              "12   은평구       80     918\n",
              "13  서대문구       77    1045\n",
              "14   마포구      109    1379\n",
              "15   구 분  대여소(개소)  거치대(개)\n",
              "16  소  계     1080   14240\n",
              "17   양천구       81    1028\n",
              "18   강서구      151    2020\n",
              "19   구로구       91    1184\n",
              "20   금천구       55     717\n",
              "21  영등포구      107    1485\n",
              "22   동작구       63     853\n",
              "23   관악구       66     828\n",
              "24   서초구      123    1641\n",
              "25   강남구      119    1487\n",
              "26   송파구      136    1800\n",
              "27   강동구       88    1197"
            ]
          },
          "metadata": {
            "tags": []
          },
          "execution_count": 40
        }
      ]
    },
    {
      "cell_type": "code",
      "metadata": {
        "colab": {
          "base_uri": "https://localhost:8080/",
          "height": 252
        },
        "id": "M5UfKNEheZXb",
        "outputId": "7f7e4c2c-61c3-49d1-95da-a3623b4d3fa4"
      },
      "source": [
        "data3"
      ],
      "execution_count": 30,
      "outputs": [
        {
          "output_type": "execute_result",
          "data": {
            "text/html": [
              "<div>\n",
              "<style scoped>\n",
              "    .dataframe tbody tr th:only-of-type {\n",
              "        vertical-align: middle;\n",
              "    }\n",
              "\n",
              "    .dataframe tbody tr th {\n",
              "        vertical-align: top;\n",
              "    }\n",
              "\n",
              "    .dataframe thead th {\n",
              "        text-align: right;\n",
              "    }\n",
              "</style>\n",
              "<table border=\"1\" class=\"dataframe\">\n",
              "  <thead>\n",
              "    <tr style=\"text-align: right;\">\n",
              "      <th></th>\n",
              "      <th>년</th>\n",
              "      <th>입대수(누적)</th>\n",
              "      <th>회원가입(명)</th>\n",
              "      <th>이용실적(건)</th>\n",
              "    </tr>\n",
              "  </thead>\n",
              "  <tbody>\n",
              "    <tr>\n",
              "      <th>0</th>\n",
              "      <td>2015.0</td>\n",
              "      <td>5600</td>\n",
              "      <td>34162</td>\n",
              "      <td>113708</td>\n",
              "    </tr>\n",
              "    <tr>\n",
              "      <th>1</th>\n",
              "      <td>2016.0</td>\n",
              "      <td>20000</td>\n",
              "      <td>177180</td>\n",
              "      <td>1611631</td>\n",
              "    </tr>\n",
              "    <tr>\n",
              "      <th>2</th>\n",
              "      <td>2017.0</td>\n",
              "      <td>25000</td>\n",
              "      <td>386607</td>\n",
              "      <td>5031039</td>\n",
              "    </tr>\n",
              "    <tr>\n",
              "      <th>3</th>\n",
              "      <td>2018.0</td>\n",
              "      <td>29500</td>\n",
              "      <td>495631</td>\n",
              "      <td>10061684</td>\n",
              "    </tr>\n",
              "    <tr>\n",
              "      <th>4</th>\n",
              "      <td>2019.0</td>\n",
              "      <td>25000</td>\n",
              "      <td>636274</td>\n",
              "      <td>19074794</td>\n",
              "    </tr>\n",
              "    <tr>\n",
              "      <th>5</th>\n",
              "      <td>2020.0</td>\n",
              "      <td>37500</td>\n",
              "      <td>1055725</td>\n",
              "      <td>23705176</td>\n",
              "    </tr>\n",
              "    <tr>\n",
              "      <th>6</th>\n",
              "      <td>2021.1</td>\n",
              "      <td>37500</td>\n",
              "      <td>12956</td>\n",
              "      <td>812021</td>\n",
              "    </tr>\n",
              "  </tbody>\n",
              "</table>\n",
              "</div>"
            ],
            "text/plain": [
              "        년  입대수(누적)  회원가입(명)   이용실적(건)\n",
              "0  2015.0     5600    34162    113708\n",
              "1  2016.0    20000   177180   1611631\n",
              "2  2017.0    25000   386607   5031039\n",
              "3  2018.0    29500   495631  10061684\n",
              "4  2019.0    25000   636274  19074794\n",
              "5  2020.0    37500  1055725  23705176\n",
              "6  2021.1    37500    12956    812021"
            ]
          },
          "metadata": {
            "tags": []
          },
          "execution_count": 30
        }
      ]
    },
    {
      "cell_type": "code",
      "metadata": {
        "colab": {
          "base_uri": "https://localhost:8080/",
          "height": 428
        },
        "id": "Lkr3XyfI4N6V",
        "outputId": "e078decd-c1b4-49a1-b2ef-aeade9ac727a"
      },
      "source": [
        "data1_강북 = data1.iloc[2:15,:3]\n",
        "data1_강북"
      ],
      "execution_count": 31,
      "outputs": [
        {
          "output_type": "execute_result",
          "data": {
            "text/html": [
              "<div>\n",
              "<style scoped>\n",
              "    .dataframe tbody tr th:only-of-type {\n",
              "        vertical-align: middle;\n",
              "    }\n",
              "\n",
              "    .dataframe tbody tr th {\n",
              "        vertical-align: top;\n",
              "    }\n",
              "\n",
              "    .dataframe thead th {\n",
              "        text-align: right;\n",
              "    }\n",
              "</style>\n",
              "<table border=\"1\" class=\"dataframe\">\n",
              "  <thead>\n",
              "    <tr style=\"text-align: right;\">\n",
              "      <th></th>\n",
              "      <th>구 분</th>\n",
              "      <th>대여소(개소)</th>\n",
              "      <th>거치대(개)</th>\n",
              "    </tr>\n",
              "  </thead>\n",
              "  <tbody>\n",
              "    <tr>\n",
              "      <th>2</th>\n",
              "      <td>중  구</td>\n",
              "      <td>88</td>\n",
              "      <td>1090</td>\n",
              "    </tr>\n",
              "    <tr>\n",
              "      <th>3</th>\n",
              "      <td>용산구</td>\n",
              "      <td>83</td>\n",
              "      <td>1003</td>\n",
              "    </tr>\n",
              "    <tr>\n",
              "      <th>4</th>\n",
              "      <td>성동구</td>\n",
              "      <td>86</td>\n",
              "      <td>1026</td>\n",
              "    </tr>\n",
              "    <tr>\n",
              "      <th>5</th>\n",
              "      <td>광진구</td>\n",
              "      <td>87</td>\n",
              "      <td>1136</td>\n",
              "    </tr>\n",
              "    <tr>\n",
              "      <th>6</th>\n",
              "      <td>동대문구</td>\n",
              "      <td>83</td>\n",
              "      <td>1031</td>\n",
              "    </tr>\n",
              "    <tr>\n",
              "      <th>7</th>\n",
              "      <td>중랑구</td>\n",
              "      <td>70</td>\n",
              "      <td>830</td>\n",
              "    </tr>\n",
              "    <tr>\n",
              "      <th>8</th>\n",
              "      <td>성북구</td>\n",
              "      <td>75</td>\n",
              "      <td>931</td>\n",
              "    </tr>\n",
              "    <tr>\n",
              "      <th>9</th>\n",
              "      <td>강북구</td>\n",
              "      <td>59</td>\n",
              "      <td>676</td>\n",
              "    </tr>\n",
              "    <tr>\n",
              "      <th>10</th>\n",
              "      <td>도봉구</td>\n",
              "      <td>56</td>\n",
              "      <td>673</td>\n",
              "    </tr>\n",
              "    <tr>\n",
              "      <th>11</th>\n",
              "      <td>노원구</td>\n",
              "      <td>90</td>\n",
              "      <td>1171</td>\n",
              "    </tr>\n",
              "    <tr>\n",
              "      <th>12</th>\n",
              "      <td>은평구</td>\n",
              "      <td>80</td>\n",
              "      <td>918</td>\n",
              "    </tr>\n",
              "    <tr>\n",
              "      <th>13</th>\n",
              "      <td>서대문구</td>\n",
              "      <td>77</td>\n",
              "      <td>1045</td>\n",
              "    </tr>\n",
              "    <tr>\n",
              "      <th>14</th>\n",
              "      <td>마포구</td>\n",
              "      <td>109</td>\n",
              "      <td>1379</td>\n",
              "    </tr>\n",
              "  </tbody>\n",
              "</table>\n",
              "</div>"
            ],
            "text/plain": [
              "     구 분 대여소(개소) 거치대(개)\n",
              "2   중  구      88   1090\n",
              "3    용산구      83   1003\n",
              "4    성동구      86   1026\n",
              "5    광진구      87   1136\n",
              "6   동대문구      83   1031\n",
              "7    중랑구      70    830\n",
              "8    성북구      75    931\n",
              "9    강북구      59    676\n",
              "10   도봉구      56    673\n",
              "11   노원구      90   1171\n",
              "12   은평구      80    918\n",
              "13  서대문구      77   1045\n",
              "14   마포구     109   1379"
            ]
          },
          "metadata": {
            "tags": []
          },
          "execution_count": 31
        }
      ]
    },
    {
      "cell_type": "code",
      "metadata": {
        "colab": {
          "base_uri": "https://localhost:8080/",
          "height": 370
        },
        "id": "1HMXeyHE4TY7",
        "outputId": "ef053080-0152-4e18-f86b-47e6b920202e"
      },
      "source": [
        "data1_강남 = data1.iloc[17:, :]\n",
        "data1_강남"
      ],
      "execution_count": 32,
      "outputs": [
        {
          "output_type": "execute_result",
          "data": {
            "text/html": [
              "<div>\n",
              "<style scoped>\n",
              "    .dataframe tbody tr th:only-of-type {\n",
              "        vertical-align: middle;\n",
              "    }\n",
              "\n",
              "    .dataframe tbody tr th {\n",
              "        vertical-align: top;\n",
              "    }\n",
              "\n",
              "    .dataframe thead th {\n",
              "        text-align: right;\n",
              "    }\n",
              "</style>\n",
              "<table border=\"1\" class=\"dataframe\">\n",
              "  <thead>\n",
              "    <tr style=\"text-align: right;\">\n",
              "      <th></th>\n",
              "      <th>구 분</th>\n",
              "      <th>대여소(개소)</th>\n",
              "      <th>거치대(개)</th>\n",
              "    </tr>\n",
              "  </thead>\n",
              "  <tbody>\n",
              "    <tr>\n",
              "      <th>17</th>\n",
              "      <td>양천구</td>\n",
              "      <td>81</td>\n",
              "      <td>1028</td>\n",
              "    </tr>\n",
              "    <tr>\n",
              "      <th>18</th>\n",
              "      <td>강서구</td>\n",
              "      <td>151</td>\n",
              "      <td>2020</td>\n",
              "    </tr>\n",
              "    <tr>\n",
              "      <th>19</th>\n",
              "      <td>구로구</td>\n",
              "      <td>91</td>\n",
              "      <td>1184</td>\n",
              "    </tr>\n",
              "    <tr>\n",
              "      <th>20</th>\n",
              "      <td>금천구</td>\n",
              "      <td>55</td>\n",
              "      <td>717</td>\n",
              "    </tr>\n",
              "    <tr>\n",
              "      <th>21</th>\n",
              "      <td>영등포구</td>\n",
              "      <td>107</td>\n",
              "      <td>1485</td>\n",
              "    </tr>\n",
              "    <tr>\n",
              "      <th>22</th>\n",
              "      <td>동작구</td>\n",
              "      <td>63</td>\n",
              "      <td>853</td>\n",
              "    </tr>\n",
              "    <tr>\n",
              "      <th>23</th>\n",
              "      <td>관악구</td>\n",
              "      <td>66</td>\n",
              "      <td>828</td>\n",
              "    </tr>\n",
              "    <tr>\n",
              "      <th>24</th>\n",
              "      <td>서초구</td>\n",
              "      <td>123</td>\n",
              "      <td>1641</td>\n",
              "    </tr>\n",
              "    <tr>\n",
              "      <th>25</th>\n",
              "      <td>강남구</td>\n",
              "      <td>119</td>\n",
              "      <td>1487</td>\n",
              "    </tr>\n",
              "    <tr>\n",
              "      <th>26</th>\n",
              "      <td>송파구</td>\n",
              "      <td>136</td>\n",
              "      <td>1800</td>\n",
              "    </tr>\n",
              "    <tr>\n",
              "      <th>27</th>\n",
              "      <td>강동구</td>\n",
              "      <td>88</td>\n",
              "      <td>1197</td>\n",
              "    </tr>\n",
              "  </tbody>\n",
              "</table>\n",
              "</div>"
            ],
            "text/plain": [
              "     구 분 대여소(개소) 거치대(개)\n",
              "17   양천구      81   1028\n",
              "18   강서구     151   2020\n",
              "19   구로구      91   1184\n",
              "20   금천구      55    717\n",
              "21  영등포구     107   1485\n",
              "22   동작구      63    853\n",
              "23   관악구      66    828\n",
              "24   서초구     123   1641\n",
              "25   강남구     119   1487\n",
              "26   송파구     136   1800\n",
              "27   강동구      88   1197"
            ]
          },
          "metadata": {
            "tags": []
          },
          "execution_count": 32
        }
      ]
    },
    {
      "cell_type": "code",
      "metadata": {
        "colab": {
          "base_uri": "https://localhost:8080/",
          "height": 868
        },
        "id": "6ClSIdBx46Hm",
        "outputId": "13ff0c52-bf03-4ba5-e507-ec103bfe67fa"
      },
      "source": [
        "data2"
      ],
      "execution_count": 33,
      "outputs": [
        {
          "output_type": "execute_result",
          "data": {
            "text/html": [
              "<div>\n",
              "<style scoped>\n",
              "    .dataframe tbody tr th:only-of-type {\n",
              "        vertical-align: middle;\n",
              "    }\n",
              "\n",
              "    .dataframe tbody tr th {\n",
              "        vertical-align: top;\n",
              "    }\n",
              "\n",
              "    .dataframe thead th {\n",
              "        text-align: right;\n",
              "    }\n",
              "</style>\n",
              "<table border=\"1\" class=\"dataframe\">\n",
              "  <thead>\n",
              "    <tr style=\"text-align: right;\">\n",
              "      <th></th>\n",
              "      <th>구분</th>\n",
              "      <th>대여소(개소)</th>\n",
              "      <th>거치대(개)</th>\n",
              "    </tr>\n",
              "  </thead>\n",
              "  <tbody>\n",
              "    <tr>\n",
              "      <th>0</th>\n",
              "      <td>소  계</td>\n",
              "      <td>766</td>\n",
              "      <td>9621</td>\n",
              "    </tr>\n",
              "    <tr>\n",
              "      <th>1</th>\n",
              "      <td>강 북 구</td>\n",
              "      <td>39</td>\n",
              "      <td>451</td>\n",
              "    </tr>\n",
              "    <tr>\n",
              "      <th>2</th>\n",
              "      <td>광 진 구</td>\n",
              "      <td>59</td>\n",
              "      <td>841</td>\n",
              "    </tr>\n",
              "    <tr>\n",
              "      <th>3</th>\n",
              "      <td>노 원 구</td>\n",
              "      <td>68</td>\n",
              "      <td>879</td>\n",
              "    </tr>\n",
              "    <tr>\n",
              "      <th>4</th>\n",
              "      <td>도 봉 구</td>\n",
              "      <td>33</td>\n",
              "      <td>396</td>\n",
              "    </tr>\n",
              "    <tr>\n",
              "      <th>5</th>\n",
              "      <td>동대문구</td>\n",
              "      <td>51</td>\n",
              "      <td>659</td>\n",
              "    </tr>\n",
              "    <tr>\n",
              "      <th>6</th>\n",
              "      <td>마 포 구</td>\n",
              "      <td>79</td>\n",
              "      <td>1075</td>\n",
              "    </tr>\n",
              "    <tr>\n",
              "      <th>7</th>\n",
              "      <td>서대문구</td>\n",
              "      <td>51</td>\n",
              "      <td>667</td>\n",
              "    </tr>\n",
              "    <tr>\n",
              "      <th>8</th>\n",
              "      <td>성 동 구</td>\n",
              "      <td>63</td>\n",
              "      <td>780</td>\n",
              "    </tr>\n",
              "    <tr>\n",
              "      <th>9</th>\n",
              "      <td>성 북 구</td>\n",
              "      <td>58</td>\n",
              "      <td>726</td>\n",
              "    </tr>\n",
              "    <tr>\n",
              "      <th>10</th>\n",
              "      <td>용 산 구</td>\n",
              "      <td>39</td>\n",
              "      <td>538</td>\n",
              "    </tr>\n",
              "    <tr>\n",
              "      <th>11</th>\n",
              "      <td>은 평 구</td>\n",
              "      <td>63</td>\n",
              "      <td>716</td>\n",
              "    </tr>\n",
              "    <tr>\n",
              "      <th>12</th>\n",
              "      <td>종 로 구</td>\n",
              "      <td>68</td>\n",
              "      <td>784</td>\n",
              "    </tr>\n",
              "    <tr>\n",
              "      <th>13</th>\n",
              "      <td>중 랑 구</td>\n",
              "      <td>52</td>\n",
              "      <td>616</td>\n",
              "    </tr>\n",
              "    <tr>\n",
              "      <th>14</th>\n",
              "      <td>중  구</td>\n",
              "      <td>43</td>\n",
              "      <td>493</td>\n",
              "    </tr>\n",
              "    <tr>\n",
              "      <th>15</th>\n",
              "      <td>구분</td>\n",
              "      <td>대여소(개소)</td>\n",
              "      <td>거치대(개)</td>\n",
              "    </tr>\n",
              "    <tr>\n",
              "      <th>16</th>\n",
              "      <td>소  계</td>\n",
              "      <td>774</td>\n",
              "      <td>9924</td>\n",
              "    </tr>\n",
              "    <tr>\n",
              "      <th>17</th>\n",
              "      <td>강 남 구</td>\n",
              "      <td>99</td>\n",
              "      <td>1218</td>\n",
              "    </tr>\n",
              "    <tr>\n",
              "      <th>18</th>\n",
              "      <td>강 동 구</td>\n",
              "      <td>57</td>\n",
              "      <td>763</td>\n",
              "    </tr>\n",
              "    <tr>\n",
              "      <th>19</th>\n",
              "      <td>강 서 구</td>\n",
              "      <td>85</td>\n",
              "      <td>1002</td>\n",
              "    </tr>\n",
              "    <tr>\n",
              "      <th>20</th>\n",
              "      <td>관 악 구</td>\n",
              "      <td>51</td>\n",
              "      <td>640</td>\n",
              "    </tr>\n",
              "    <tr>\n",
              "      <th>21</th>\n",
              "      <td>구 로 구</td>\n",
              "      <td>64</td>\n",
              "      <td>788</td>\n",
              "    </tr>\n",
              "    <tr>\n",
              "      <th>22</th>\n",
              "      <td>금 천 구</td>\n",
              "      <td>45</td>\n",
              "      <td>560</td>\n",
              "    </tr>\n",
              "    <tr>\n",
              "      <th>23</th>\n",
              "      <td>동 작 구</td>\n",
              "      <td>41</td>\n",
              "      <td>501</td>\n",
              "    </tr>\n",
              "    <tr>\n",
              "      <th>24</th>\n",
              "      <td>서 초 구</td>\n",
              "      <td>89</td>\n",
              "      <td>1227</td>\n",
              "    </tr>\n",
              "    <tr>\n",
              "      <th>25</th>\n",
              "      <td>송 파 구</td>\n",
              "      <td>99</td>\n",
              "      <td>1298</td>\n",
              "    </tr>\n",
              "    <tr>\n",
              "      <th>26</th>\n",
              "      <td>양 천 구</td>\n",
              "      <td>55</td>\n",
              "      <td>677</td>\n",
              "    </tr>\n",
              "    <tr>\n",
              "      <th>27</th>\n",
              "      <td>영등포구</td>\n",
              "      <td>89</td>\n",
              "      <td>1250</td>\n",
              "    </tr>\n",
              "  </tbody>\n",
              "</table>\n",
              "</div>"
            ],
            "text/plain": [
              "       구분  대여소(개소)  거치대(개)\n",
              "0    소  계      766    9621\n",
              "1   강 북 구       39     451\n",
              "2   광 진 구       59     841\n",
              "3   노 원 구       68     879\n",
              "4   도 봉 구       33     396\n",
              "5    동대문구       51     659\n",
              "6   마 포 구       79    1075\n",
              "7    서대문구       51     667\n",
              "8   성 동 구       63     780\n",
              "9   성 북 구       58     726\n",
              "10  용 산 구       39     538\n",
              "11  은 평 구       63     716\n",
              "12  종 로 구       68     784\n",
              "13  중 랑 구       52     616\n",
              "14   중  구       43     493\n",
              "15     구분  대여소(개소)  거치대(개)\n",
              "16   소  계      774    9924\n",
              "17  강 남 구       99    1218\n",
              "18  강 동 구       57     763\n",
              "19  강 서 구       85    1002\n",
              "20  관 악 구       51     640\n",
              "21  구 로 구       64     788\n",
              "22  금 천 구       45     560\n",
              "23  동 작 구       41     501\n",
              "24  서 초 구       89    1227\n",
              "25  송 파 구       99    1298\n",
              "26  양 천 구       55     677\n",
              "27   영등포구       89    1250"
            ]
          },
          "metadata": {
            "tags": []
          },
          "execution_count": 33
        }
      ]
    },
    {
      "cell_type": "code",
      "metadata": {
        "colab": {
          "base_uri": "https://localhost:8080/",
          "height": 458
        },
        "id": "8p1H-mr8z94E",
        "outputId": "dc23ced9-1e63-412f-9766-157e2bc8ed59"
      },
      "source": [
        "data2_강북 = data2.iloc[1:15,:]\n",
        "data2_강남 = data2.iloc[17:, :]\n",
        "data2_강북"
      ],
      "execution_count": 34,
      "outputs": [
        {
          "output_type": "execute_result",
          "data": {
            "text/html": [
              "<div>\n",
              "<style scoped>\n",
              "    .dataframe tbody tr th:only-of-type {\n",
              "        vertical-align: middle;\n",
              "    }\n",
              "\n",
              "    .dataframe tbody tr th {\n",
              "        vertical-align: top;\n",
              "    }\n",
              "\n",
              "    .dataframe thead th {\n",
              "        text-align: right;\n",
              "    }\n",
              "</style>\n",
              "<table border=\"1\" class=\"dataframe\">\n",
              "  <thead>\n",
              "    <tr style=\"text-align: right;\">\n",
              "      <th></th>\n",
              "      <th>구분</th>\n",
              "      <th>대여소(개소)</th>\n",
              "      <th>거치대(개)</th>\n",
              "    </tr>\n",
              "  </thead>\n",
              "  <tbody>\n",
              "    <tr>\n",
              "      <th>1</th>\n",
              "      <td>강 북 구</td>\n",
              "      <td>39</td>\n",
              "      <td>451</td>\n",
              "    </tr>\n",
              "    <tr>\n",
              "      <th>2</th>\n",
              "      <td>광 진 구</td>\n",
              "      <td>59</td>\n",
              "      <td>841</td>\n",
              "    </tr>\n",
              "    <tr>\n",
              "      <th>3</th>\n",
              "      <td>노 원 구</td>\n",
              "      <td>68</td>\n",
              "      <td>879</td>\n",
              "    </tr>\n",
              "    <tr>\n",
              "      <th>4</th>\n",
              "      <td>도 봉 구</td>\n",
              "      <td>33</td>\n",
              "      <td>396</td>\n",
              "    </tr>\n",
              "    <tr>\n",
              "      <th>5</th>\n",
              "      <td>동대문구</td>\n",
              "      <td>51</td>\n",
              "      <td>659</td>\n",
              "    </tr>\n",
              "    <tr>\n",
              "      <th>6</th>\n",
              "      <td>마 포 구</td>\n",
              "      <td>79</td>\n",
              "      <td>1075</td>\n",
              "    </tr>\n",
              "    <tr>\n",
              "      <th>7</th>\n",
              "      <td>서대문구</td>\n",
              "      <td>51</td>\n",
              "      <td>667</td>\n",
              "    </tr>\n",
              "    <tr>\n",
              "      <th>8</th>\n",
              "      <td>성 동 구</td>\n",
              "      <td>63</td>\n",
              "      <td>780</td>\n",
              "    </tr>\n",
              "    <tr>\n",
              "      <th>9</th>\n",
              "      <td>성 북 구</td>\n",
              "      <td>58</td>\n",
              "      <td>726</td>\n",
              "    </tr>\n",
              "    <tr>\n",
              "      <th>10</th>\n",
              "      <td>용 산 구</td>\n",
              "      <td>39</td>\n",
              "      <td>538</td>\n",
              "    </tr>\n",
              "    <tr>\n",
              "      <th>11</th>\n",
              "      <td>은 평 구</td>\n",
              "      <td>63</td>\n",
              "      <td>716</td>\n",
              "    </tr>\n",
              "    <tr>\n",
              "      <th>12</th>\n",
              "      <td>종 로 구</td>\n",
              "      <td>68</td>\n",
              "      <td>784</td>\n",
              "    </tr>\n",
              "    <tr>\n",
              "      <th>13</th>\n",
              "      <td>중 랑 구</td>\n",
              "      <td>52</td>\n",
              "      <td>616</td>\n",
              "    </tr>\n",
              "    <tr>\n",
              "      <th>14</th>\n",
              "      <td>중  구</td>\n",
              "      <td>43</td>\n",
              "      <td>493</td>\n",
              "    </tr>\n",
              "  </tbody>\n",
              "</table>\n",
              "</div>"
            ],
            "text/plain": [
              "       구분 대여소(개소) 거치대(개)\n",
              "1   강 북 구      39    451\n",
              "2   광 진 구      59    841\n",
              "3   노 원 구      68    879\n",
              "4   도 봉 구      33    396\n",
              "5    동대문구      51    659\n",
              "6   마 포 구      79   1075\n",
              "7    서대문구      51    667\n",
              "8   성 동 구      63    780\n",
              "9   성 북 구      58    726\n",
              "10  용 산 구      39    538\n",
              "11  은 평 구      63    716\n",
              "12  종 로 구      68    784\n",
              "13  중 랑 구      52    616\n",
              "14   중  구      43    493"
            ]
          },
          "metadata": {
            "tags": []
          },
          "execution_count": 34
        }
      ]
    },
    {
      "cell_type": "code",
      "metadata": {
        "colab": {
          "base_uri": "https://localhost:8080/",
          "height": 370
        },
        "id": "GovmYbUl2CgJ",
        "outputId": "4c290958-9b7a-414b-ecd9-449a6d2394ea"
      },
      "source": [
        "data2_강남"
      ],
      "execution_count": 35,
      "outputs": [
        {
          "output_type": "execute_result",
          "data": {
            "text/html": [
              "<div>\n",
              "<style scoped>\n",
              "    .dataframe tbody tr th:only-of-type {\n",
              "        vertical-align: middle;\n",
              "    }\n",
              "\n",
              "    .dataframe tbody tr th {\n",
              "        vertical-align: top;\n",
              "    }\n",
              "\n",
              "    .dataframe thead th {\n",
              "        text-align: right;\n",
              "    }\n",
              "</style>\n",
              "<table border=\"1\" class=\"dataframe\">\n",
              "  <thead>\n",
              "    <tr style=\"text-align: right;\">\n",
              "      <th></th>\n",
              "      <th>구분</th>\n",
              "      <th>대여소(개소)</th>\n",
              "      <th>거치대(개)</th>\n",
              "    </tr>\n",
              "  </thead>\n",
              "  <tbody>\n",
              "    <tr>\n",
              "      <th>17</th>\n",
              "      <td>강 남 구</td>\n",
              "      <td>99</td>\n",
              "      <td>1218</td>\n",
              "    </tr>\n",
              "    <tr>\n",
              "      <th>18</th>\n",
              "      <td>강 동 구</td>\n",
              "      <td>57</td>\n",
              "      <td>763</td>\n",
              "    </tr>\n",
              "    <tr>\n",
              "      <th>19</th>\n",
              "      <td>강 서 구</td>\n",
              "      <td>85</td>\n",
              "      <td>1002</td>\n",
              "    </tr>\n",
              "    <tr>\n",
              "      <th>20</th>\n",
              "      <td>관 악 구</td>\n",
              "      <td>51</td>\n",
              "      <td>640</td>\n",
              "    </tr>\n",
              "    <tr>\n",
              "      <th>21</th>\n",
              "      <td>구 로 구</td>\n",
              "      <td>64</td>\n",
              "      <td>788</td>\n",
              "    </tr>\n",
              "    <tr>\n",
              "      <th>22</th>\n",
              "      <td>금 천 구</td>\n",
              "      <td>45</td>\n",
              "      <td>560</td>\n",
              "    </tr>\n",
              "    <tr>\n",
              "      <th>23</th>\n",
              "      <td>동 작 구</td>\n",
              "      <td>41</td>\n",
              "      <td>501</td>\n",
              "    </tr>\n",
              "    <tr>\n",
              "      <th>24</th>\n",
              "      <td>서 초 구</td>\n",
              "      <td>89</td>\n",
              "      <td>1227</td>\n",
              "    </tr>\n",
              "    <tr>\n",
              "      <th>25</th>\n",
              "      <td>송 파 구</td>\n",
              "      <td>99</td>\n",
              "      <td>1298</td>\n",
              "    </tr>\n",
              "    <tr>\n",
              "      <th>26</th>\n",
              "      <td>양 천 구</td>\n",
              "      <td>55</td>\n",
              "      <td>677</td>\n",
              "    </tr>\n",
              "    <tr>\n",
              "      <th>27</th>\n",
              "      <td>영등포구</td>\n",
              "      <td>89</td>\n",
              "      <td>1250</td>\n",
              "    </tr>\n",
              "  </tbody>\n",
              "</table>\n",
              "</div>"
            ],
            "text/plain": [
              "       구분 대여소(개소) 거치대(개)\n",
              "17  강 남 구      99   1218\n",
              "18  강 동 구      57    763\n",
              "19  강 서 구      85   1002\n",
              "20  관 악 구      51    640\n",
              "21  구 로 구      64    788\n",
              "22  금 천 구      45    560\n",
              "23  동 작 구      41    501\n",
              "24  서 초 구      89   1227\n",
              "25  송 파 구      99   1298\n",
              "26  양 천 구      55    677\n",
              "27   영등포구      89   1250"
            ]
          },
          "metadata": {
            "tags": []
          },
          "execution_count": 35
        }
      ]
    },
    {
      "cell_type": "markdown",
      "metadata": {
        "id": "bOMeqa3nb-DN"
      },
      "source": [
        "# 강남 대여소\n",
        "## 2020 에서는 양천구\n",
        "## 2019에서는 송파구"
      ]
    },
    {
      "cell_type": "code",
      "metadata": {
        "colab": {
          "base_uri": "https://localhost:8080/",
          "height": 588
        },
        "id": "aduTpD5E5DhC",
        "outputId": "c07bcfe4-96f0-4b93-8ab0-af2adae1fb17"
      },
      "source": [
        "data1_강남.plot(x = '구 분', y ='대여소(개소)',color= 'blue', title = '2020 강남')\n",
        "data2_강남.plot(x = '구분', y ='대여소(개소)',color= 'blue',title = '2019 강남')"
      ],
      "execution_count": 36,
      "outputs": [
        {
          "output_type": "execute_result",
          "data": {
            "text/plain": [
              "<matplotlib.axes._subplots.AxesSubplot at 0x7fc4e56282d0>"
            ]
          },
          "metadata": {
            "tags": []
          },
          "execution_count": 36
        },
        {
          "output_type": "display_data",
          "data": {
            "image/png": "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\n",
            "text/plain": [
              "<Figure size 432x288 with 1 Axes>"
            ]
          },
          "metadata": {
            "tags": [],
            "needs_background": "light"
          }
        },
        {
          "output_type": "display_data",
          "data": {
            "image/png": "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\n",
            "text/plain": [
              "<Figure size 432x288 with 1 Axes>"
            ]
          },
          "metadata": {
            "tags": [],
            "needs_background": "light"
          }
        }
      ]
    },
    {
      "cell_type": "markdown",
      "metadata": {
        "id": "J5vOU9DdcERL"
      },
      "source": [
        "# 강북 대여소\n",
        "## 2020에서는 마포구\n",
        "## 2019에서는 강남구\"
      ]
    },
    {
      "cell_type": "code",
      "metadata": {
        "colab": {
          "base_uri": "https://localhost:8080/",
          "height": 588
        },
        "id": "f8B-QKd75csB",
        "outputId": "07b1bab0-89a7-4a42-ffc7-dd8dfd2b93c8"
      },
      "source": [
        "data1_강북.plot(x = '구 분', y ='대여소(개소)',color= 'red', title = '2020 강북')\n",
        "data2_강북.plot(x = '구분', y ='대여소(개소)',color= 'red', title = '2019 강북')"
      ],
      "execution_count": 37,
      "outputs": [
        {
          "output_type": "execute_result",
          "data": {
            "text/plain": [
              "<matplotlib.axes._subplots.AxesSubplot at 0x7fc4e5569e10>"
            ]
          },
          "metadata": {
            "tags": []
          },
          "execution_count": 37
        },
        {
          "output_type": "display_data",
          "data": {
            "image/png": "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\n",
            "text/plain": [
              "<Figure size 432x288 with 1 Axes>"
            ]
          },
          "metadata": {
            "tags": [],
            "needs_background": "light"
          }
        },
        {
          "output_type": "display_data",
          "data": {
            "image/png": "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\n",
            "text/plain": [
              "<Figure size 432x288 with 1 Axes>"
            ]
          },
          "metadata": {
            "tags": [],
            "needs_background": "light"
          }
        }
      ]
    },
    {
      "cell_type": "markdown",
      "metadata": {
        "id": "-pqE9ANucZvU"
      },
      "source": [
        "# 자전거 입대, 이용실적 건"
      ]
    },
    {
      "cell_type": "code",
      "metadata": {
        "colab": {
          "base_uri": "https://localhost:8080/",
          "height": 252
        },
        "id": "q8666eMNjS5_",
        "outputId": "7afb27e6-983a-4e00-8548-44b3277ed177"
      },
      "source": [
        "data3"
      ],
      "execution_count": 52,
      "outputs": [
        {
          "output_type": "execute_result",
          "data": {
            "text/html": [
              "<div>\n",
              "<style scoped>\n",
              "    .dataframe tbody tr th:only-of-type {\n",
              "        vertical-align: middle;\n",
              "    }\n",
              "\n",
              "    .dataframe tbody tr th {\n",
              "        vertical-align: top;\n",
              "    }\n",
              "\n",
              "    .dataframe thead th {\n",
              "        text-align: right;\n",
              "    }\n",
              "</style>\n",
              "<table border=\"1\" class=\"dataframe\">\n",
              "  <thead>\n",
              "    <tr style=\"text-align: right;\">\n",
              "      <th></th>\n",
              "      <th>년</th>\n",
              "      <th>입대수(누적)</th>\n",
              "      <th>회원가입(명)</th>\n",
              "      <th>이용실적(건)</th>\n",
              "    </tr>\n",
              "  </thead>\n",
              "  <tbody>\n",
              "    <tr>\n",
              "      <th>0</th>\n",
              "      <td>2015.0</td>\n",
              "      <td>5600</td>\n",
              "      <td>34162</td>\n",
              "      <td>113708</td>\n",
              "    </tr>\n",
              "    <tr>\n",
              "      <th>1</th>\n",
              "      <td>2016.0</td>\n",
              "      <td>20000</td>\n",
              "      <td>177180</td>\n",
              "      <td>1611631</td>\n",
              "    </tr>\n",
              "    <tr>\n",
              "      <th>2</th>\n",
              "      <td>2017.0</td>\n",
              "      <td>25000</td>\n",
              "      <td>386607</td>\n",
              "      <td>5031039</td>\n",
              "    </tr>\n",
              "    <tr>\n",
              "      <th>3</th>\n",
              "      <td>2018.0</td>\n",
              "      <td>29500</td>\n",
              "      <td>495631</td>\n",
              "      <td>10061684</td>\n",
              "    </tr>\n",
              "    <tr>\n",
              "      <th>4</th>\n",
              "      <td>2019.0</td>\n",
              "      <td>25000</td>\n",
              "      <td>636274</td>\n",
              "      <td>19074794</td>\n",
              "    </tr>\n",
              "    <tr>\n",
              "      <th>5</th>\n",
              "      <td>2020.0</td>\n",
              "      <td>37500</td>\n",
              "      <td>1055725</td>\n",
              "      <td>23705176</td>\n",
              "    </tr>\n",
              "    <tr>\n",
              "      <th>6</th>\n",
              "      <td>2021.1</td>\n",
              "      <td>37500</td>\n",
              "      <td>12956</td>\n",
              "      <td>812021</td>\n",
              "    </tr>\n",
              "  </tbody>\n",
              "</table>\n",
              "</div>"
            ],
            "text/plain": [
              "        년  입대수(누적)  회원가입(명)   이용실적(건)\n",
              "0  2015.0     5600    34162    113708\n",
              "1  2016.0    20000   177180   1611631\n",
              "2  2017.0    25000   386607   5031039\n",
              "3  2018.0    29500   495631  10061684\n",
              "4  2019.0    25000   636274  19074794\n",
              "5  2020.0    37500  1055725  23705176\n",
              "6  2021.1    37500    12956    812021"
            ]
          },
          "metadata": {
            "tags": []
          },
          "execution_count": 52
        }
      ]
    },
    {
      "cell_type": "code",
      "metadata": {
        "colab": {
          "base_uri": "https://localhost:8080/",
          "height": 312
        },
        "id": "nblXUGEMt72R",
        "outputId": "402d37d6-5d0e-4762-add3-e84d89801f95"
      },
      "source": [
        "data3.plot(x = '년', y = ['입대수(누적)','회원가입(명)', '이용실적(건)'] , title = '자전거 이용')"
      ],
      "execution_count": 54,
      "outputs": [
        {
          "output_type": "execute_result",
          "data": {
            "text/plain": [
              "<matplotlib.axes._subplots.AxesSubplot at 0x7fc4e5398b10>"
            ]
          },
          "metadata": {
            "tags": []
          },
          "execution_count": 54
        },
        {
          "output_type": "display_data",
          "data": {
            "image/png": "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\n",
            "text/plain": [
              "<Figure size 432x288 with 1 Axes>"
            ]
          },
          "metadata": {
            "tags": [],
            "needs_background": "light"
          }
        }
      ]
    },
    {
      "cell_type": "code",
      "metadata": {
        "colab": {
          "base_uri": "https://localhost:8080/",
          "height": 910
        },
        "id": "s-0hWUI4xVua",
        "outputId": "fa805907-06df-4f40-c520-a578047614f2"
      },
      "source": [
        "data3.plot(kind = 'bar', x = '년', y = ['이용실적(건)'], color = 'turquoise')\n",
        "data3.plot(kind = 'bar', x = '년', y = ['회원가입(명)'], color = 'teal')\n",
        "data3.plot(kind = 'bar', x = '년', y = ['입대수(누적)'], color = 'cornflowerblue')"
      ],
      "execution_count": 46,
      "outputs": [
        {
          "output_type": "execute_result",
          "data": {
            "text/plain": [
              "<matplotlib.axes._subplots.AxesSubplot at 0x7fc4e5325b90>"
            ]
          },
          "metadata": {
            "tags": []
          },
          "execution_count": 46
        },
        {
          "output_type": "display_data",
          "data": {
            "image/png": "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\n",
            "text/plain": [
              "<Figure size 432x288 with 1 Axes>"
            ]
          },
          "metadata": {
            "tags": [],
            "needs_background": "light"
          }
        },
        {
          "output_type": "display_data",
          "data": {
            "image/png": "iVBORw0KGgoAAAANSUhEUgAAAXIAAAEnCAYAAAC0Z8hNAAAABHNCSVQICAgIfAhkiAAAAAlwSFlzAAALEgAACxIB0t1+/AAAADh0RVh0U29mdHdhcmUAbWF0cGxvdGxpYiB2ZXJzaW9uMy4yLjIsIGh0dHA6Ly9tYXRwbG90bGliLm9yZy+WH4yJAAAX00lEQVR4nO3de5BW9Z3n8fc3CopGOiltZ1RUHI3XZIMuO5JeV5lWgSEpjasW7rrjJK7lJWNl1oRyY2SjEBET0UxiJhqdWTGRRIlJEW+jIAgsItE2mdnFqCTltaMSUFQ03ojf/aOf7nQ3jf0A3Zznh+9XVRfPOb/DeT7dNJ8+fa6RmUiSyvWhqgNIkraMRS5JhbPIJalwFrkkFc4il6TCWeSSVLjKijwiDoqIZRFxSx3LTo6IX0bEkoj4wtbIJ0ml2L7C9z4S+A7w2fdbKCL+FhgJjM7M9yKiysyS1HAq2yLPzB8AL3ZOR8ROEXFjRCyKiAcj4tTa0LnAs8D9ETEX2KOCuJLUsBppH/mFwOOZORZoBaZGxFDgEOD5zDwGuBX4h+oiSlLjaaTdFKOB3SPir2vTHwL+HFgP/Kg2by5wWQXZJKlhNVKRrwAezcwfAkTEfpn5bET8AvhPwGJgLPB/q4soSY2nkYp8OnBdRJxVm/4lcAHwBWB2RAC8DpxTTTxJakzh3Q8lqWyNdLBTkrQZLHJJKlwl+8h32223HDlyZBVvLUnFeuSRR9ZkZnPv+ZUU+ciRI2lra6virSWpWBHxTF/z3bUiSYWzyCWpcBa5JBWuYS4Ievfdd2lvb+ett96qOso2accdd2TEiBEMGTKk6iiSBljDFHl7ezu77LILI0eOpHYVpwZIZvLSSy/R3t7OfvvtV3UcSQOsYXatvPXWW+y6666W+CCICHbddVd/25G2UQ1T5EDDlvgBBxwAwMMPP8zRRx/NUUcdxfHHH8+TTz7ZY7y3ztsfjB07lvb2dgBefvllTjzxRMaMGcNxxx3H008/DcBll13GrFmzNinX0qVL+dznPlfXso36tZW05Rpm10pvMXXqgK4vL7mk32VefvllJk6c2DW9fPnyHuPnn38+s2bN4pBDDuHuu+/m4osv5sc//nHX+Ne+9jXuvvtuIoI333yTww8/nB/+8Ic91jF9+nROPPFEzjzzTObPn8/kyZO57bbb+swzc+ZMDjvsMFatWsWUKVMYMWIEACtWrGDUqFG89tprHHHEEUDHD4KWlhZaW1vr+4JI2mY0bJFvbY8//ji33HILEyZM6Jp36aWX9tjiHTJkCK+//joA69atY+jQoT3WMW3aNKZNmwbADTfcwKuvvrrB+zzxxBOce+65ABx99NF86Utf6jPPE088wbJly5g8eTKzZs3irLPO4tJLLwVg1KhRLF26lOXLl3PdddcBcOGFF9La2kpLSws77rjj5n0RpAE20BtkvdWzgfZB0FC7Vqp08MEHM2HCBBYsWMADDzzAwoULGTduHN1vJXDddddx0UUXceSRR3LzzTdz+eWXb3R9t956K6eeeuoG81taWrjpppt49913ufHGG/nUpz7V59//1re+1VX4va1cuZLRo0fz+c9/vmve0KFDGTduHHPmzKnzM5a0rbDIu7n66quZMWMG8+fPZ8aMGVx11VVdY/feey9Lly7l5JNP5vTTT6elpYWZM2fy05/+dIP1zJ49m7322ot99923a96nP/1pJk+ezOTJkwE49thjefTRR5k5cyYAhxxySI8fGvPmzeOYY44BoKmpiblz5zJmzBjGjBnD+PHjaWtr44Ybbujxvq2trdxzzz0D9vWQVAZ3rXRzxhlnMGXKFA4//HB+9atf8eUvf7lr7I9//CPr168H4Otf/zrXXnstRx11FIceemiPdcydO5eZM2eycOHCHvPvuuuurn3cp512GiNGjOixxf3KK6+w/fZ/+ud488032WGHHQA46aSTOOmkkzbIu88++3DCCSd0Te++++688MILm/vpSyqURd7NZz7zGSZMmMDHPvYxVq5cyXvvvcfq1asBmDhxIr/73e946qmn2HnnnTnllFM45phjePvtt7vK85xzzuHZZ59l/vz5fPSjH93o+6xZs4apU6dy8803d81rb2/v2gcOMGzYMN5+++2uMge46qqrmDNnDttttx3r16/noIMO4tvf/nbX+KpVq9hzzz0H6sshqRAWec306dOZP38+EcHw4cMZP348w4YNY9y4cV3LPPbYY8ydO5c77rgDgMWLFwMdW9sAU6ZMYe+9967r/U488cSuA5UAV1xxRY/x8ePHs3jx4q73v++++1iwYAFLly7tujrze9/7Hl/96le71nP//ff3OFgr6YOhYYt8ax+Nvvjii7n44ov7HLvmmmu6Xs+ZM2eD0xIBPvnJT9Zd4gA/+9nPetzK98UXX+Syyy7rmr7gggv4yle+0lXku+22G6tWrWLlypUceOCBvPzyyzz22GM0N3fcmvidd95h3rx5LFiwoO4MkrYNDVvkjeS3v/0tAMcddxy///3vN/nvL1q0qMf02LFj+13PgQceSEtLC/fccw8TJkxg1KhRXHnllVxxxRU899xzNDU1cdxxx3HeeecB8M1vfpNp06b12BUj6YOh3yKPiIOAG4FnM/O0PsanA38FBHBRZi4a6JAfVJ1nuHRqbW3d6AU/U6ZM2RqRJDWgek4/PBL4Tl8DEdEKjMrMFuBk4LqIcCtfkraifos8M38AvLiR4WOBn9SWex54BjhowNJJkvq1pRcENQNruk2vqc3bQEScHRFtEdHWeUpfb503mdLA82srbbu2tMjfAJq6TTcBa/taMDOvz8zRmTm680yL7nbccUdeeuklC2cQdN6P3HuwSNumTd6fHRHbATtn5mvAAuBvgNkRsRsdu1We2JwgI0aMoL29nY1trWvLdD4hSNK2Z3MOTJ4GTAJOAO4CxkXEMjq27v8+Mzfr6QVDhgzx6TWStBnqKvLaKYWLaq9nA7NrrxP44iBlkyTVwbsfSlLhLHJJKpxFLkmFs8glqXAWuSQVziKXpMJZ5JJUOItckgpnkUtS4SxySSqcRS5JhbPIJalwFrkkFc4il6TCWeSSVDiLXJIKZ5FLUuEsckkqnEUuSYWzyCWpcBa5JBXOIpekwlnkklQ4i1ySCmeRS1LhLHJJKpxFLkmFs8glqXAWuSQVziKXpMJZ5JJUuLqKPCLOj4gHI2J5REzqNdYcEXdGxJKIaIuI8wYnqiSpL9v3t0BE7A+cCYwBdgAeioh5mbm2tshkYHFmXhkROwG/jog5mfnSoKWWJHWpZ4u8Fbg9M9/JzHXAEqCl2/iLwK6118OBPwBvDWhKSdJG9btFDjQDa7pNr6nN63QNcFdErAQ+ApyXmW/0XklEnA2cDbDPPvtsdmBJUk/1bJG/ATR1m24C1nab/jpwX2YeCBwAXBARh/ZeSWZen5mjM3N0c3Nz72FJ0maqp8gXABMjYruIGAaMBdoiYnht/CDgqdrrdcCrwP4DHVSS1Ld+izwzVwB3AsuA+4Gr6Sjzm2uLTAG+GBFLgIeBZ4B/GYywkqQN1bOPnMycAczoNXt2bezXwNEDnEuSVCcvCJKkwlnkklQ4i1ySCmeRS1LhLHJJKpxFLkmFs8glqXAWuSQVziKXpMJZ5JJUOItckgpnkUtS4SxySSqcRS5JhbPIJalwFrkkFc4il6TCWeSSVDiLXJIKZ5FLUuEsckkqnEUuSYWzyCWpcBa5JBXOIpekwlnkklQ4i1ySCrd91QEkbVxMnTqo689LLhnU9WvrcItckgpnkUtS4SxySSpcXUUeEedHxIMRsTwiJvUxfnhELIuIpRFx58DHlCRtTL8HOyNif+BMYAywA/BQRMzLzLW18Y8A3wc+m5nPR4QHUCVpK6pni7wVuD0z38nMdcASoKXb+H8DlgPXR8RS4KSBjylJ2ph6tp6bgTXdptfU5nU6GNgb+M9AE/BgRCzKzNUDllKStFH1bJG/QUdBd2oC1nab/iPwk9oW+2rgETrKvYeIODsi2iKibfVqO16SBko9Rb4AmBgR20XEMGAs0BYRw2vjS4FjASJiZ+DfASt7ryQzr8/M0Zk5urm5ufewJGkz9btrJTNX1M5EWQYkcDUdZT4JOAH4KfAfI6INWA9MzcxVg5ZYktRDXWeYZOYMYEav2bNrY+8B/2OAc0mS6uQFQZJUOItckgpnkUtS4SxySSqcRS5JhbPIJalwFrkkFc4il6TCWeSSVDiLXJIKZ5FLUuEsckkqnEUuSYWzyCWpcBa5JBXOIpekwtX1YAmpVDF16qCuPy+5ZFDXL9XDLXJJKpxFLkmFs8glqXAWuSQVziKXpMJZ5JJUOItckgpnkUtS4SxySSqcRS5JhbPIJalwFrkkFc4il6TCWeSSVDiLXJIKV1eRR8T5EfFgRCyPiEkbWWbHiPh/EXHpgCaUJL2vfh8sERH7A2cCY4AdgIciYl5mru216DTgvoGPKEl6P/VskbcCt2fmO5m5DlgCtHRfICKOBHYHfj7wESVJ76eeIm8G1nSbXlObB0BE7ABcDlzwfiuJiLMjoi0i2lavXr05WSVJfainyN8AmrpNNwHdd6tMBa7uY1dLD5l5fWaOzszRzc3N77eoJGkT1PPw5QXA9yPiCmAoMBaYERHDM/M14BPAyIj4G2Av4KMRsSozrx2s0Nq6BvMBxj68WNpy/RZ5Zq6IiDuBZUACV9NR5pOAEzLz053LRsTngJGWuCRtPfVskZOZM4AZvWbP7mO5WQOQSZK0CbwgSJIKZ5FLUuEsckkqnEUuSYWzyCWpcBa5JBXOIpekwlnkklQ4i1ySCmeRS1LhLHJJKpxFLkmFs8glqXAWuSQVziKXpMJZ5JJUOItckgpnkUtS4SxySSqcRS5JhbPIJalwFrkkFc4il6TCWeSSVDiLXJIKZ5FLUuEsckkqnEUuSYWzyCWpcBa5JBXOIpekwtVV5BFxfkQ8GBHLI2JSr7HmiJgdEb+IiLaIOH9wokqS+rJ9fwtExP7AmcAYYAfgoYiYl5lra4vsDszIzBURMQx4KiL+MTNz0FJLkrrUs0XeCtyeme9k5jpgCdDSOZiZj2bmitrkrkC7JS5JW089Rd4MrOk2vaY2r4eI2Bn4AXBWXyuJiLNru17aVq9evTlZJUl9qKfI3wCauk03AWu7LxARuwC3AVMz81/7WklmXp+ZozNzdHPzBj8HJEmbqZ4iXwBMjIjtavvAxwJtETEcICKagLnANzJz8aAllST1qd+DnbWDmHcCy4AErqajzCcBJwAXAwcDl0ZE5187PTN/NxiBJUk99VvkAJk5A5jRa/bs2tiFwIUDnEuSVKe6ilxbJqZOHdT15yWXDOr6JTU2r+yUpMJZ5JJUOItckgpnkUtS4SxySSqcRS5JhbPIJalwFrkkFc4il6TCWeSSVDiLXJIKZ5FLUuEsckkqnEUuSYWzyCWpcBa5JBXOIpekwlnkklQ4i1ySCmeRS1LhLHJJKpxFLkmFs8glqXAWuSQVziKXpMJZ5JJUOItckgq3fdUB6hFTpw7q+vOSSwZ1/ZI0mNwil6TCWeSSVLi6ijwizo+IByNieURM6mN8ekQsqy0zdsBTSpI2qt995BGxP3AmMAbYAXgoIuZl5traeCswKjNbImJPYGFEfDwz1w9mcEkabKUcn6tni7wVuD0z38nMdcASoKXb+LHATwAy83ngGeCgAUknSepXZOb7LxDxVeC1zPxubXo68JvMnFWbvp6Oor+zNj0buCEzF/Vaz9nA2bXJg4AnBu7T2MBuwJpBXP9gM391Ss4O5q/aYOffNzObe8+s5/TDN4CmbtNNwNpNGAcgM68Hrq8r6haKiLbMHL013mswmL86JWcH81etqvz17FpZAEyMiO0iYhgwFmiLiOHdxk8AiIjdGPytbUlSN/1ukWfmioi4E1gGJHA1HWU+iY4CvwsYFxHL6PjB8PeZ+dagJZYk9VDXlZ2ZOQOY0Wv27NpYAl8c4FxbaqvswhlE5q9OydnB/FWrJH+/BzslSY3NKzslqXAWuSQVziKXpMJZ5JJUuKKLPCL2jIgfRcQztY+nI2JuRPxF1dnqERG7RMTlEfFQRDwZEY9ExD9ExK5VZ6uH+atlfnUqusiB/w3cAozMzH0zcyTwj8D3K01VvxuBF+k4H/9AYBywgo7PqwTmr5b5KxIRB27so5I8JZ9+GBFLMvPoPuYvzsxjqsi0KTaWMyIWZebYCiJtEvNXy/zViYg/AMuB6DWUmdm6tfOUvkX+YkRMjoh9ImKniNgjIs4FXqs6WJ3+EBEnR0TXv0NETADeqzDTpjB/tcxfnYuA72bmX/X62OolDuVvke8CTKbjVrrNwOt03PvlG5n5UpXZ6hERewBXAEcDQ+n4wfp/gP+ZmU9Vma0e5q+W+asTEdvRcSfCJ6vOAoUXuSSp/F0rG4iI7SPiS1Xn2FzR4eSqc2wu81fL/NWpMvs2V+R0/IpWyZHjAbILcFbVIbaA+atl/upUln2b2rUSER/JzFeqzqEy1Q667Vx7pKFUjKK3yCNiWu3PwyLiN8DSiGiLiI9VHK0uETE1Ij4UER+PiIcj4rnanx+vOls9IuI3EfHtiBhRdZbNERFHRcS/RsS/1L5nfgk8FhFFbBFGxIiI+HlErI6IlyNieXQ8UrEIUfgFfY2k6C3yiFiYma0RcRsdpwItiogjgMszc0LV+frTeb5sRNwDTMvMZRFxGHBNVacxbYqIuB/4BnAh8BRwRWb+ptpU9YuIB4Bz6Djj6Z+B8cDvgYWZ+e+rzFaPiFgCTKHjTI//Cvw5HZ/Lq7VnCDS02vf994A7as81ICKOBy7MzOMrDdePiBi3sbHMnLc1s0CdD5YowB6dD3vOzF9GxA4V56nXhyNiCDA0M5cBZOajETG04lz1ysy8B7gnIo4BromIV4AZmflvFWerx7uZuQIgItZ1/hCKiFerjVW3yMwltdezu23Y/IINHwTTiHbKzNu7z8jM+RExpapAm+BW4Od0PDWtuwQs8k20R0ScAXy41/xhVYTZDN8CfgTMi4gLgZuB4yjngqYumbkYWBwRRwKXAidVm6gu29d+g9sd2Dki/gPQTsdBqxK8GhGfBRYCf82fvm/eri7SJnkxIiYDc+h48nwTcCJlfP//HTAsM/+56iBQ/q6Vv+18nZk31eZ9AjgmM79bWbBNUNuSPR84GFgPLAX+VwkHbSPi7sycWHWOzRURfwl8B3iBjscV/hjYD/hCZv68ymz1iIg9gSuBTwK/Br4MPA98PjP/qcps9dgGLuhrysyG+O2t6CKXtO2JiMhCi6mq7EWftSKpXBFxSkQ8VjvzZs9uQwsqC1WnXtn36jZUSfai95G/36lWmdnwT+M2f7XMX7kL6ditshcwJyL+e2Y+wYZ3FGxE3bPfEhFnVZm96CIHvgbcBLzTa34pv5aZv1rmr9b6zHweeD4iTgF+FBF/Rxn5u2c/lYqzl17kZwIHZ+Z3qg6ymcxfLfNXa01E7J2Zz2XmixFxOvAT4M+qDlaHhsruwU5JlYiI/YA/y8zl3eaNAK7KzEnVJetfo2Uvvshr98c4iI7Tl9YCT2Rm7181G5b5q2X+apWcv5GyF13ktXOwrwOeBl6i44KCA4EvZua9FUari/mrZf5qlZy/4bJnZrEfwAN0XJ7ffd5uwLKqs5m/+nzmb+yPkvM3WvbizyPPzBd6Ta+hjKPegPmrZv5qlZy/kbKXftbKooi4g46jxZ33ajgBeLjSVPUzf7XMX62S8zdU9qL3kQNExH8BjgCGA2/QcWXV85n5q0qD1cn81TJ/tUrO31DZq97XtIX7qS4DHgf+DRjXbf7CqrOZv/p85m/sj5LzN1r20netHJ+ZB9fuonZTRAzPzNso4xJfMH/VzF+tkvM3VPbSixyAzFxXu8T35ojYjkIOlnQyf7XMX62S8zdK9tLPWmmLiBaAzHwPOAM4FfhEpanqZ/5qmb9aJedvqOxFH+yMiJ2Aj2THzWs65w0BzsrMa6tLVh/zV8v81So5f6NlL7rIJUnl71qRpA88i1x6HxHx26ozSP3ZJs5akbZERBwA/FNmjq1N/yVwaKWhpE1gkUsbWsWffltdX2UQqR4WubShk4DTaq/9P6KG5zep1E1EfBi4HXgKWEIZN3DSB5xFLsFbwIcj4mE6HmS8Cvg1sKjKUFK9LHJ94GVmOzA6Iu7NzPHdxyJiTkWxpLp5QZBUExFPZ+bIqnNIm8otcqmbiGjrY/bYzHx9q4eR6uQWuSQVzis7JalwFrkkFc4il6TCWeSSVDiLXJIKZ5FLUuEsckkqnEUuSYX7/wyhkK735vXnAAAAAElFTkSuQmCC\n",
            "text/plain": [
              "<Figure size 432x288 with 1 Axes>"
            ]
          },
          "metadata": {
            "tags": [],
            "needs_background": "light"
          }
        },
        {
          "output_type": "display_data",
          "data": {
            "image/png": "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\n",
            "text/plain": [
              "<Figure size 432x288 with 1 Axes>"
            ]
          },
          "metadata": {
            "tags": [],
            "needs_background": "light"
          }
        }
      ]
    },
    {
      "cell_type": "code",
      "metadata": {
        "id": "aP1jTfHnH7w0"
      },
      "source": [
        "# 자전거의 이용률"
      ],
      "execution_count": 47,
      "outputs": []
    },
    {
      "cell_type": "code",
      "metadata": {
        "id": "62MSKrnMbHum"
      },
      "source": [
        "# data read\n",
        "data2019 = pd.read_excel('/content/drive/MyDrive/kaggle/교통빅데이터/교통수단.xlsx')\n",
        "data2020 = pd.read_excel('/content/drive/MyDrive/kaggle/교통빅데이터/교통수단1.xlsx')\n",
        "data2019 = pd.DataFrame(data2019)\n",
        "data2020 = pd.DataFrame(data2020)"
      ],
      "execution_count": 50,
      "outputs": []
    },
    {
      "cell_type": "code",
      "metadata": {
        "colab": {
          "base_uri": "https://localhost:8080/",
          "height": 324
        },
        "id": "xm0Z4f2pjLfN",
        "outputId": "a0280617-c72b-4258-89e1-cec4d8570d85"
      },
      "source": [
        "plt.plot(data2019.values[:,0], data2019.values[:,1], label = '2019', color = 'lightpink')\n",
        "plt.plot(data2020.values[:,0], data2020.values[:,1], label = '2020' , color = 'skyblue')\n",
        "plt.legend(loc = 'best')\n",
        "plt.title('대중교통수단 2019 vs 2020')\n",
        "plt.xlabel(\"교통수단\")\n",
        "plt.ylabel('운행수 % ')"
      ],
      "execution_count": 51,
      "outputs": [
        {
          "output_type": "execute_result",
          "data": {
            "text/plain": [
              "Text(0, 0.5, '운행수 % ')"
            ]
          },
          "metadata": {
            "tags": []
          },
          "execution_count": 51
        },
        {
          "output_type": "display_data",
          "data": {
            "image/png": "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\n",
            "text/plain": [
              "<Figure size 432x288 with 1 Axes>"
            ]
          },
          "metadata": {
            "tags": [],
            "needs_background": "light"
          }
        }
      ]
    },
    {
      "cell_type": "code",
      "metadata": {
        "id": "5rypSCWUw3a-"
      },
      "source": [
        ""
      ],
      "execution_count": null,
      "outputs": []
    },
    {
      "cell_type": "markdown",
      "metadata": {
        "id": "ljEldMb58NPZ"
      },
      "source": [
        ""
      ]
    }
  ]
}
