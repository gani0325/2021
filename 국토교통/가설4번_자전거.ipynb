{
 "cells": [
  {
   "cell_type": "code",
   "execution_count": 1,
   "metadata": {
    "colab": {
     "base_uri": "https://localhost:8080/"
    },
    "executionInfo": {
     "elapsed": 1242,
     "status": "ok",
     "timestamp": 1617903296336,
     "user": {
      "displayName": "이가은",
      "photoUrl": "https://lh5.googleusercontent.com/-oryBByE2FyI/AAAAAAAAAAI/AAAAAAAAAD8/Eaz3eXBaTak/s64/photo.jpg",
      "userId": "05889358357517872697"
     },
     "user_tz": -540
    },
    "id": "Q6JcfwQX4pze",
    "outputId": "53383242-e7e1-42e8-ce70-f2d58402bcbb"
   },
   "outputs": [
    {
     "name": "stdout",
     "output_type": "stream",
     "text": [
      "Drive already mounted at /content/drive; to attempt to forcibly remount, call drive.mount(\"/content/drive\", force_remount=True).\n"
     ]
    }
   ],
   "source": [
    "from google.colab import drive\n",
    "drive.mount('/content/drive')"
   ]
  },
  {
   "cell_type": "code",
   "execution_count": 2,
   "metadata": {
    "executionInfo": {
     "elapsed": 2257,
     "status": "ok",
     "timestamp": 1617903297358,
     "user": {
      "displayName": "이가은",
      "photoUrl": "https://lh5.googleusercontent.com/-oryBByE2FyI/AAAAAAAAAAI/AAAAAAAAAD8/Eaz3eXBaTak/s64/photo.jpg",
      "userId": "05889358357517872697"
     },
     "user_tz": -540
    },
    "id": "axe_p0zT4sLj"
   },
   "outputs": [],
   "source": [
    "# importing packages\n",
    "import numpy as np\n",
    "import pandas as pd\n",
    "import matplotlib.pyplot as plt\n",
    "import seaborn as sns\n",
    "plt.rc('font', family='NanumBarunGothic') "
   ]
  },
  {
   "cell_type": "code",
   "execution_count": 3,
   "metadata": {
    "colab": {
     "base_uri": "https://localhost:8080/"
    },
    "executionInfo": {
     "elapsed": 7395,
     "status": "ok",
     "timestamp": 1617903302506,
     "user": {
      "displayName": "이가은",
      "photoUrl": "https://lh5.googleusercontent.com/-oryBByE2FyI/AAAAAAAAAAI/AAAAAAAAAD8/Eaz3eXBaTak/s64/photo.jpg",
      "userId": "05889358357517872697"
     },
     "user_tz": -540
    },
    "id": "8pSHOwfE4uUE",
    "outputId": "a0c9c2bb-2f6f-4193-97d2-9ef3aee6ed95"
   },
   "outputs": [
    {
     "name": "stdout",
     "output_type": "stream",
     "text": [
      "Reading package lists... Done\n",
      "Building dependency tree       \n",
      "Reading state information... Done\n",
      "fonts-nanum is already the newest version (20170925-1).\n",
      "0 upgraded, 0 newly installed, 0 to remove and 31 not upgraded.\n",
      "/usr/share/fonts: caching, new cache contents: 0 fonts, 1 dirs\n",
      "/usr/share/fonts/truetype: caching, new cache contents: 0 fonts, 3 dirs\n",
      "/usr/share/fonts/truetype/humor-sans: caching, new cache contents: 1 fonts, 0 dirs\n",
      "/usr/share/fonts/truetype/liberation: caching, new cache contents: 16 fonts, 0 dirs\n",
      "/usr/share/fonts/truetype/nanum: caching, new cache contents: 10 fonts, 0 dirs\n",
      "/usr/local/share/fonts: caching, new cache contents: 0 fonts, 0 dirs\n",
      "/root/.local/share/fonts: skipping, no such directory\n",
      "/root/.fonts: skipping, no such directory\n",
      "/var/cache/fontconfig: cleaning cache directory\n",
      "/root/.cache/fontconfig: not cleaning non-existent cache directory\n",
      "/root/.fontconfig: not cleaning non-existent cache directory\n",
      "fc-cache: succeeded\n"
     ]
    }
   ],
   "source": [
    "!sudo apt-get install -y fonts-nanum\n",
    "!sudo fc-cache -fv\n",
    "!rm ~/.cache/matplotlib -rf"
   ]
  },
  {
   "cell_type": "code",
   "execution_count": 4,
   "metadata": {
    "executionInfo": {
     "elapsed": 9577,
     "status": "ok",
     "timestamp": 1617903304690,
     "user": {
      "displayName": "이가은",
      "photoUrl": "https://lh5.googleusercontent.com/-oryBByE2FyI/AAAAAAAAAAI/AAAAAAAAAD8/Eaz3eXBaTak/s64/photo.jpg",
      "userId": "05889358357517872697"
     },
     "user_tz": -540
    },
    "id": "5kcUrBqhxWsj"
   },
   "outputs": [],
   "source": [
    "# data read\n",
    "data1 = pd.read_excel('/content/drive/MyDrive/kaggle/교통빅데이터/서울 자전거 개수.xlsx')\n",
    "data2 = pd.read_excel('/content/drive/MyDrive/kaggle/교통빅데이터/서울 자전거 개수2019.xlsx')\n",
    "data3 = pd.read_excel('/content/drive/MyDrive/kaggle/교통빅데이터/자전거 입대수.xlsx')"
   ]
  },
  {
   "cell_type": "code",
   "execution_count": 5,
   "metadata": {
    "colab": {
     "base_uri": "https://localhost:8080/",
     "height": 868
    },
    "executionInfo": {
     "elapsed": 9585,
     "status": "ok",
     "timestamp": 1617903304705,
     "user": {
      "displayName": "이가은",
      "photoUrl": "https://lh5.googleusercontent.com/-oryBByE2FyI/AAAAAAAAAAI/AAAAAAAAAD8/Eaz3eXBaTak/s64/photo.jpg",
      "userId": "05889358357517872697"
     },
     "user_tz": -540
    },
    "id": "ML47l8NGz15k",
    "outputId": "e7e116a1-6b8b-4472-aa9e-36f455854615"
   },
   "outputs": [
    {
     "data": {
      "text/html": [
       "<div>\n",
       "<style scoped>\n",
       "    .dataframe tbody tr th:only-of-type {\n",
       "        vertical-align: middle;\n",
       "    }\n",
       "\n",
       "    .dataframe tbody tr th {\n",
       "        vertical-align: top;\n",
       "    }\n",
       "\n",
       "    .dataframe thead th {\n",
       "        text-align: right;\n",
       "    }\n",
       "</style>\n",
       "<table border=\"1\" class=\"dataframe\">\n",
       "  <thead>\n",
       "    <tr style=\"text-align: right;\">\n",
       "      <th></th>\n",
       "      <th>구 분</th>\n",
       "      <th>대여소(개소)</th>\n",
       "      <th>거치대(개)</th>\n",
       "    </tr>\n",
       "  </thead>\n",
       "  <tbody>\n",
       "    <tr>\n",
       "      <th>0</th>\n",
       "      <td>소  계</td>\n",
       "      <td>1148</td>\n",
       "      <td>14125</td>\n",
       "    </tr>\n",
       "    <tr>\n",
       "      <th>1</th>\n",
       "      <td>종로구</td>\n",
       "      <td>105</td>\n",
       "      <td>1216</td>\n",
       "    </tr>\n",
       "    <tr>\n",
       "      <th>2</th>\n",
       "      <td>중  구</td>\n",
       "      <td>88</td>\n",
       "      <td>1090</td>\n",
       "    </tr>\n",
       "    <tr>\n",
       "      <th>3</th>\n",
       "      <td>용산구</td>\n",
       "      <td>83</td>\n",
       "      <td>1003</td>\n",
       "    </tr>\n",
       "    <tr>\n",
       "      <th>4</th>\n",
       "      <td>성동구</td>\n",
       "      <td>86</td>\n",
       "      <td>1026</td>\n",
       "    </tr>\n",
       "    <tr>\n",
       "      <th>5</th>\n",
       "      <td>광진구</td>\n",
       "      <td>87</td>\n",
       "      <td>1136</td>\n",
       "    </tr>\n",
       "    <tr>\n",
       "      <th>6</th>\n",
       "      <td>동대문구</td>\n",
       "      <td>83</td>\n",
       "      <td>1031</td>\n",
       "    </tr>\n",
       "    <tr>\n",
       "      <th>7</th>\n",
       "      <td>중랑구</td>\n",
       "      <td>70</td>\n",
       "      <td>830</td>\n",
       "    </tr>\n",
       "    <tr>\n",
       "      <th>8</th>\n",
       "      <td>성북구</td>\n",
       "      <td>75</td>\n",
       "      <td>931</td>\n",
       "    </tr>\n",
       "    <tr>\n",
       "      <th>9</th>\n",
       "      <td>강북구</td>\n",
       "      <td>59</td>\n",
       "      <td>676</td>\n",
       "    </tr>\n",
       "    <tr>\n",
       "      <th>10</th>\n",
       "      <td>도봉구</td>\n",
       "      <td>56</td>\n",
       "      <td>673</td>\n",
       "    </tr>\n",
       "    <tr>\n",
       "      <th>11</th>\n",
       "      <td>노원구</td>\n",
       "      <td>90</td>\n",
       "      <td>1171</td>\n",
       "    </tr>\n",
       "    <tr>\n",
       "      <th>12</th>\n",
       "      <td>은평구</td>\n",
       "      <td>80</td>\n",
       "      <td>918</td>\n",
       "    </tr>\n",
       "    <tr>\n",
       "      <th>13</th>\n",
       "      <td>서대문구</td>\n",
       "      <td>77</td>\n",
       "      <td>1045</td>\n",
       "    </tr>\n",
       "    <tr>\n",
       "      <th>14</th>\n",
       "      <td>마포구</td>\n",
       "      <td>109</td>\n",
       "      <td>1379</td>\n",
       "    </tr>\n",
       "    <tr>\n",
       "      <th>15</th>\n",
       "      <td>구 분</td>\n",
       "      <td>대여소(개소)</td>\n",
       "      <td>거치대(개)</td>\n",
       "    </tr>\n",
       "    <tr>\n",
       "      <th>16</th>\n",
       "      <td>소  계</td>\n",
       "      <td>1080</td>\n",
       "      <td>14240</td>\n",
       "    </tr>\n",
       "    <tr>\n",
       "      <th>17</th>\n",
       "      <td>양천구</td>\n",
       "      <td>81</td>\n",
       "      <td>1028</td>\n",
       "    </tr>\n",
       "    <tr>\n",
       "      <th>18</th>\n",
       "      <td>강서구</td>\n",
       "      <td>151</td>\n",
       "      <td>2020</td>\n",
       "    </tr>\n",
       "    <tr>\n",
       "      <th>19</th>\n",
       "      <td>구로구</td>\n",
       "      <td>91</td>\n",
       "      <td>1184</td>\n",
       "    </tr>\n",
       "    <tr>\n",
       "      <th>20</th>\n",
       "      <td>금천구</td>\n",
       "      <td>55</td>\n",
       "      <td>717</td>\n",
       "    </tr>\n",
       "    <tr>\n",
       "      <th>21</th>\n",
       "      <td>영등포구</td>\n",
       "      <td>107</td>\n",
       "      <td>1485</td>\n",
       "    </tr>\n",
       "    <tr>\n",
       "      <th>22</th>\n",
       "      <td>동작구</td>\n",
       "      <td>63</td>\n",
       "      <td>853</td>\n",
       "    </tr>\n",
       "    <tr>\n",
       "      <th>23</th>\n",
       "      <td>관악구</td>\n",
       "      <td>66</td>\n",
       "      <td>828</td>\n",
       "    </tr>\n",
       "    <tr>\n",
       "      <th>24</th>\n",
       "      <td>서초구</td>\n",
       "      <td>123</td>\n",
       "      <td>1641</td>\n",
       "    </tr>\n",
       "    <tr>\n",
       "      <th>25</th>\n",
       "      <td>강남구</td>\n",
       "      <td>119</td>\n",
       "      <td>1487</td>\n",
       "    </tr>\n",
       "    <tr>\n",
       "      <th>26</th>\n",
       "      <td>송파구</td>\n",
       "      <td>136</td>\n",
       "      <td>1800</td>\n",
       "    </tr>\n",
       "    <tr>\n",
       "      <th>27</th>\n",
       "      <td>강동구</td>\n",
       "      <td>88</td>\n",
       "      <td>1197</td>\n",
       "    </tr>\n",
       "  </tbody>\n",
       "</table>\n",
       "</div>"
      ],
      "text/plain": [
       "     구 분  대여소(개소)  거치대(개)\n",
       "0   소  계     1148   14125\n",
       "1    종로구      105    1216\n",
       "2   중  구       88    1090\n",
       "3    용산구       83    1003\n",
       "4    성동구       86    1026\n",
       "5    광진구       87    1136\n",
       "6   동대문구       83    1031\n",
       "7    중랑구       70     830\n",
       "8    성북구       75     931\n",
       "9    강북구       59     676\n",
       "10   도봉구       56     673\n",
       "11   노원구       90    1171\n",
       "12   은평구       80     918\n",
       "13  서대문구       77    1045\n",
       "14   마포구      109    1379\n",
       "15   구 분  대여소(개소)  거치대(개)\n",
       "16  소  계     1080   14240\n",
       "17   양천구       81    1028\n",
       "18   강서구      151    2020\n",
       "19   구로구       91    1184\n",
       "20   금천구       55     717\n",
       "21  영등포구      107    1485\n",
       "22   동작구       63     853\n",
       "23   관악구       66     828\n",
       "24   서초구      123    1641\n",
       "25   강남구      119    1487\n",
       "26   송파구      136    1800\n",
       "27   강동구       88    1197"
      ]
     },
     "execution_count": 5,
     "metadata": {
      "tags": []
     },
     "output_type": "execute_result"
    }
   ],
   "source": [
    "data1 = pd.DataFrame(data1)\n",
    "data2 = pd.DataFrame(data2)\n",
    "data3 = pd.DataFrame(data3)\n",
    "data1"
   ]
  },
  {
   "cell_type": "code",
   "execution_count": 6,
   "metadata": {
    "colab": {
     "base_uri": "https://localhost:8080/",
     "height": 252
    },
    "executionInfo": {
     "elapsed": 9577,
     "status": "ok",
     "timestamp": 1617903304706,
     "user": {
      "displayName": "이가은",
      "photoUrl": "https://lh5.googleusercontent.com/-oryBByE2FyI/AAAAAAAAAAI/AAAAAAAAAD8/Eaz3eXBaTak/s64/photo.jpg",
      "userId": "05889358357517872697"
     },
     "user_tz": -540
    },
    "id": "M5UfKNEheZXb",
    "outputId": "607cabd8-e764-47b2-aad3-a48edd0287c0"
   },
   "outputs": [
    {
     "data": {
      "text/html": [
       "<div>\n",
       "<style scoped>\n",
       "    .dataframe tbody tr th:only-of-type {\n",
       "        vertical-align: middle;\n",
       "    }\n",
       "\n",
       "    .dataframe tbody tr th {\n",
       "        vertical-align: top;\n",
       "    }\n",
       "\n",
       "    .dataframe thead th {\n",
       "        text-align: right;\n",
       "    }\n",
       "</style>\n",
       "<table border=\"1\" class=\"dataframe\">\n",
       "  <thead>\n",
       "    <tr style=\"text-align: right;\">\n",
       "      <th></th>\n",
       "      <th>년</th>\n",
       "      <th>입대수(누적)</th>\n",
       "      <th>회원가입(명)</th>\n",
       "      <th>이용실적(건)</th>\n",
       "    </tr>\n",
       "  </thead>\n",
       "  <tbody>\n",
       "    <tr>\n",
       "      <th>0</th>\n",
       "      <td>2015.0</td>\n",
       "      <td>5600</td>\n",
       "      <td>34162</td>\n",
       "      <td>113708</td>\n",
       "    </tr>\n",
       "    <tr>\n",
       "      <th>1</th>\n",
       "      <td>2016.0</td>\n",
       "      <td>20000</td>\n",
       "      <td>177180</td>\n",
       "      <td>1611631</td>\n",
       "    </tr>\n",
       "    <tr>\n",
       "      <th>2</th>\n",
       "      <td>2017.0</td>\n",
       "      <td>25000</td>\n",
       "      <td>386607</td>\n",
       "      <td>5031039</td>\n",
       "    </tr>\n",
       "    <tr>\n",
       "      <th>3</th>\n",
       "      <td>2018.0</td>\n",
       "      <td>29500</td>\n",
       "      <td>495631</td>\n",
       "      <td>10061684</td>\n",
       "    </tr>\n",
       "    <tr>\n",
       "      <th>4</th>\n",
       "      <td>2019.0</td>\n",
       "      <td>25000</td>\n",
       "      <td>636274</td>\n",
       "      <td>19074794</td>\n",
       "    </tr>\n",
       "    <tr>\n",
       "      <th>5</th>\n",
       "      <td>2020.0</td>\n",
       "      <td>37500</td>\n",
       "      <td>1055725</td>\n",
       "      <td>23705176</td>\n",
       "    </tr>\n",
       "    <tr>\n",
       "      <th>6</th>\n",
       "      <td>2021.1</td>\n",
       "      <td>37500</td>\n",
       "      <td>12956</td>\n",
       "      <td>812021</td>\n",
       "    </tr>\n",
       "  </tbody>\n",
       "</table>\n",
       "</div>"
      ],
      "text/plain": [
       "        년  입대수(누적)  회원가입(명)   이용실적(건)\n",
       "0  2015.0     5600    34162    113708\n",
       "1  2016.0    20000   177180   1611631\n",
       "2  2017.0    25000   386607   5031039\n",
       "3  2018.0    29500   495631  10061684\n",
       "4  2019.0    25000   636274  19074794\n",
       "5  2020.0    37500  1055725  23705176\n",
       "6  2021.1    37500    12956    812021"
      ]
     },
     "execution_count": 6,
     "metadata": {
      "tags": []
     },
     "output_type": "execute_result"
    }
   ],
   "source": [
    "data3"
   ]
  },
  {
   "cell_type": "code",
   "execution_count": 7,
   "metadata": {
    "colab": {
     "base_uri": "https://localhost:8080/",
     "height": 428
    },
    "executionInfo": {
     "elapsed": 9571,
     "status": "ok",
     "timestamp": 1617903304707,
     "user": {
      "displayName": "이가은",
      "photoUrl": "https://lh5.googleusercontent.com/-oryBByE2FyI/AAAAAAAAAAI/AAAAAAAAAD8/Eaz3eXBaTak/s64/photo.jpg",
      "userId": "05889358357517872697"
     },
     "user_tz": -540
    },
    "id": "Lkr3XyfI4N6V",
    "outputId": "ff9c034e-44d2-4f89-9b95-f1d4e78e275e"
   },
   "outputs": [
    {
     "data": {
      "text/html": [
       "<div>\n",
       "<style scoped>\n",
       "    .dataframe tbody tr th:only-of-type {\n",
       "        vertical-align: middle;\n",
       "    }\n",
       "\n",
       "    .dataframe tbody tr th {\n",
       "        vertical-align: top;\n",
       "    }\n",
       "\n",
       "    .dataframe thead th {\n",
       "        text-align: right;\n",
       "    }\n",
       "</style>\n",
       "<table border=\"1\" class=\"dataframe\">\n",
       "  <thead>\n",
       "    <tr style=\"text-align: right;\">\n",
       "      <th></th>\n",
       "      <th>구 분</th>\n",
       "      <th>대여소(개소)</th>\n",
       "      <th>거치대(개)</th>\n",
       "    </tr>\n",
       "  </thead>\n",
       "  <tbody>\n",
       "    <tr>\n",
       "      <th>2</th>\n",
       "      <td>중  구</td>\n",
       "      <td>88</td>\n",
       "      <td>1090</td>\n",
       "    </tr>\n",
       "    <tr>\n",
       "      <th>3</th>\n",
       "      <td>용산구</td>\n",
       "      <td>83</td>\n",
       "      <td>1003</td>\n",
       "    </tr>\n",
       "    <tr>\n",
       "      <th>4</th>\n",
       "      <td>성동구</td>\n",
       "      <td>86</td>\n",
       "      <td>1026</td>\n",
       "    </tr>\n",
       "    <tr>\n",
       "      <th>5</th>\n",
       "      <td>광진구</td>\n",
       "      <td>87</td>\n",
       "      <td>1136</td>\n",
       "    </tr>\n",
       "    <tr>\n",
       "      <th>6</th>\n",
       "      <td>동대문구</td>\n",
       "      <td>83</td>\n",
       "      <td>1031</td>\n",
       "    </tr>\n",
       "    <tr>\n",
       "      <th>7</th>\n",
       "      <td>중랑구</td>\n",
       "      <td>70</td>\n",
       "      <td>830</td>\n",
       "    </tr>\n",
       "    <tr>\n",
       "      <th>8</th>\n",
       "      <td>성북구</td>\n",
       "      <td>75</td>\n",
       "      <td>931</td>\n",
       "    </tr>\n",
       "    <tr>\n",
       "      <th>9</th>\n",
       "      <td>강북구</td>\n",
       "      <td>59</td>\n",
       "      <td>676</td>\n",
       "    </tr>\n",
       "    <tr>\n",
       "      <th>10</th>\n",
       "      <td>도봉구</td>\n",
       "      <td>56</td>\n",
       "      <td>673</td>\n",
       "    </tr>\n",
       "    <tr>\n",
       "      <th>11</th>\n",
       "      <td>노원구</td>\n",
       "      <td>90</td>\n",
       "      <td>1171</td>\n",
       "    </tr>\n",
       "    <tr>\n",
       "      <th>12</th>\n",
       "      <td>은평구</td>\n",
       "      <td>80</td>\n",
       "      <td>918</td>\n",
       "    </tr>\n",
       "    <tr>\n",
       "      <th>13</th>\n",
       "      <td>서대문구</td>\n",
       "      <td>77</td>\n",
       "      <td>1045</td>\n",
       "    </tr>\n",
       "    <tr>\n",
       "      <th>14</th>\n",
       "      <td>마포구</td>\n",
       "      <td>109</td>\n",
       "      <td>1379</td>\n",
       "    </tr>\n",
       "  </tbody>\n",
       "</table>\n",
       "</div>"
      ],
      "text/plain": [
       "     구 분 대여소(개소) 거치대(개)\n",
       "2   중  구      88   1090\n",
       "3    용산구      83   1003\n",
       "4    성동구      86   1026\n",
       "5    광진구      87   1136\n",
       "6   동대문구      83   1031\n",
       "7    중랑구      70    830\n",
       "8    성북구      75    931\n",
       "9    강북구      59    676\n",
       "10   도봉구      56    673\n",
       "11   노원구      90   1171\n",
       "12   은평구      80    918\n",
       "13  서대문구      77   1045\n",
       "14   마포구     109   1379"
      ]
     },
     "execution_count": 7,
     "metadata": {
      "tags": []
     },
     "output_type": "execute_result"
    }
   ],
   "source": [
    "data1_강북 = data1.iloc[2:15,:3]\n",
    "data1_강북"
   ]
  },
  {
   "cell_type": "code",
   "execution_count": 8,
   "metadata": {
    "colab": {
     "base_uri": "https://localhost:8080/",
     "height": 370
    },
    "executionInfo": {
     "elapsed": 9563,
     "status": "ok",
     "timestamp": 1617903304708,
     "user": {
      "displayName": "이가은",
      "photoUrl": "https://lh5.googleusercontent.com/-oryBByE2FyI/AAAAAAAAAAI/AAAAAAAAAD8/Eaz3eXBaTak/s64/photo.jpg",
      "userId": "05889358357517872697"
     },
     "user_tz": -540
    },
    "id": "1HMXeyHE4TY7",
    "outputId": "4e9021a1-5226-432a-9bdb-9233a9cd536d"
   },
   "outputs": [
    {
     "data": {
      "text/html": [
       "<div>\n",
       "<style scoped>\n",
       "    .dataframe tbody tr th:only-of-type {\n",
       "        vertical-align: middle;\n",
       "    }\n",
       "\n",
       "    .dataframe tbody tr th {\n",
       "        vertical-align: top;\n",
       "    }\n",
       "\n",
       "    .dataframe thead th {\n",
       "        text-align: right;\n",
       "    }\n",
       "</style>\n",
       "<table border=\"1\" class=\"dataframe\">\n",
       "  <thead>\n",
       "    <tr style=\"text-align: right;\">\n",
       "      <th></th>\n",
       "      <th>구 분</th>\n",
       "      <th>대여소(개소)</th>\n",
       "      <th>거치대(개)</th>\n",
       "    </tr>\n",
       "  </thead>\n",
       "  <tbody>\n",
       "    <tr>\n",
       "      <th>17</th>\n",
       "      <td>양천구</td>\n",
       "      <td>81</td>\n",
       "      <td>1028</td>\n",
       "    </tr>\n",
       "    <tr>\n",
       "      <th>18</th>\n",
       "      <td>강서구</td>\n",
       "      <td>151</td>\n",
       "      <td>2020</td>\n",
       "    </tr>\n",
       "    <tr>\n",
       "      <th>19</th>\n",
       "      <td>구로구</td>\n",
       "      <td>91</td>\n",
       "      <td>1184</td>\n",
       "    </tr>\n",
       "    <tr>\n",
       "      <th>20</th>\n",
       "      <td>금천구</td>\n",
       "      <td>55</td>\n",
       "      <td>717</td>\n",
       "    </tr>\n",
       "    <tr>\n",
       "      <th>21</th>\n",
       "      <td>영등포구</td>\n",
       "      <td>107</td>\n",
       "      <td>1485</td>\n",
       "    </tr>\n",
       "    <tr>\n",
       "      <th>22</th>\n",
       "      <td>동작구</td>\n",
       "      <td>63</td>\n",
       "      <td>853</td>\n",
       "    </tr>\n",
       "    <tr>\n",
       "      <th>23</th>\n",
       "      <td>관악구</td>\n",
       "      <td>66</td>\n",
       "      <td>828</td>\n",
       "    </tr>\n",
       "    <tr>\n",
       "      <th>24</th>\n",
       "      <td>서초구</td>\n",
       "      <td>123</td>\n",
       "      <td>1641</td>\n",
       "    </tr>\n",
       "    <tr>\n",
       "      <th>25</th>\n",
       "      <td>강남구</td>\n",
       "      <td>119</td>\n",
       "      <td>1487</td>\n",
       "    </tr>\n",
       "    <tr>\n",
       "      <th>26</th>\n",
       "      <td>송파구</td>\n",
       "      <td>136</td>\n",
       "      <td>1800</td>\n",
       "    </tr>\n",
       "    <tr>\n",
       "      <th>27</th>\n",
       "      <td>강동구</td>\n",
       "      <td>88</td>\n",
       "      <td>1197</td>\n",
       "    </tr>\n",
       "  </tbody>\n",
       "</table>\n",
       "</div>"
      ],
      "text/plain": [
       "     구 분 대여소(개소) 거치대(개)\n",
       "17   양천구      81   1028\n",
       "18   강서구     151   2020\n",
       "19   구로구      91   1184\n",
       "20   금천구      55    717\n",
       "21  영등포구     107   1485\n",
       "22   동작구      63    853\n",
       "23   관악구      66    828\n",
       "24   서초구     123   1641\n",
       "25   강남구     119   1487\n",
       "26   송파구     136   1800\n",
       "27   강동구      88   1197"
      ]
     },
     "execution_count": 8,
     "metadata": {
      "tags": []
     },
     "output_type": "execute_result"
    }
   ],
   "source": [
    "data1_강남 = data1.iloc[17:, :]\n",
    "data1_강남"
   ]
  },
  {
   "cell_type": "code",
   "execution_count": 9,
   "metadata": {
    "colab": {
     "base_uri": "https://localhost:8080/",
     "height": 868
    },
    "executionInfo": {
     "elapsed": 9558,
     "status": "ok",
     "timestamp": 1617903304710,
     "user": {
      "displayName": "이가은",
      "photoUrl": "https://lh5.googleusercontent.com/-oryBByE2FyI/AAAAAAAAAAI/AAAAAAAAAD8/Eaz3eXBaTak/s64/photo.jpg",
      "userId": "05889358357517872697"
     },
     "user_tz": -540
    },
    "id": "6ClSIdBx46Hm",
    "outputId": "3759bfd4-c31a-49ac-8b3f-ab76f4c38234"
   },
   "outputs": [
    {
     "data": {
      "text/html": [
       "<div>\n",
       "<style scoped>\n",
       "    .dataframe tbody tr th:only-of-type {\n",
       "        vertical-align: middle;\n",
       "    }\n",
       "\n",
       "    .dataframe tbody tr th {\n",
       "        vertical-align: top;\n",
       "    }\n",
       "\n",
       "    .dataframe thead th {\n",
       "        text-align: right;\n",
       "    }\n",
       "</style>\n",
       "<table border=\"1\" class=\"dataframe\">\n",
       "  <thead>\n",
       "    <tr style=\"text-align: right;\">\n",
       "      <th></th>\n",
       "      <th>구분</th>\n",
       "      <th>대여소(개소)</th>\n",
       "      <th>거치대(개)</th>\n",
       "    </tr>\n",
       "  </thead>\n",
       "  <tbody>\n",
       "    <tr>\n",
       "      <th>0</th>\n",
       "      <td>소  계</td>\n",
       "      <td>766</td>\n",
       "      <td>9621</td>\n",
       "    </tr>\n",
       "    <tr>\n",
       "      <th>1</th>\n",
       "      <td>강 북 구</td>\n",
       "      <td>39</td>\n",
       "      <td>451</td>\n",
       "    </tr>\n",
       "    <tr>\n",
       "      <th>2</th>\n",
       "      <td>광 진 구</td>\n",
       "      <td>59</td>\n",
       "      <td>841</td>\n",
       "    </tr>\n",
       "    <tr>\n",
       "      <th>3</th>\n",
       "      <td>노 원 구</td>\n",
       "      <td>68</td>\n",
       "      <td>879</td>\n",
       "    </tr>\n",
       "    <tr>\n",
       "      <th>4</th>\n",
       "      <td>도 봉 구</td>\n",
       "      <td>33</td>\n",
       "      <td>396</td>\n",
       "    </tr>\n",
       "    <tr>\n",
       "      <th>5</th>\n",
       "      <td>동대문구</td>\n",
       "      <td>51</td>\n",
       "      <td>659</td>\n",
       "    </tr>\n",
       "    <tr>\n",
       "      <th>6</th>\n",
       "      <td>마 포 구</td>\n",
       "      <td>79</td>\n",
       "      <td>1075</td>\n",
       "    </tr>\n",
       "    <tr>\n",
       "      <th>7</th>\n",
       "      <td>서대문구</td>\n",
       "      <td>51</td>\n",
       "      <td>667</td>\n",
       "    </tr>\n",
       "    <tr>\n",
       "      <th>8</th>\n",
       "      <td>성 동 구</td>\n",
       "      <td>63</td>\n",
       "      <td>780</td>\n",
       "    </tr>\n",
       "    <tr>\n",
       "      <th>9</th>\n",
       "      <td>성 북 구</td>\n",
       "      <td>58</td>\n",
       "      <td>726</td>\n",
       "    </tr>\n",
       "    <tr>\n",
       "      <th>10</th>\n",
       "      <td>용 산 구</td>\n",
       "      <td>39</td>\n",
       "      <td>538</td>\n",
       "    </tr>\n",
       "    <tr>\n",
       "      <th>11</th>\n",
       "      <td>은 평 구</td>\n",
       "      <td>63</td>\n",
       "      <td>716</td>\n",
       "    </tr>\n",
       "    <tr>\n",
       "      <th>12</th>\n",
       "      <td>종 로 구</td>\n",
       "      <td>68</td>\n",
       "      <td>784</td>\n",
       "    </tr>\n",
       "    <tr>\n",
       "      <th>13</th>\n",
       "      <td>중 랑 구</td>\n",
       "      <td>52</td>\n",
       "      <td>616</td>\n",
       "    </tr>\n",
       "    <tr>\n",
       "      <th>14</th>\n",
       "      <td>중  구</td>\n",
       "      <td>43</td>\n",
       "      <td>493</td>\n",
       "    </tr>\n",
       "    <tr>\n",
       "      <th>15</th>\n",
       "      <td>구분</td>\n",
       "      <td>대여소(개소)</td>\n",
       "      <td>거치대(개)</td>\n",
       "    </tr>\n",
       "    <tr>\n",
       "      <th>16</th>\n",
       "      <td>소  계</td>\n",
       "      <td>774</td>\n",
       "      <td>9924</td>\n",
       "    </tr>\n",
       "    <tr>\n",
       "      <th>17</th>\n",
       "      <td>강 남 구</td>\n",
       "      <td>99</td>\n",
       "      <td>1218</td>\n",
       "    </tr>\n",
       "    <tr>\n",
       "      <th>18</th>\n",
       "      <td>강 동 구</td>\n",
       "      <td>57</td>\n",
       "      <td>763</td>\n",
       "    </tr>\n",
       "    <tr>\n",
       "      <th>19</th>\n",
       "      <td>강 서 구</td>\n",
       "      <td>85</td>\n",
       "      <td>1002</td>\n",
       "    </tr>\n",
       "    <tr>\n",
       "      <th>20</th>\n",
       "      <td>관 악 구</td>\n",
       "      <td>51</td>\n",
       "      <td>640</td>\n",
       "    </tr>\n",
       "    <tr>\n",
       "      <th>21</th>\n",
       "      <td>구 로 구</td>\n",
       "      <td>64</td>\n",
       "      <td>788</td>\n",
       "    </tr>\n",
       "    <tr>\n",
       "      <th>22</th>\n",
       "      <td>금 천 구</td>\n",
       "      <td>45</td>\n",
       "      <td>560</td>\n",
       "    </tr>\n",
       "    <tr>\n",
       "      <th>23</th>\n",
       "      <td>동 작 구</td>\n",
       "      <td>41</td>\n",
       "      <td>501</td>\n",
       "    </tr>\n",
       "    <tr>\n",
       "      <th>24</th>\n",
       "      <td>서 초 구</td>\n",
       "      <td>89</td>\n",
       "      <td>1227</td>\n",
       "    </tr>\n",
       "    <tr>\n",
       "      <th>25</th>\n",
       "      <td>송 파 구</td>\n",
       "      <td>99</td>\n",
       "      <td>1298</td>\n",
       "    </tr>\n",
       "    <tr>\n",
       "      <th>26</th>\n",
       "      <td>양 천 구</td>\n",
       "      <td>55</td>\n",
       "      <td>677</td>\n",
       "    </tr>\n",
       "    <tr>\n",
       "      <th>27</th>\n",
       "      <td>영등포구</td>\n",
       "      <td>89</td>\n",
       "      <td>1250</td>\n",
       "    </tr>\n",
       "  </tbody>\n",
       "</table>\n",
       "</div>"
      ],
      "text/plain": [
       "       구분  대여소(개소)  거치대(개)\n",
       "0    소  계      766    9621\n",
       "1   강 북 구       39     451\n",
       "2   광 진 구       59     841\n",
       "3   노 원 구       68     879\n",
       "4   도 봉 구       33     396\n",
       "5    동대문구       51     659\n",
       "6   마 포 구       79    1075\n",
       "7    서대문구       51     667\n",
       "8   성 동 구       63     780\n",
       "9   성 북 구       58     726\n",
       "10  용 산 구       39     538\n",
       "11  은 평 구       63     716\n",
       "12  종 로 구       68     784\n",
       "13  중 랑 구       52     616\n",
       "14   중  구       43     493\n",
       "15     구분  대여소(개소)  거치대(개)\n",
       "16   소  계      774    9924\n",
       "17  강 남 구       99    1218\n",
       "18  강 동 구       57     763\n",
       "19  강 서 구       85    1002\n",
       "20  관 악 구       51     640\n",
       "21  구 로 구       64     788\n",
       "22  금 천 구       45     560\n",
       "23  동 작 구       41     501\n",
       "24  서 초 구       89    1227\n",
       "25  송 파 구       99    1298\n",
       "26  양 천 구       55     677\n",
       "27   영등포구       89    1250"
      ]
     },
     "execution_count": 9,
     "metadata": {
      "tags": []
     },
     "output_type": "execute_result"
    }
   ],
   "source": [
    "data2"
   ]
  },
  {
   "cell_type": "code",
   "execution_count": 10,
   "metadata": {
    "colab": {
     "base_uri": "https://localhost:8080/",
     "height": 458
    },
    "executionInfo": {
     "elapsed": 9550,
     "status": "ok",
     "timestamp": 1617903304711,
     "user": {
      "displayName": "이가은",
      "photoUrl": "https://lh5.googleusercontent.com/-oryBByE2FyI/AAAAAAAAAAI/AAAAAAAAAD8/Eaz3eXBaTak/s64/photo.jpg",
      "userId": "05889358357517872697"
     },
     "user_tz": -540
    },
    "id": "8p1H-mr8z94E",
    "outputId": "8c054997-52c4-409f-97f9-3a32f8e40d1e"
   },
   "outputs": [
    {
     "data": {
      "text/html": [
       "<div>\n",
       "<style scoped>\n",
       "    .dataframe tbody tr th:only-of-type {\n",
       "        vertical-align: middle;\n",
       "    }\n",
       "\n",
       "    .dataframe tbody tr th {\n",
       "        vertical-align: top;\n",
       "    }\n",
       "\n",
       "    .dataframe thead th {\n",
       "        text-align: right;\n",
       "    }\n",
       "</style>\n",
       "<table border=\"1\" class=\"dataframe\">\n",
       "  <thead>\n",
       "    <tr style=\"text-align: right;\">\n",
       "      <th></th>\n",
       "      <th>구분</th>\n",
       "      <th>대여소(개소)</th>\n",
       "      <th>거치대(개)</th>\n",
       "    </tr>\n",
       "  </thead>\n",
       "  <tbody>\n",
       "    <tr>\n",
       "      <th>1</th>\n",
       "      <td>강 북 구</td>\n",
       "      <td>39</td>\n",
       "      <td>451</td>\n",
       "    </tr>\n",
       "    <tr>\n",
       "      <th>2</th>\n",
       "      <td>광 진 구</td>\n",
       "      <td>59</td>\n",
       "      <td>841</td>\n",
       "    </tr>\n",
       "    <tr>\n",
       "      <th>3</th>\n",
       "      <td>노 원 구</td>\n",
       "      <td>68</td>\n",
       "      <td>879</td>\n",
       "    </tr>\n",
       "    <tr>\n",
       "      <th>4</th>\n",
       "      <td>도 봉 구</td>\n",
       "      <td>33</td>\n",
       "      <td>396</td>\n",
       "    </tr>\n",
       "    <tr>\n",
       "      <th>5</th>\n",
       "      <td>동대문구</td>\n",
       "      <td>51</td>\n",
       "      <td>659</td>\n",
       "    </tr>\n",
       "    <tr>\n",
       "      <th>6</th>\n",
       "      <td>마 포 구</td>\n",
       "      <td>79</td>\n",
       "      <td>1075</td>\n",
       "    </tr>\n",
       "    <tr>\n",
       "      <th>7</th>\n",
       "      <td>서대문구</td>\n",
       "      <td>51</td>\n",
       "      <td>667</td>\n",
       "    </tr>\n",
       "    <tr>\n",
       "      <th>8</th>\n",
       "      <td>성 동 구</td>\n",
       "      <td>63</td>\n",
       "      <td>780</td>\n",
       "    </tr>\n",
       "    <tr>\n",
       "      <th>9</th>\n",
       "      <td>성 북 구</td>\n",
       "      <td>58</td>\n",
       "      <td>726</td>\n",
       "    </tr>\n",
       "    <tr>\n",
       "      <th>10</th>\n",
       "      <td>용 산 구</td>\n",
       "      <td>39</td>\n",
       "      <td>538</td>\n",
       "    </tr>\n",
       "    <tr>\n",
       "      <th>11</th>\n",
       "      <td>은 평 구</td>\n",
       "      <td>63</td>\n",
       "      <td>716</td>\n",
       "    </tr>\n",
       "    <tr>\n",
       "      <th>12</th>\n",
       "      <td>종 로 구</td>\n",
       "      <td>68</td>\n",
       "      <td>784</td>\n",
       "    </tr>\n",
       "    <tr>\n",
       "      <th>13</th>\n",
       "      <td>중 랑 구</td>\n",
       "      <td>52</td>\n",
       "      <td>616</td>\n",
       "    </tr>\n",
       "    <tr>\n",
       "      <th>14</th>\n",
       "      <td>중  구</td>\n",
       "      <td>43</td>\n",
       "      <td>493</td>\n",
       "    </tr>\n",
       "  </tbody>\n",
       "</table>\n",
       "</div>"
      ],
      "text/plain": [
       "       구분 대여소(개소) 거치대(개)\n",
       "1   강 북 구      39    451\n",
       "2   광 진 구      59    841\n",
       "3   노 원 구      68    879\n",
       "4   도 봉 구      33    396\n",
       "5    동대문구      51    659\n",
       "6   마 포 구      79   1075\n",
       "7    서대문구      51    667\n",
       "8   성 동 구      63    780\n",
       "9   성 북 구      58    726\n",
       "10  용 산 구      39    538\n",
       "11  은 평 구      63    716\n",
       "12  종 로 구      68    784\n",
       "13  중 랑 구      52    616\n",
       "14   중  구      43    493"
      ]
     },
     "execution_count": 10,
     "metadata": {
      "tags": []
     },
     "output_type": "execute_result"
    }
   ],
   "source": [
    "data2_강북 = data2.iloc[1:15,:]\n",
    "data2_강남 = data2.iloc[17:, :]\n",
    "data2_강북"
   ]
  },
  {
   "cell_type": "code",
   "execution_count": 11,
   "metadata": {
    "colab": {
     "base_uri": "https://localhost:8080/",
     "height": 370
    },
    "executionInfo": {
     "elapsed": 9544,
     "status": "ok",
     "timestamp": 1617903304712,
     "user": {
      "displayName": "이가은",
      "photoUrl": "https://lh5.googleusercontent.com/-oryBByE2FyI/AAAAAAAAAAI/AAAAAAAAAD8/Eaz3eXBaTak/s64/photo.jpg",
      "userId": "05889358357517872697"
     },
     "user_tz": -540
    },
    "id": "GovmYbUl2CgJ",
    "outputId": "faa4169b-ca21-4f41-9822-36fb6cecdc46"
   },
   "outputs": [
    {
     "data": {
      "text/html": [
       "<div>\n",
       "<style scoped>\n",
       "    .dataframe tbody tr th:only-of-type {\n",
       "        vertical-align: middle;\n",
       "    }\n",
       "\n",
       "    .dataframe tbody tr th {\n",
       "        vertical-align: top;\n",
       "    }\n",
       "\n",
       "    .dataframe thead th {\n",
       "        text-align: right;\n",
       "    }\n",
       "</style>\n",
       "<table border=\"1\" class=\"dataframe\">\n",
       "  <thead>\n",
       "    <tr style=\"text-align: right;\">\n",
       "      <th></th>\n",
       "      <th>구분</th>\n",
       "      <th>대여소(개소)</th>\n",
       "      <th>거치대(개)</th>\n",
       "    </tr>\n",
       "  </thead>\n",
       "  <tbody>\n",
       "    <tr>\n",
       "      <th>17</th>\n",
       "      <td>강 남 구</td>\n",
       "      <td>99</td>\n",
       "      <td>1218</td>\n",
       "    </tr>\n",
       "    <tr>\n",
       "      <th>18</th>\n",
       "      <td>강 동 구</td>\n",
       "      <td>57</td>\n",
       "      <td>763</td>\n",
       "    </tr>\n",
       "    <tr>\n",
       "      <th>19</th>\n",
       "      <td>강 서 구</td>\n",
       "      <td>85</td>\n",
       "      <td>1002</td>\n",
       "    </tr>\n",
       "    <tr>\n",
       "      <th>20</th>\n",
       "      <td>관 악 구</td>\n",
       "      <td>51</td>\n",
       "      <td>640</td>\n",
       "    </tr>\n",
       "    <tr>\n",
       "      <th>21</th>\n",
       "      <td>구 로 구</td>\n",
       "      <td>64</td>\n",
       "      <td>788</td>\n",
       "    </tr>\n",
       "    <tr>\n",
       "      <th>22</th>\n",
       "      <td>금 천 구</td>\n",
       "      <td>45</td>\n",
       "      <td>560</td>\n",
       "    </tr>\n",
       "    <tr>\n",
       "      <th>23</th>\n",
       "      <td>동 작 구</td>\n",
       "      <td>41</td>\n",
       "      <td>501</td>\n",
       "    </tr>\n",
       "    <tr>\n",
       "      <th>24</th>\n",
       "      <td>서 초 구</td>\n",
       "      <td>89</td>\n",
       "      <td>1227</td>\n",
       "    </tr>\n",
       "    <tr>\n",
       "      <th>25</th>\n",
       "      <td>송 파 구</td>\n",
       "      <td>99</td>\n",
       "      <td>1298</td>\n",
       "    </tr>\n",
       "    <tr>\n",
       "      <th>26</th>\n",
       "      <td>양 천 구</td>\n",
       "      <td>55</td>\n",
       "      <td>677</td>\n",
       "    </tr>\n",
       "    <tr>\n",
       "      <th>27</th>\n",
       "      <td>영등포구</td>\n",
       "      <td>89</td>\n",
       "      <td>1250</td>\n",
       "    </tr>\n",
       "  </tbody>\n",
       "</table>\n",
       "</div>"
      ],
      "text/plain": [
       "       구분 대여소(개소) 거치대(개)\n",
       "17  강 남 구      99   1218\n",
       "18  강 동 구      57    763\n",
       "19  강 서 구      85   1002\n",
       "20  관 악 구      51    640\n",
       "21  구 로 구      64    788\n",
       "22  금 천 구      45    560\n",
       "23  동 작 구      41    501\n",
       "24  서 초 구      89   1227\n",
       "25  송 파 구      99   1298\n",
       "26  양 천 구      55    677\n",
       "27   영등포구      89   1250"
      ]
     },
     "execution_count": 11,
     "metadata": {
      "tags": []
     },
     "output_type": "execute_result"
    }
   ],
   "source": [
    "data2_강남"
   ]
  },
  {
   "cell_type": "code",
   "execution_count": 11,
   "metadata": {
    "executionInfo": {
     "elapsed": 9541,
     "status": "ok",
     "timestamp": 1617903304713,
     "user": {
      "displayName": "이가은",
      "photoUrl": "https://lh5.googleusercontent.com/-oryBByE2FyI/AAAAAAAAAAI/AAAAAAAAAD8/Eaz3eXBaTak/s64/photo.jpg",
      "userId": "05889358357517872697"
     },
     "user_tz": -540
    },
    "id": "pb1fQ2sY2_8h"
   },
   "outputs": [],
   "source": []
  },
  {
   "cell_type": "code",
   "execution_count": 12,
   "metadata": {
    "colab": {
     "base_uri": "https://localhost:8080/",
     "height": 588
    },
    "executionInfo": {
     "elapsed": 10311,
     "status": "ok",
     "timestamp": 1617903305490,
     "user": {
      "displayName": "이가은",
      "photoUrl": "https://lh5.googleusercontent.com/-oryBByE2FyI/AAAAAAAAAAI/AAAAAAAAAD8/Eaz3eXBaTak/s64/photo.jpg",
      "userId": "05889358357517872697"
     },
     "user_tz": -540
    },
    "id": "aduTpD5E5DhC",
    "outputId": "58e74bd8-2cb4-47cd-88be-b382f388db82"
   },
   "outputs": [
    {
     "data": {
      "text/plain": [
       "<matplotlib.axes._subplots.AxesSubplot at 0x7f93dd384990>"
      ]
     },
     "execution_count": 12,
     "metadata": {
      "tags": []
     },
     "output_type": "execute_result"
    },
    {
     "data": {
      "image/png": "[encoded data removed]",
      "text/plain": [
       "<Figure size 432x288 with 1 Axes>"
      ]
     },
     "metadata": {
      "needs_background": "light",
      "tags": []
     },
     "output_type": "display_data"
    },
    {
     "data": {
      "image/png": "[encoded data removed]",
      "text/plain": [
       "<Figure size 432x288 with 1 Axes>"
      ]
     },
     "metadata": {
      "needs_background": "light",
      "tags": []
     },
     "output_type": "display_data"
    }
   ],
   "source": [
    "data1_강남.plot(x = '구 분', y ='대여소(개소)',color= 'blue', title = '2020 강남')\n",
    "data2_강남.plot(x = '구분', y ='대여소(개소)',color= 'blue',title = '2019 강남')"
   ]
  },
  {
   "cell_type": "code",
   "execution_count": 13,
   "metadata": {
    "colab": {
     "base_uri": "https://localhost:8080/",
     "height": 588
    },
    "executionInfo": {
     "elapsed": 11191,
     "status": "ok",
     "timestamp": 1617903306489,
     "user": {
      "displayName": "이가은",
      "photoUrl": "https://lh5.googleusercontent.com/-oryBByE2FyI/AAAAAAAAAAI/AAAAAAAAAD8/Eaz3eXBaTak/s64/photo.jpg",
      "userId": "05889358357517872697"
     },
     "user_tz": -540
    },
    "id": "f8B-QKd75csB",
    "outputId": "39878d87-a61f-48ef-c1de-991e798e1a71"
   },
   "outputs": [
    {
     "data": {
      "text/plain": [
       "<matplotlib.axes._subplots.AxesSubplot at 0x7f93dce55510>"
      ]
     },
     "execution_count": 13,
     "metadata": {
      "tags": []
     },
     "output_type": "execute_result"
    },
    {
     "data": {
      "image/png": "[encoded data removed]",
      "text/plain": [
       "<Figure size 432x288 with 1 Axes>"
      ]
     },
     "metadata": {
      "needs_background": "light",
      "tags": []
     },
     "output_type": "display_data"
    },
    {
     "data": {
      "image/png": "[encoded data removed]",
      "text/plain": [
       "<Figure size 432x288 with 1 Axes>"
      ]
     },
     "metadata": {
      "needs_background": "light",
      "tags": []
     },
     "output_type": "display_data"
    }
   ],
   "source": [
    "data1_강북.plot(x = '구 분', y ='대여소(개소)',color= 'red', title = '2020 강북')\n",
    "data2_강북.plot(x = '구분', y ='대여소(개소)',color= 'red', title = '2019 강북')"
   ]
  },
  {
   "cell_type": "code",
   "execution_count": 13,
   "metadata": {
    "executionInfo": {
     "elapsed": 10928,
     "status": "ok",
     "timestamp": 1617903306490,
     "user": {
      "displayName": "이가은",
      "photoUrl": "https://lh5.googleusercontent.com/-oryBByE2FyI/AAAAAAAAAAI/AAAAAAAAAD8/Eaz3eXBaTak/s64/photo.jpg",
      "userId": "05889358357517872697"
     },
     "user_tz": -540
    },
    "id": "d4HsgN06d_1S"
   },
   "outputs": [],
   "source": []
  },
  {
   "cell_type": "code",
   "execution_count": 13,
   "metadata": {
    "executionInfo": {
     "elapsed": 10698,
     "status": "ok",
     "timestamp": 1617903306492,
     "user": {
      "displayName": "이가은",
      "photoUrl": "https://lh5.googleusercontent.com/-oryBByE2FyI/AAAAAAAAAAI/AAAAAAAAAD8/Eaz3eXBaTak/s64/photo.jpg",
      "userId": "05889358357517872697"
     },
     "user_tz": -540
    },
    "id": "1Z_bFkjQJLze"
   },
   "outputs": [],
   "source": []
  },
  {
   "cell_type": "code",
   "execution_count": null,
   "metadata": {
    "id": "Nd-hA7sLJLnB"
   },
   "outputs": [],
   "source": []
  },
  {
   "cell_type": "code",
   "execution_count": null,
   "metadata": {
    "colab": {
     "base_uri": "https://localhost:8080/",
     "height": 248
    },
    "executionInfo": {
     "elapsed": 467,
     "status": "ok",
     "timestamp": 1617688966520,
     "user": {
      "displayName": "이가은",
      "photoUrl": "https://lh5.googleusercontent.com/-oryBByE2FyI/AAAAAAAAAAI/AAAAAAAAAD8/Eaz3eXBaTak/s64/photo.jpg",
      "userId": "05889358357517872697"
     },
     "user_tz": -540
    },
    "id": "q8666eMNjS5_",
    "outputId": "843d0bee-897b-454c-fe89-3e92bbe549a8"
   },
   "outputs": [
    {
     "data": {
      "text/html": [
       "<div>\n",
       "<style scoped>\n",
       "    .dataframe tbody tr th:only-of-type {\n",
       "        vertical-align: middle;\n",
       "    }\n",
       "\n",
       "    .dataframe tbody tr th {\n",
       "        vertical-align: top;\n",
       "    }\n",
       "\n",
       "    .dataframe thead th {\n",
       "        text-align: right;\n",
       "    }\n",
       "</style>\n",
       "<table border=\"1\" class=\"dataframe\">\n",
       "  <thead>\n",
       "    <tr style=\"text-align: right;\">\n",
       "      <th></th>\n",
       "      <th>년</th>\n",
       "      <th>입대수(누적)</th>\n",
       "      <th>회원가입(명)</th>\n",
       "      <th>이용실적(건)</th>\n",
       "    </tr>\n",
       "  </thead>\n",
       "  <tbody>\n",
       "    <tr>\n",
       "      <th>0</th>\n",
       "      <td>2015.0</td>\n",
       "      <td>5600</td>\n",
       "      <td>34162</td>\n",
       "      <td>113708</td>\n",
       "    </tr>\n",
       "    <tr>\n",
       "      <th>1</th>\n",
       "      <td>2016.0</td>\n",
       "      <td>20000</td>\n",
       "      <td>177180</td>\n",
       "      <td>1611631</td>\n",
       "    </tr>\n",
       "    <tr>\n",
       "      <th>2</th>\n",
       "      <td>2017.0</td>\n",
       "      <td>25000</td>\n",
       "      <td>386607</td>\n",
       "      <td>5031039</td>\n",
       "    </tr>\n",
       "    <tr>\n",
       "      <th>3</th>\n",
       "      <td>2018.0</td>\n",
       "      <td>29500</td>\n",
       "      <td>495631</td>\n",
       "      <td>10061684</td>\n",
       "    </tr>\n",
       "    <tr>\n",
       "      <th>4</th>\n",
       "      <td>2019.0</td>\n",
       "      <td>25000</td>\n",
       "      <td>636274</td>\n",
       "      <td>19074794</td>\n",
       "    </tr>\n",
       "    <tr>\n",
       "      <th>5</th>\n",
       "      <td>2020.0</td>\n",
       "      <td>37500</td>\n",
       "      <td>1055725</td>\n",
       "      <td>23705176</td>\n",
       "    </tr>\n",
       "    <tr>\n",
       "      <th>6</th>\n",
       "      <td>2021.1</td>\n",
       "      <td>37500</td>\n",
       "      <td>12956</td>\n",
       "      <td>812021</td>\n",
       "    </tr>\n",
       "  </tbody>\n",
       "</table>\n",
       "</div>"
      ],
      "text/plain": [
       "        년  입대수(누적)  회원가입(명)   이용실적(건)\n",
       "0  2015.0     5600    34162    113708\n",
       "1  2016.0    20000   177180   1611631\n",
       "2  2017.0    25000   386607   5031039\n",
       "3  2018.0    29500   495631  10061684\n",
       "4  2019.0    25000   636274  19074794\n",
       "5  2020.0    37500  1055725  23705176\n",
       "6  2021.1    37500    12956    812021"
      ]
     },
     "execution_count": 210,
     "metadata": {
      "tags": []
     },
     "output_type": "execute_result"
    }
   ],
   "source": [
    "data3"
   ]
  },
  {
   "cell_type": "code",
   "execution_count": null,
   "metadata": {
    "colab": {
     "base_uri": "https://localhost:8080/",
     "height": 307
    },
    "executionInfo": {
     "elapsed": 1197,
     "status": "ok",
     "timestamp": 1617688968557,
     "user": {
      "displayName": "이가은",
      "photoUrl": "https://lh5.googleusercontent.com/-oryBByE2FyI/AAAAAAAAAAI/AAAAAAAAAD8/Eaz3eXBaTak/s64/photo.jpg",
      "userId": "05889358357517872697"
     },
     "user_tz": -540
    },
    "id": "nblXUGEMt72R",
    "outputId": "50397c7b-a6a5-4139-e78d-c90f3ceab092"
   },
   "outputs": [
    {
     "data": {
      "text/plain": [
       "<matplotlib.axes._subplots.AxesSubplot at 0x7f5e61480b50>"
      ]
     },
     "execution_count": 211,
     "metadata": {
      "tags": []
     },
     "output_type": "execute_result"
    },
    {
     "data": {
      "image/png": "[encoded data removed]",
      "text/plain": [
       "<Figure size 432x288 with 1 Axes>"
      ]
     },
     "metadata": {
      "needs_background": "light",
      "tags": []
     },
     "output_type": "display_data"
    }
   ],
   "source": [
    "data3.plot(x = '년', y = ['입대수(누적)','회원가입(명)', '이용실적(건)'])"
   ]
  },
  {
   "cell_type": "code",
   "execution_count": null,
   "metadata": {
    "colab": {
     "base_uri": "https://localhost:8080/",
     "height": 909
    },
    "executionInfo": {
     "elapsed": 1404,
     "status": "ok",
     "timestamp": 1617693782824,
     "user": {
      "displayName": "이가은",
      "photoUrl": "https://lh5.googleusercontent.com/-oryBByE2FyI/AAAAAAAAAAI/AAAAAAAAAD8/Eaz3eXBaTak/s64/photo.jpg",
      "userId": "05889358357517872697"
     },
     "user_tz": -540
    },
    "id": "s-0hWUI4xVua",
    "outputId": "adf78ba2-d169-4f8d-baa8-90cb91d41320"
   },
   "outputs": [
    {
     "data": {
      "text/plain": [
       "<matplotlib.axes._subplots.AxesSubplot at 0x7f5e610a9c90>"
      ]
     },
     "execution_count": 216,
     "metadata": {
      "tags": []
     },
     "output_type": "execute_result"
    },
    {
     "data": {
      "image/png": "[encoded data removed]",
      "text/plain": [
       "<Figure size 432x288 with 1 Axes>"
      ]
     },
     "metadata": {
      "needs_background": "light",
      "tags": []
     },
     "output_type": "display_data"
    },
    {
     "data": {
      "image/png": "[encoded data removed]",
      "text/plain": [
       "<Figure size 432x288 with 1 Axes>"
      ]
     },
     "metadata": {
      "needs_background": "light",
      "tags": []
     },
     "output_type": "display_data"
    },
    {
     "data": {
      "image/png": "[encoded data removed]",
      "text/plain": [
       "<Figure size 432x288 with 1 Axes>"
      ]
     },
     "metadata": {
      "needs_background": "light",
      "tags": []
     },
     "output_type": "display_data"
    }
   ],
   "source": [
    "data3.plot(kind = 'bar', x = '년', y = ['이용실적(건)'], color = 'turquoise')\n",
    "data3.plot(kind = 'bar', x = '년', y = ['회원가입(명)'], color = 'teal')\n",
    "data3.plot(kind = 'bar', x = '년', y = ['입대수(누적)'], color = 'cornflowerblue')"
   ]
  },
  {
   "cell_type": "code",
   "execution_count": null,
   "metadata": {
    "colab": {
     "base_uri": "https://localhost:8080/",
     "height": 266
    },
    "executionInfo": {
     "elapsed": 765,
     "status": "ok",
     "timestamp": 1617688722515,
     "user": {
      "displayName": "이가은",
      "photoUrl": "https://lh5.googleusercontent.com/-oryBByE2FyI/AAAAAAAAAAI/AAAAAAAAAD8/Eaz3eXBaTak/s64/photo.jpg",
      "userId": "05889358357517872697"
     },
     "user_tz": -540
    },
    "id": "62MSKrnMbHum",
    "outputId": "1065ec2e-ac36-4cb4-b2fe-f928d3d8ee37"
   },
   "outputs": [
    {
     "data": {
      "text/plain": [
       "<matplotlib.axes._subplots.AxesSubplot at 0x7f5e62460990>"
      ]
     },
     "execution_count": 179,
     "metadata": {
      "tags": []
     },
     "output_type": "execute_result"
    },
    {
     "data": {
      "image/png": "[encoded data removed]",
      "text/plain": [
       "<Figure size 432x288 with 1 Axes>"
      ]
     },
     "metadata": {
      "tags": []
     },
     "output_type": "display_data"
    }
   ],
   "source": [
    "data3.plot(kind= 'pie',y = '이용실적(건)', x = '년')"
   ]
  },
  {
   "cell_type": "code",
   "execution_count": null,
   "metadata": {
    "colab": {
     "base_uri": "https://localhost:8080/",
     "height": 277
    },
    "executionInfo": {
     "elapsed": 735,
     "status": "ok",
     "timestamp": 1617688756070,
     "user": {
      "displayName": "이가은",
      "photoUrl": "https://lh5.googleusercontent.com/-oryBByE2FyI/AAAAAAAAAAI/AAAAAAAAAD8/Eaz3eXBaTak/s64/photo.jpg",
      "userId": "05889358357517872697"
     },
     "user_tz": -540
    },
    "id": "xm0Z4f2pjLfN",
    "outputId": "a237e84d-58de-4e1f-c7f5-f14313919e24"
   },
   "outputs": [
    {
     "data": {
      "text/html": [
       "<div>\n",
       "<style scoped>\n",
       "    .dataframe tbody tr th:only-of-type {\n",
       "        vertical-align: middle;\n",
       "    }\n",
       "\n",
       "    .dataframe tbody tr th {\n",
       "        vertical-align: top;\n",
       "    }\n",
       "\n",
       "    .dataframe thead th {\n",
       "        text-align: right;\n",
       "    }\n",
       "</style>\n",
       "<table border=\"1\" class=\"dataframe\">\n",
       "  <thead>\n",
       "    <tr style=\"text-align: right;\">\n",
       "      <th></th>\n",
       "      <th>입대수(누적)</th>\n",
       "      <th>회원가입(명)</th>\n",
       "      <th>이용실적(건)</th>\n",
       "    </tr>\n",
       "    <tr>\n",
       "      <th>년</th>\n",
       "      <th></th>\n",
       "      <th></th>\n",
       "      <th></th>\n",
       "    </tr>\n",
       "  </thead>\n",
       "  <tbody>\n",
       "    <tr>\n",
       "      <th>2015.0</th>\n",
       "      <td>5600</td>\n",
       "      <td>34162</td>\n",
       "      <td>113708</td>\n",
       "    </tr>\n",
       "    <tr>\n",
       "      <th>2016.0</th>\n",
       "      <td>20000</td>\n",
       "      <td>177180</td>\n",
       "      <td>1611631</td>\n",
       "    </tr>\n",
       "    <tr>\n",
       "      <th>2017.0</th>\n",
       "      <td>25000</td>\n",
       "      <td>386607</td>\n",
       "      <td>5031039</td>\n",
       "    </tr>\n",
       "    <tr>\n",
       "      <th>2018.0</th>\n",
       "      <td>29500</td>\n",
       "      <td>495631</td>\n",
       "      <td>10061684</td>\n",
       "    </tr>\n",
       "    <tr>\n",
       "      <th>2019.0</th>\n",
       "      <td>25000</td>\n",
       "      <td>636274</td>\n",
       "      <td>19074794</td>\n",
       "    </tr>\n",
       "    <tr>\n",
       "      <th>2020.0</th>\n",
       "      <td>37500</td>\n",
       "      <td>1055725</td>\n",
       "      <td>23705176</td>\n",
       "    </tr>\n",
       "    <tr>\n",
       "      <th>2021.1</th>\n",
       "      <td>37500</td>\n",
       "      <td>12956</td>\n",
       "      <td>812021</td>\n",
       "    </tr>\n",
       "  </tbody>\n",
       "</table>\n",
       "</div>"
      ],
      "text/plain": [
       "        입대수(누적)  회원가입(명)   이용실적(건)\n",
       "년                                 \n",
       "2015.0     5600    34162    113708\n",
       "2016.0    20000   177180   1611631\n",
       "2017.0    25000   386607   5031039\n",
       "2018.0    29500   495631  10061684\n",
       "2019.0    25000   636274  19074794\n",
       "2020.0    37500  1055725  23705176\n",
       "2021.1    37500    12956    812021"
      ]
     },
     "execution_count": 183,
     "metadata": {
      "tags": []
     },
     "output_type": "execute_result"
    }
   ],
   "source": [
    "data3"
   ]
  },
  {
   "cell_type": "code",
   "execution_count": null,
   "metadata": {
    "colab": {
     "base_uri": "https://localhost:8080/",
     "height": 591
    },
    "executionInfo": {
     "elapsed": 782,
     "status": "error",
     "timestamp": 1617688773710,
     "user": {
      "displayName": "이가은",
      "photoUrl": "https://lh5.googleusercontent.com/-oryBByE2FyI/AAAAAAAAAAI/AAAAAAAAAD8/Eaz3eXBaTak/s64/photo.jpg",
      "userId": "05889358357517872697"
     },
     "user_tz": -540
    },
    "id": "Kk6pH-suw2sN",
    "outputId": "e4f2a214-9586-41b5-d38d-c7ef8614baa6"
   },
   "outputs": [
    {
     "ename": "KeyError",
     "evalue": "ignored",
     "output_type": "error",
     "traceback": [
      "\u001b[0;31m---------------------------------------------------------------------------\u001b[0m",
      "\u001b[0;31mKeyError\u001b[0m                                  Traceback (most recent call last)",
      "\u001b[0;32m/usr/local/lib/python3.7/dist-packages/pandas/core/indexes/base.py\u001b[0m in \u001b[0;36mget_loc\u001b[0;34m(self, key, method, tolerance)\u001b[0m\n\u001b[1;32m   2897\u001b[0m             \u001b[0;32mtry\u001b[0m\u001b[0;34m:\u001b[0m\u001b[0;34m\u001b[0m\u001b[0;34m\u001b[0m\u001b[0m\n\u001b[0;32m-> 2898\u001b[0;31m                 \u001b[0;32mreturn\u001b[0m \u001b[0mself\u001b[0m\u001b[0;34m.\u001b[0m\u001b[0m_engine\u001b[0m\u001b[0;34m.\u001b[0m\u001b[0mget_loc\u001b[0m\u001b[0;34m(\u001b[0m\u001b[0mcasted_key\u001b[0m\u001b[0;34m)\u001b[0m\u001b[0;34m\u001b[0m\u001b[0;34m\u001b[0m\u001b[0m\n\u001b[0m\u001b[1;32m   2899\u001b[0m             \u001b[0;32mexcept\u001b[0m \u001b[0mKeyError\u001b[0m \u001b[0;32mas\u001b[0m \u001b[0merr\u001b[0m\u001b[0;34m:\u001b[0m\u001b[0;34m\u001b[0m\u001b[0;34m\u001b[0m\u001b[0m\n",
      "\u001b[0;32mpandas/_libs/index.pyx\u001b[0m in \u001b[0;36mpandas._libs.index.IndexEngine.get_loc\u001b[0;34m()\u001b[0m\n",
      "\u001b[0;32mpandas/_libs/index.pyx\u001b[0m in \u001b[0;36mpandas._libs.index.IndexEngine.get_loc\u001b[0;34m()\u001b[0m\n",
      "\u001b[0;32mpandas/_libs/hashtable_class_helper.pxi\u001b[0m in \u001b[0;36mpandas._libs.hashtable.PyObjectHashTable.get_item\u001b[0;34m()\u001b[0m\n",
      "\u001b[0;32mpandas/_libs/hashtable_class_helper.pxi\u001b[0m in \u001b[0;36mpandas._libs.hashtable.PyObjectHashTable.get_item\u001b[0;34m()\u001b[0m\n",
      "\u001b[0;31mKeyError\u001b[0m: '년'",
      "\nThe above exception was the direct cause of the following exception:\n",
      "\u001b[0;31mKeyError\u001b[0m                                  Traceback (most recent call last)",
      "\u001b[0;32m<ipython-input-185-8e1a39b413d7>\u001b[0m in \u001b[0;36m<module>\u001b[0;34m()\u001b[0m\n\u001b[0;32m----> 1\u001b[0;31m \u001b[0mdata3\u001b[0m\u001b[0;34m.\u001b[0m\u001b[0mplot\u001b[0m\u001b[0;34m(\u001b[0m\u001b[0mkind\u001b[0m\u001b[0;34m=\u001b[0m \u001b[0;34m'bar'\u001b[0m\u001b[0;34m,\u001b[0m\u001b[0mx\u001b[0m \u001b[0;34m=\u001b[0m \u001b[0;34m'년'\u001b[0m\u001b[0;34m,\u001b[0m \u001b[0my\u001b[0m \u001b[0;34m=\u001b[0m \u001b[0;34m'이용실적(건)'\u001b[0m\u001b[0;34m)\u001b[0m\u001b[0;34m\u001b[0m\u001b[0;34m\u001b[0m\u001b[0m\n\u001b[0m",
      "\u001b[0;32m/usr/local/lib/python3.7/dist-packages/pandas/plotting/_core.py\u001b[0m in \u001b[0;36m__call__\u001b[0;34m(self, *args, **kwargs)\u001b[0m\n\u001b[1;32m    912\u001b[0m                 \u001b[0;32mif\u001b[0m \u001b[0mis_integer\u001b[0m\u001b[0;34m(\u001b[0m\u001b[0mx\u001b[0m\u001b[0;34m)\u001b[0m \u001b[0;32mand\u001b[0m \u001b[0;32mnot\u001b[0m \u001b[0mdata\u001b[0m\u001b[0;34m.\u001b[0m\u001b[0mcolumns\u001b[0m\u001b[0;34m.\u001b[0m\u001b[0mholds_integer\u001b[0m\u001b[0;34m(\u001b[0m\u001b[0;34m)\u001b[0m\u001b[0;34m:\u001b[0m\u001b[0;34m\u001b[0m\u001b[0;34m\u001b[0m\u001b[0m\n\u001b[1;32m    913\u001b[0m                     \u001b[0mx\u001b[0m \u001b[0;34m=\u001b[0m \u001b[0mdata_cols\u001b[0m\u001b[0;34m[\u001b[0m\u001b[0mx\u001b[0m\u001b[0;34m]\u001b[0m\u001b[0;34m\u001b[0m\u001b[0;34m\u001b[0m\u001b[0m\n\u001b[0;32m--> 914\u001b[0;31m                 \u001b[0;32melif\u001b[0m \u001b[0;32mnot\u001b[0m \u001b[0misinstance\u001b[0m\u001b[0;34m(\u001b[0m\u001b[0mdata\u001b[0m\u001b[0;34m[\u001b[0m\u001b[0mx\u001b[0m\u001b[0;34m]\u001b[0m\u001b[0;34m,\u001b[0m \u001b[0mABCSeries\u001b[0m\u001b[0;34m)\u001b[0m\u001b[0;34m:\u001b[0m\u001b[0;34m\u001b[0m\u001b[0;34m\u001b[0m\u001b[0m\n\u001b[0m\u001b[1;32m    915\u001b[0m                     \u001b[0;32mraise\u001b[0m \u001b[0mValueError\u001b[0m\u001b[0;34m(\u001b[0m\u001b[0;34m\"x must be a label or position\"\u001b[0m\u001b[0;34m)\u001b[0m\u001b[0;34m\u001b[0m\u001b[0;34m\u001b[0m\u001b[0m\n\u001b[1;32m    916\u001b[0m                 \u001b[0mdata\u001b[0m \u001b[0;34m=\u001b[0m \u001b[0mdata\u001b[0m\u001b[0;34m.\u001b[0m\u001b[0mset_index\u001b[0m\u001b[0;34m(\u001b[0m\u001b[0mx\u001b[0m\u001b[0;34m)\u001b[0m\u001b[0;34m\u001b[0m\u001b[0;34m\u001b[0m\u001b[0m\n",
      "\u001b[0;32m/usr/local/lib/python3.7/dist-packages/pandas/core/frame.py\u001b[0m in \u001b[0;36m__getitem__\u001b[0;34m(self, key)\u001b[0m\n\u001b[1;32m   2904\u001b[0m             \u001b[0;32mif\u001b[0m \u001b[0mself\u001b[0m\u001b[0;34m.\u001b[0m\u001b[0mcolumns\u001b[0m\u001b[0;34m.\u001b[0m\u001b[0mnlevels\u001b[0m \u001b[0;34m>\u001b[0m \u001b[0;36m1\u001b[0m\u001b[0;34m:\u001b[0m\u001b[0;34m\u001b[0m\u001b[0;34m\u001b[0m\u001b[0m\n\u001b[1;32m   2905\u001b[0m                 \u001b[0;32mreturn\u001b[0m \u001b[0mself\u001b[0m\u001b[0;34m.\u001b[0m\u001b[0m_getitem_multilevel\u001b[0m\u001b[0;34m(\u001b[0m\u001b[0mkey\u001b[0m\u001b[0;34m)\u001b[0m\u001b[0;34m\u001b[0m\u001b[0;34m\u001b[0m\u001b[0m\n\u001b[0;32m-> 2906\u001b[0;31m             \u001b[0mindexer\u001b[0m \u001b[0;34m=\u001b[0m \u001b[0mself\u001b[0m\u001b[0;34m.\u001b[0m\u001b[0mcolumns\u001b[0m\u001b[0;34m.\u001b[0m\u001b[0mget_loc\u001b[0m\u001b[0;34m(\u001b[0m\u001b[0mkey\u001b[0m\u001b[0;34m)\u001b[0m\u001b[0;34m\u001b[0m\u001b[0;34m\u001b[0m\u001b[0m\n\u001b[0m\u001b[1;32m   2907\u001b[0m             \u001b[0;32mif\u001b[0m \u001b[0mis_integer\u001b[0m\u001b[0;34m(\u001b[0m\u001b[0mindexer\u001b[0m\u001b[0;34m)\u001b[0m\u001b[0;34m:\u001b[0m\u001b[0;34m\u001b[0m\u001b[0;34m\u001b[0m\u001b[0m\n\u001b[1;32m   2908\u001b[0m                 \u001b[0mindexer\u001b[0m \u001b[0;34m=\u001b[0m \u001b[0;34m[\u001b[0m\u001b[0mindexer\u001b[0m\u001b[0;34m]\u001b[0m\u001b[0;34m\u001b[0m\u001b[0;34m\u001b[0m\u001b[0m\n",
      "\u001b[0;32m/usr/local/lib/python3.7/dist-packages/pandas/core/indexes/base.py\u001b[0m in \u001b[0;36mget_loc\u001b[0;34m(self, key, method, tolerance)\u001b[0m\n\u001b[1;32m   2898\u001b[0m                 \u001b[0;32mreturn\u001b[0m \u001b[0mself\u001b[0m\u001b[0;34m.\u001b[0m\u001b[0m_engine\u001b[0m\u001b[0;34m.\u001b[0m\u001b[0mget_loc\u001b[0m\u001b[0;34m(\u001b[0m\u001b[0mcasted_key\u001b[0m\u001b[0;34m)\u001b[0m\u001b[0;34m\u001b[0m\u001b[0;34m\u001b[0m\u001b[0m\n\u001b[1;32m   2899\u001b[0m             \u001b[0;32mexcept\u001b[0m \u001b[0mKeyError\u001b[0m \u001b[0;32mas\u001b[0m \u001b[0merr\u001b[0m\u001b[0;34m:\u001b[0m\u001b[0;34m\u001b[0m\u001b[0;34m\u001b[0m\u001b[0m\n\u001b[0;32m-> 2900\u001b[0;31m                 \u001b[0;32mraise\u001b[0m \u001b[0mKeyError\u001b[0m\u001b[0;34m(\u001b[0m\u001b[0mkey\u001b[0m\u001b[0;34m)\u001b[0m \u001b[0;32mfrom\u001b[0m \u001b[0merr\u001b[0m\u001b[0;34m\u001b[0m\u001b[0;34m\u001b[0m\u001b[0m\n\u001b[0m\u001b[1;32m   2901\u001b[0m \u001b[0;34m\u001b[0m\u001b[0m\n\u001b[1;32m   2902\u001b[0m         \u001b[0;32mif\u001b[0m \u001b[0mtolerance\u001b[0m \u001b[0;32mis\u001b[0m \u001b[0;32mnot\u001b[0m \u001b[0;32mNone\u001b[0m\u001b[0;34m:\u001b[0m\u001b[0;34m\u001b[0m\u001b[0;34m\u001b[0m\u001b[0m\n",
      "\u001b[0;31mKeyError\u001b[0m: '년'"
     ]
    }
   ],
   "source": []
  },
  {
   "cell_type": "code",
   "execution_count": null,
   "metadata": {
    "id": "5rypSCWUw3a-"
   },
   "outputs": [],
   "source": []
  },
  {
   "cell_type": "markdown",
   "metadata": {
    "id": "ljEldMb58NPZ"
   },
   "source": []
  }
 ],
 "metadata": {
  "colab": {
   "authorship_tag": "ABX9TyPrzaqS6Y1XgNmZ9tkeZpN8",
   "collapsed_sections": [],
   "name": "자전거.ipynb",
   "provenance": []
  },
  "kernelspec": {
   "display_name": "Python 3",
   "language": "python",
   "name": "python3"
  },
  "language_info": {
   "codemirror_mode": {
    "name": "ipython",
    "version": 3
   },
   "file_extension": ".py",
   "mimetype": "text/x-python",
   "name": "python",
   "nbconvert_exporter": "python",
   "pygments_lexer": "ipython3",
   "version": "3.7.10"
  }
 },
 "nbformat": 4,
 "nbformat_minor": 1
}
