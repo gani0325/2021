{
 "cells": [
  {
   "cell_type": "markdown",
   "id": "blond-sector",
   "metadata": {},
   "source": [
    "## 가설3 - 캠핑장\n"
   ]
  },
  {
   "cell_type": "code",
   "execution_count": 4,
   "id": "breathing-garden",
   "metadata": {},
   "outputs": [],
   "source": [
    "import pandas as pd\n",
    "import numpy as np\n",
    "import matplotlib.pyplot as plt\n",
    "from pandas import Series, DataFrame\n",
    "import matplotlib.pyplot as plt\n",
    "plt.rc('font', family='NanumBarunGothic') "
   ]
  },
  {
   "cell_type": "code",
   "execution_count": 22,
   "id": "herbal-majority",
   "metadata": {},
   "outputs": [
    {
     "data": {
      "text/plain": [
       "'nt'"
      ]
     },
     "execution_count": 22,
     "metadata": {},
     "output_type": "execute_result"
    }
   ],
   "source": [
    "import matplotlib.pyplot as plt\n",
    "%matplotlib inline\n",
    "\n",
    "\n",
    "# 사용자 운영체제 확인\n",
    "import os\n",
    "os.name"
   ]
  },
  {
   "cell_type": "code",
   "execution_count": 23,
   "id": "reduced-syndication",
   "metadata": {},
   "outputs": [],
   "source": [
    "if os.name == 'posix': # Mac 환경 폰트 설정\n",
    "    plt.rc('font', family='AppleGothic')\n",
    "elif os.name == 'nt': # Windows 환경 폰트 설정\n",
    "    plt.rc('font', family='Malgun Gothic')\n",
    "\n",
    "plt.rc('axes', unicode_minus=False) # 마이너스 폰트 설정\n",
    "\n",
    "\n",
    "# 글씨 선명하게 출력하는 설정\n",
    "%config InlineBackend.figure_format = 'retina'"
   ]
  },
  {
   "cell_type": "markdown",
   "id": "settled-plymouth",
   "metadata": {},
   "source": [
    "### 3.가설: 캠핑장으로 유입되는 차량이 많을 것이다.\n",
    "##### - 가장 많은 3곳의 통행량의 변화 살펴보기"
   ]
  },
  {
   "cell_type": "code",
   "execution_count": 24,
   "id": "marked-rochester",
   "metadata": {},
   "outputs": [
    {
     "data": {
      "text/html": [
       "<div>\n",
       "<style scoped>\n",
       "    .dataframe tbody tr th:only-of-type {\n",
       "        vertical-align: middle;\n",
       "    }\n",
       "\n",
       "    .dataframe tbody tr th {\n",
       "        vertical-align: top;\n",
       "    }\n",
       "\n",
       "    .dataframe thead th {\n",
       "        text-align: right;\n",
       "    }\n",
       "</style>\n",
       "<table border=\"1\" class=\"dataframe\">\n",
       "  <thead>\n",
       "    <tr style=\"text-align: right;\">\n",
       "      <th></th>\n",
       "      <th>캠핑(야영)장명</th>\n",
       "      <th>소재지도로명주소</th>\n",
       "      <th>야영사이트수</th>\n",
       "      <th>이용시간</th>\n",
       "      <th>이용요금</th>\n",
       "      <th>데이터기준일자</th>\n",
       "      <th>지역</th>\n",
       "    </tr>\n",
       "  </thead>\n",
       "  <tbody>\n",
       "    <tr>\n",
       "      <th>0</th>\n",
       "      <td>동화카라반</td>\n",
       "      <td>가평군 가평읍 가화로 440-151</td>\n",
       "      <td>13.0</td>\n",
       "      <td>0</td>\n",
       "      <td>0</td>\n",
       "      <td>2019-09-08</td>\n",
       "      <td>가평</td>\n",
       "    </tr>\n",
       "    <tr>\n",
       "      <th>1</th>\n",
       "      <td>칼봉산카라반캠핑장</td>\n",
       "      <td>가평군 가평읍 경반안로 229</td>\n",
       "      <td>10.0</td>\n",
       "      <td>0</td>\n",
       "      <td>0</td>\n",
       "      <td>2019-09-08</td>\n",
       "      <td>가평</td>\n",
       "    </tr>\n",
       "    <tr>\n",
       "      <th>2</th>\n",
       "      <td>베스트캠핑장</td>\n",
       "      <td>가평군 가평읍 금대리 302-10</td>\n",
       "      <td>18.0</td>\n",
       "      <td>0</td>\n",
       "      <td>0</td>\n",
       "      <td>2019-09-08</td>\n",
       "      <td>가평</td>\n",
       "    </tr>\n",
       "    <tr>\n",
       "      <th>3</th>\n",
       "      <td>글램바오캠핑장</td>\n",
       "      <td>가평군 가평읍 금대리 302-15</td>\n",
       "      <td>6.0</td>\n",
       "      <td>0</td>\n",
       "      <td>0</td>\n",
       "      <td>2019-09-08</td>\n",
       "      <td>가평</td>\n",
       "    </tr>\n",
       "    <tr>\n",
       "      <th>4</th>\n",
       "      <td>아담펜션&amp;캠핑장</td>\n",
       "      <td>가평군 가평읍 당목가일길 410-68</td>\n",
       "      <td>7.0</td>\n",
       "      <td>0</td>\n",
       "      <td>0</td>\n",
       "      <td>2019-09-08</td>\n",
       "      <td>가평</td>\n",
       "    </tr>\n",
       "    <tr>\n",
       "      <th>...</th>\n",
       "      <td>...</td>\n",
       "      <td>...</td>\n",
       "      <td>...</td>\n",
       "      <td>...</td>\n",
       "      <td>...</td>\n",
       "      <td>...</td>\n",
       "      <td>...</td>\n",
       "    </tr>\n",
       "    <tr>\n",
       "      <th>552</th>\n",
       "      <td>힐링캠프글램핑</td>\n",
       "      <td>인천 중구 늘목로 38</td>\n",
       "      <td>14.0</td>\n",
       "      <td>0</td>\n",
       "      <td>0</td>\n",
       "      <td>2019-06-03</td>\n",
       "      <td>인천</td>\n",
       "    </tr>\n",
       "    <tr>\n",
       "      <th>553</th>\n",
       "      <td>락인뜰</td>\n",
       "      <td>인천 중구 늘목로 38</td>\n",
       "      <td>23.0</td>\n",
       "      <td>0</td>\n",
       "      <td>0</td>\n",
       "      <td>2019-06-03</td>\n",
       "      <td>인천</td>\n",
       "    </tr>\n",
       "    <tr>\n",
       "      <th>554</th>\n",
       "      <td>섬뜰아래</td>\n",
       "      <td>인천 중구 대무의로 229</td>\n",
       "      <td>15.0</td>\n",
       "      <td>0</td>\n",
       "      <td>0</td>\n",
       "      <td>2019-06-03</td>\n",
       "      <td>인천</td>\n",
       "    </tr>\n",
       "    <tr>\n",
       "      <th>555</th>\n",
       "      <td>왕산가족오토캠핑장</td>\n",
       "      <td>인천 중구 용유서로423번길 42</td>\n",
       "      <td>75.0</td>\n",
       "      <td>0</td>\n",
       "      <td>0</td>\n",
       "      <td>2019-06-03</td>\n",
       "      <td>인천</td>\n",
       "    </tr>\n",
       "    <tr>\n",
       "      <th>556</th>\n",
       "      <td>만정캠핑장</td>\n",
       "      <td>인천 중구 중산로29번길 174</td>\n",
       "      <td>44.0</td>\n",
       "      <td>0</td>\n",
       "      <td>0</td>\n",
       "      <td>2019-06-03</td>\n",
       "      <td>인천</td>\n",
       "    </tr>\n",
       "  </tbody>\n",
       "</table>\n",
       "<p>557 rows × 7 columns</p>\n",
       "</div>"
      ],
      "text/plain": [
       "      캠핑(야영)장명               소재지도로명주소  야영사이트수 이용시간 이용요금     데이터기준일자  지역\n",
       "0        동화카라반    가평군 가평읍 가화로 440-151    13.0    0    0  2019-09-08  가평\n",
       "1    칼봉산카라반캠핑장       가평군 가평읍 경반안로 229    10.0    0    0  2019-09-08  가평\n",
       "2       베스트캠핑장     가평군 가평읍 금대리 302-10    18.0    0    0  2019-09-08  가평\n",
       "3      글램바오캠핑장     가평군 가평읍 금대리 302-15     6.0    0    0  2019-09-08  가평\n",
       "4     아담펜션&캠핑장   가평군 가평읍 당목가일길 410-68     7.0    0    0  2019-09-08  가평\n",
       "..         ...                    ...     ...  ...  ...         ...  ..\n",
       "552    힐링캠프글램핑           인천 중구 늘목로 38    14.0    0    0  2019-06-03  인천\n",
       "553        락인뜰           인천 중구 늘목로 38    23.0    0    0  2019-06-03  인천\n",
       "554       섬뜰아래         인천 중구 대무의로 229    15.0    0    0  2019-06-03  인천\n",
       "555  왕산가족오토캠핑장     인천 중구 용유서로423번길 42    75.0    0    0  2019-06-03  인천\n",
       "556      만정캠핑장      인천 중구 중산로29번길 174    44.0    0    0  2019-06-03  인천\n",
       "\n",
       "[557 rows x 7 columns]"
      ]
     },
     "execution_count": 24,
     "metadata": {},
     "output_type": "execute_result"
    }
   ],
   "source": [
    "camping_a = pd.read_csv(\"수도권_캠핑장지표.csv\",encoding='cp949') \n",
    "camping_a.fillna(0)\n"
   ]
  },
  {
   "cell_type": "code",
   "execution_count": 25,
   "id": "compliant-stadium",
   "metadata": {},
   "outputs": [
    {
     "data": {
      "text/html": [
       "<div>\n",
       "<style scoped>\n",
       "    .dataframe tbody tr th:only-of-type {\n",
       "        vertical-align: middle;\n",
       "    }\n",
       "\n",
       "    .dataframe tbody tr th {\n",
       "        vertical-align: top;\n",
       "    }\n",
       "\n",
       "    .dataframe thead th {\n",
       "        text-align: right;\n",
       "    }\n",
       "</style>\n",
       "<table border=\"1\" class=\"dataframe\">\n",
       "  <thead>\n",
       "    <tr style=\"text-align: right;\">\n",
       "      <th></th>\n",
       "      <th>지역코드</th>\n",
       "      <th>지역</th>\n",
       "    </tr>\n",
       "  </thead>\n",
       "  <tbody>\n",
       "    <tr>\n",
       "      <th>0</th>\n",
       "      <td>1</td>\n",
       "      <td>가평</td>\n",
       "    </tr>\n",
       "    <tr>\n",
       "      <th>1</th>\n",
       "      <td>2</td>\n",
       "      <td>고양</td>\n",
       "    </tr>\n",
       "    <tr>\n",
       "      <th>2</th>\n",
       "      <td>3</td>\n",
       "      <td>과천</td>\n",
       "    </tr>\n",
       "    <tr>\n",
       "      <th>3</th>\n",
       "      <td>4</td>\n",
       "      <td>광명</td>\n",
       "    </tr>\n",
       "    <tr>\n",
       "      <th>4</th>\n",
       "      <td>5</td>\n",
       "      <td>광주</td>\n",
       "    </tr>\n",
       "  </tbody>\n",
       "</table>\n",
       "</div>"
      ],
      "text/plain": [
       "   지역코드  지역\n",
       "0     1  가평\n",
       "1     2  고양\n",
       "2     3  과천\n",
       "3     4  광명\n",
       "4     5  광주"
      ]
     },
     "execution_count": 25,
     "metadata": {},
     "output_type": "execute_result"
    }
   ],
   "source": [
    "camping_b = pd.read_csv(\"캠핑장 지역코드.csv\",encoding='cp949') \n",
    "list_data = [1,2,3,4,5]\n",
    "camping_b.head()"
   ]
  },
  {
   "cell_type": "code",
   "execution_count": 26,
   "id": "exceptional-murray",
   "metadata": {},
   "outputs": [
    {
     "data": {
      "text/html": [
       "<div>\n",
       "<style scoped>\n",
       "    .dataframe tbody tr th:only-of-type {\n",
       "        vertical-align: middle;\n",
       "    }\n",
       "\n",
       "    .dataframe tbody tr th {\n",
       "        vertical-align: top;\n",
       "    }\n",
       "\n",
       "    .dataframe thead th {\n",
       "        text-align: right;\n",
       "    }\n",
       "</style>\n",
       "<table border=\"1\" class=\"dataframe\">\n",
       "  <thead>\n",
       "    <tr style=\"text-align: right;\">\n",
       "      <th></th>\n",
       "      <th>지역코드</th>\n",
       "    </tr>\n",
       "    <tr>\n",
       "      <th>지역</th>\n",
       "      <th></th>\n",
       "    </tr>\n",
       "  </thead>\n",
       "  <tbody>\n",
       "    <tr>\n",
       "      <th>가평</th>\n",
       "      <td>142</td>\n",
       "    </tr>\n",
       "    <tr>\n",
       "      <th>포천</th>\n",
       "      <td>100</td>\n",
       "    </tr>\n",
       "    <tr>\n",
       "      <th>양평</th>\n",
       "      <td>43</td>\n",
       "    </tr>\n",
       "  </tbody>\n",
       "</table>\n",
       "</div>"
      ],
      "text/plain": [
       "    지역코드\n",
       "지역      \n",
       "가평   142\n",
       "포천   100\n",
       "양평    43"
      ]
     },
     "execution_count": 26,
     "metadata": {},
     "output_type": "execute_result"
    }
   ],
   "source": [
    "camping_c = pd.merge(camping_a, camping_b, on='지역', how='inner')\n",
    "camping_d = camping_c.groupby('지역')['지역코드'].count()\n",
    "\n",
    "camping_d = pd.DataFrame(camping_d, columns = ['지역코드'])\n",
    "camping_e = camping_d.sort_values('지역코드', ascending=False)\n",
    "camping_e.head(3)"
   ]
  },
  {
   "cell_type": "markdown",
   "id": "efficient-moses",
   "metadata": {},
   "source": [
    "### 가장 많은 곳은 가평이다"
   ]
  },
  {
   "cell_type": "code",
   "execution_count": 28,
   "id": "funny-devon",
   "metadata": {},
   "outputs": [
    {
     "data": {
      "text/plain": [
       "<matplotlib.legend.Legend at 0x1e6c1954df0>"
      ]
     },
     "execution_count": 28,
     "metadata": {},
     "output_type": "execute_result"
    },
    {
     "data": {
      "image/png": "[encoded data removed]",
      "text/plain": [
       "<Figure size 864x288 with 1 Axes>"
      ]
     },
     "metadata": {
      "image/png": {
       "height": 294,
       "width": 727
      },
      "needs_background": "light"
     },
     "output_type": "display_data"
    }
   ],
   "source": [
    "ax = camping_e.plot(kind='bar', title='number of camping_zones', figsize=(12, 4), legend=True, fontsize=12)\n",
    "ax.set_xlabel('지역', fontsize=12)          # x축 정보 표시\n",
    "ax.set_ylabel('지역번호', fontsize=12)     # y축 정보 표시\n",
    "ax.legend(['지역번호'], fontsize=12)    # 범례 지정"
   ]
  },
  {
   "cell_type": "markdown",
   "id": "retired-holder",
   "metadata": {},
   "source": [
    "### 가평을 가기 위해 지나는 ic\n",
    "#### 19년의 평균 차량 수와 \n",
    "#### 20년의 차량 수"
   ]
  },
  {
   "cell_type": "code",
   "execution_count": 29,
   "id": "rational-spending",
   "metadata": {
    "scrolled": true
   },
   "outputs": [
    {
     "data": {
      "text/html": [
       "<div>\n",
       "<style scoped>\n",
       "    .dataframe tbody tr th:only-of-type {\n",
       "        vertical-align: middle;\n",
       "    }\n",
       "\n",
       "    .dataframe tbody tr th {\n",
       "        vertical-align: top;\n",
       "    }\n",
       "\n",
       "    .dataframe thead th {\n",
       "        text-align: right;\n",
       "    }\n",
       "</style>\n",
       "<table border=\"1\" class=\"dataframe\">\n",
       "  <thead>\n",
       "    <tr style=\"text-align: right;\">\n",
       "      <th>구간</th>\n",
       "      <th>남양주~화도</th>\n",
       "    </tr>\n",
       "  </thead>\n",
       "  <tbody>\n",
       "    <tr>\n",
       "      <th>mar</th>\n",
       "      <td>10791</td>\n",
       "    </tr>\n",
       "    <tr>\n",
       "      <th>apr</th>\n",
       "      <td>10124</td>\n",
       "    </tr>\n",
       "  </tbody>\n",
       "</table>\n",
       "</div>"
      ],
      "text/plain": [
       "구간    남양주~화도 \n",
       "mar     10791\n",
       "apr     10124"
      ]
     },
     "execution_count": 29,
     "metadata": {},
     "output_type": "execute_result"
    }
   ],
   "source": [
    "traffic_2019 = pd.read_csv(\"traffic_2019.csv\",encoding='cp949') \n",
    "\n",
    "df = traffic_2019\n",
    "traffic_19_34 = df[[\"구간\",\"mar\",\"apr\"]]\n",
    "traffic_19_34sum = traffic_19_34.groupby(\"구간\")[[\"mar\", \"apr\"]].sum()\n",
    "\n",
    "traffic_19 = traffic_19_34sum.T  # 남양주~화도 구간 3월, 4월의 일평균 통행차량(차종 합산)\n",
    "traffic_19"
   ]
  },
  {
   "cell_type": "code",
   "execution_count": 31,
   "id": "heavy-stevens",
   "metadata": {
    "scrolled": true
   },
   "outputs": [
    {
     "data": {
      "text/plain": [
       "<AxesSubplot:title={'center':'The number of cars (남양주 TG -> 화도 IC)'}>"
      ]
     },
     "execution_count": 31,
     "metadata": {},
     "output_type": "execute_result"
    },
    {
     "data": {
      "image/png": "[encoded data removed]",
      "text/plain": [
       "<Figure size 432x288 with 1 Axes>"
      ]
     },
     "metadata": {
      "image/png": {
       "height": 265,
       "width": 383
      },
      "needs_background": "light"
     },
     "output_type": "display_data"
    }
   ],
   "source": [
    "traffic_2020 = pd.read_csv(\"구간교통량OpenOASIS.csv\",encoding='cp949')\n",
    "traffic_2020['amount_of_cars']= traffic_2020['amount_of_cars'].apply(lambda x: x.replace(',', ''))\n",
    "traffic_2020 =  traffic_2020.amount_of_cars.astype(float)\n",
    "traffic_2020.plot(kind = 'bar', x = 'date', y = 'amount_of_cars',title = 'The number of cars (남양주 TG -> 화도 IC)',color = 'plum')\n",
    "\n",
    "\n",
    "#traffic_19.plot(kind = 'line', x = '구간', y = 'mar', color = 'purple')\n"
   ]
  },
  {
   "cell_type": "markdown",
   "id": "binding-essence",
   "metadata": {},
   "source": [
    "### 20년의 차량 수가 월등히 높은 것을 알 수 있다"
   ]
  },
  {
   "cell_type": "code",
   "execution_count": null,
   "id": "fatal-anime",
   "metadata": {},
   "outputs": [],
   "source": []
  }
 ],
 "metadata": {
  "kernelspec": {
   "display_name": "Python 3",
   "language": "python",
   "name": "python3"
  },
  "language_info": {
   "codemirror_mode": {
    "name": "ipython",
    "version": 3
   },
   "file_extension": ".py",
   "mimetype": "text/x-python",
   "name": "python",
   "nbconvert_exporter": "python",
   "pygments_lexer": "ipython3",
   "version": "3.8.5"
  }
 },
 "nbformat": 4,
 "nbformat_minor": 5
}
